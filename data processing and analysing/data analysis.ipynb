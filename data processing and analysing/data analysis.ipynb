{
 "cells": [
  {
   "cell_type": "markdown",
   "id": "e0d5381e",
   "metadata": {},
   "source": [
    "### Visualisation and time-series analysis"
   ]
  },
  {
   "cell_type": "markdown",
   "id": "6320c3d5",
   "metadata": {},
   "source": [
    "<span style=\"font-size: 12pt;\">This notebook shows the visualisation and time-series analysis of the processed dataset stored on Hadoop.</span>"
   ]
  },
  {
   "cell_type": "markdown",
   "id": "84a6c644",
   "metadata": {},
   "source": [
    "<br>"
   ]
  },
  {
   "cell_type": "code",
   "execution_count": 1,
   "id": "41cd86ac",
   "metadata": {},
   "outputs": [
    {
     "data": {
      "text/html": [
       "\n",
       "        <div>\n",
       "            <p><b>SparkContext</b></p>\n",
       "\n",
       "            <p><a href=\"http://10.0.2.15:4040\">Spark UI</a></p>\n",
       "\n",
       "            <dl>\n",
       "              <dt>Version</dt>\n",
       "                <dd><code>v3.2.4</code></dd>\n",
       "              <dt>Master</dt>\n",
       "                <dd><code>local[*]</code></dd>\n",
       "              <dt>AppName</dt>\n",
       "                <dd><code>PySparkShell</code></dd>\n",
       "            </dl>\n",
       "        </div>\n",
       "        "
      ],
      "text/plain": [
       "<SparkContext master=local[*] appName=PySparkShell>"
      ]
     },
     "execution_count": 1,
     "metadata": {},
     "output_type": "execute_result"
    }
   ],
   "source": [
    "sc # check pyspark status"
   ]
  },
  {
   "cell_type": "code",
   "execution_count": 2,
   "id": "ca6afc6b",
   "metadata": {},
   "outputs": [
    {
     "data": {
      "text/plain": [
       "'local[*]'"
      ]
     },
     "execution_count": 2,
     "metadata": {},
     "output_type": "execute_result"
    }
   ],
   "source": [
    "sc.master # check master"
   ]
  },
  {
   "cell_type": "code",
   "execution_count": 3,
   "id": "1ecbe3fc",
   "metadata": {
    "scrolled": true
   },
   "outputs": [
    {
     "name": "stderr",
     "output_type": "stream",
     "text": [
      "[Stage 1:>                                                          (0 + 1) / 1]\r"
     ]
    },
    {
     "name": "stdout",
     "output_type": "stream",
     "text": [
      "+----------+--------------------+---------+\n",
      "|      date|               texts|sentiment|\n",
      "+----------+--------------------+---------+\n",
      "|2021-09-01|absolutely blunt ...|   0.9894|\n",
      "|2021-09-01|canada essentiall...|  -0.1531|\n",
      "|2021-09-01| come climate change|        0|\n",
      "+----------+--------------------+---------+\n",
      "only showing top 3 rows\n",
      "\n"
     ]
    },
    {
     "name": "stderr",
     "output_type": "stream",
     "text": [
      "\r",
      "                                                                                \r"
     ]
    }
   ],
   "source": [
    "# Import data from Hadoop using Spark\n",
    "file_path = \"/sentiment/climate_change_sentiment.csv\"\n",
    "\n",
    "from pyspark.sql import SparkSession\n",
    "\n",
    "spark = SparkSession.builder.appName(\"Time-series analysis\").getOrCreate()\n",
    "\n",
    "climate_change = spark.read.format(\"csv\").option(\"header\", \"true\").option(\"multiline\", \"true\").load(file_path)\n",
    "climate_change.show(3)"
   ]
  },
  {
   "cell_type": "code",
   "execution_count": 4,
   "id": "3c867d40",
   "metadata": {},
   "outputs": [
    {
     "name": "stdout",
     "output_type": "stream",
     "text": [
      "+----+-----+---------+\n",
      "|date|texts|sentiment|\n",
      "+----+-----+---------+\n",
      "|   0|    0|        0|\n",
      "+----+-----+---------+\n",
      "\n"
     ]
    }
   ],
   "source": [
    "# Check missing value\n",
    "from pyspark.sql.functions import col, count, when\n",
    "\n",
    "# Count the number of missing values in each column\n",
    "missing_values = climate_change.select([count(when(col(c).isNull(), c)).alias(c) for c in climate_change.columns])\n",
    "\n",
    "# Display the missing value counts\n",
    "missing_values.show()"
   ]
  },
  {
   "cell_type": "code",
   "execution_count": 5,
   "id": "2dc0fb94",
   "metadata": {},
   "outputs": [
    {
     "name": "stdout",
     "output_type": "stream",
     "text": [
      "+----------+--------------------+---------+--------+\n",
      "|      date|               texts|sentiment|category|\n",
      "+----------+--------------------+---------+--------+\n",
      "|2021-09-01|absolutely blunt ...|   0.9894|positive|\n",
      "|2021-09-01|canada essentiall...|  -0.1531|negative|\n",
      "|2021-09-01| come climate change|      0.0| neutral|\n",
      "|2021-09-01|communism mean wo...|    0.872|positive|\n",
      "|2021-09-01|data always lined...|   0.4939|positive|\n",
      "+----------+--------------------+---------+--------+\n",
      "only showing top 5 rows\n",
      "\n"
     ]
    }
   ],
   "source": [
    "# Add new column \"category\" based on sentiments\n",
    "from pyspark.sql.types import DoubleType\n",
    "\n",
    "climate_change = climate_change.withColumn(\"sentiment\", climate_change[\"sentiment\"].cast(DoubleType()))\n",
    "climate_change = climate_change.withColumn(\n",
    "    \"category\", when(climate_change.sentiment > 0, \"positive\").when(climate_change.sentiment < 0, \"negative\").otherwise(\"neutral\"))\n",
    "\n",
    "climate_change.show(5)"
   ]
  },
  {
   "cell_type": "markdown",
   "id": "6ee6a1d8",
   "metadata": {},
   "source": [
    "<br>"
   ]
  },
  {
   "cell_type": "markdown",
   "id": "fb44e842",
   "metadata": {},
   "source": [
    "### change to pandas dataframe"
   ]
  },
  {
   "cell_type": "code",
   "execution_count": 6,
   "id": "5bfd8450",
   "metadata": {},
   "outputs": [],
   "source": [
    "# Import mandatory libraries\n",
    "import pandas as pd\n",
    "import matplotlib.pyplot as plt\n",
    "import seaborn as sns\n",
    "import numpy as np\n",
    "%matplotlib inline"
   ]
  },
  {
   "cell_type": "code",
   "execution_count": 7,
   "id": "62b5d87d",
   "metadata": {},
   "outputs": [
    {
     "name": "stderr",
     "output_type": "stream",
     "text": [
      "                                                                                \r"
     ]
    },
    {
     "data": {
      "text/html": [
       "<div>\n",
       "<style scoped>\n",
       "    .dataframe tbody tr th:only-of-type {\n",
       "        vertical-align: middle;\n",
       "    }\n",
       "\n",
       "    .dataframe tbody tr th {\n",
       "        vertical-align: top;\n",
       "    }\n",
       "\n",
       "    .dataframe thead th {\n",
       "        text-align: right;\n",
       "    }\n",
       "</style>\n",
       "<table border=\"1\" class=\"dataframe\">\n",
       "  <thead>\n",
       "    <tr style=\"text-align: right;\">\n",
       "      <th></th>\n",
       "      <th>date</th>\n",
       "      <th>texts</th>\n",
       "      <th>sentiment</th>\n",
       "      <th>category</th>\n",
       "    </tr>\n",
       "  </thead>\n",
       "  <tbody>\n",
       "    <tr>\n",
       "      <th>0</th>\n",
       "      <td>2021-09-01</td>\n",
       "      <td>absolutely blunt care person want power canada...</td>\n",
       "      <td>0.9894</td>\n",
       "      <td>positive</td>\n",
       "    </tr>\n",
       "    <tr>\n",
       "      <th>1</th>\n",
       "      <td>2021-09-01</td>\n",
       "      <td>canada essentially upgraded version united sta...</td>\n",
       "      <td>-0.1531</td>\n",
       "      <td>negative</td>\n",
       "    </tr>\n",
       "    <tr>\n",
       "      <th>2</th>\n",
       "      <td>2021-09-01</td>\n",
       "      <td>come climate change</td>\n",
       "      <td>0.0000</td>\n",
       "      <td>neutral</td>\n",
       "    </tr>\n",
       "    <tr>\n",
       "      <th>3</th>\n",
       "      <td>2021-09-01</td>\n",
       "      <td>communism mean worker compensated worker contr...</td>\n",
       "      <td>0.8720</td>\n",
       "      <td>positive</td>\n",
       "    </tr>\n",
       "    <tr>\n",
       "      <th>4</th>\n",
       "      <td>2021-09-01</td>\n",
       "      <td>data always lined predicted faster expected pl...</td>\n",
       "      <td>0.4939</td>\n",
       "      <td>positive</td>\n",
       "    </tr>\n",
       "  </tbody>\n",
       "</table>\n",
       "</div>"
      ],
      "text/plain": [
       "         date                                              texts  sentiment  \\\n",
       "0  2021-09-01  absolutely blunt care person want power canada...     0.9894   \n",
       "1  2021-09-01  canada essentially upgraded version united sta...    -0.1531   \n",
       "2  2021-09-01                                come climate change     0.0000   \n",
       "3  2021-09-01  communism mean worker compensated worker contr...     0.8720   \n",
       "4  2021-09-01  data always lined predicted faster expected pl...     0.4939   \n",
       "\n",
       "   category  \n",
       "0  positive  \n",
       "1  negative  \n",
       "2   neutral  \n",
       "3  positive  \n",
       "4  positive  "
      ]
     },
     "execution_count": 7,
     "metadata": {},
     "output_type": "execute_result"
    }
   ],
   "source": [
    "# Change to pandas dataframe\n",
    "climate_change_sentiment = climate_change.toPandas()\n",
    "climate_change_sentiment.head()"
   ]
  }
 ],
 "metadata": {
  "kernelspec": {
   "display_name": "Python 3 (ipykernel)",
   "language": "python",
   "name": "python3"
  },
  "language_info": {
   "codemirror_mode": {
    "name": "ipython",
    "version": 3
   },
   "file_extension": ".py",
   "mimetype": "text/x-python",
   "name": "python",
   "nbconvert_exporter": "python",
   "pygments_lexer": "ipython3",
   "version": "3.10.9"
  }
 },
 "nbformat": 4,
 "nbformat_minor": 5
}
