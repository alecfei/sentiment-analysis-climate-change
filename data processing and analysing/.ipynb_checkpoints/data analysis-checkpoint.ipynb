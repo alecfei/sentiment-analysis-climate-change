{
 "cells": [
  {
   "cell_type": "markdown",
   "id": "a8fcbea2",
   "metadata": {},
   "source": [
    "### Visualisation and time-series analysis"
   ]
  },
  {
   "cell_type": "markdown",
   "id": "173ec4c4",
   "metadata": {},
   "source": [
    "<span style=\"font-size: 12pt;\">This notebook shows the visualisation and time-series analysis of the processed dataset stored on Hadoop.</span>"
   ]
  },
  {
   "cell_type": "markdown",
   "id": "4039cb6b",
   "metadata": {},
   "source": [
    "<br>"
   ]
  },
  {
   "cell_type": "code",
   "execution_count": 1,
   "id": "41cd86ac",
   "metadata": {},
   "outputs": [
    {
     "data": {
      "text/html": [
       "\n",
       "        <div>\n",
       "            <p><b>SparkContext</b></p>\n",
       "\n",
       "            <p><a href=\"http://10.0.2.15:4040\">Spark UI</a></p>\n",
       "\n",
       "            <dl>\n",
       "              <dt>Version</dt>\n",
       "                <dd><code>v3.2.4</code></dd>\n",
       "              <dt>Master</dt>\n",
       "                <dd><code>local[*]</code></dd>\n",
       "              <dt>AppName</dt>\n",
       "                <dd><code>PySparkShell</code></dd>\n",
       "            </dl>\n",
       "        </div>\n",
       "        "
      ],
      "text/plain": [
       "<SparkContext master=local[*] appName=PySparkShell>"
      ]
     },
     "execution_count": 1,
     "metadata": {},
     "output_type": "execute_result"
    }
   ],
   "source": [
    "sc # check pyspark status"
   ]
  },
  {
   "cell_type": "code",
   "execution_count": 2,
   "id": "ca6afc6b",
   "metadata": {},
   "outputs": [
    {
     "data": {
      "text/plain": [
       "'local[*]'"
      ]
     },
     "execution_count": 2,
     "metadata": {},
     "output_type": "execute_result"
    }
   ],
   "source": [
    "sc.master # check master"
   ]
  },
  {
   "cell_type": "code",
   "execution_count": 3,
   "id": "1ecbe3fc",
   "metadata": {
    "scrolled": true
   },
   "outputs": [
    {
     "name": "stderr",
     "output_type": "stream",
     "text": [
      "                                                                                \r"
     ]
    },
    {
     "name": "stdout",
     "output_type": "stream",
     "text": [
      "+----------+--------------------+---------+\n",
      "|      date|               texts|sentiment|\n",
      "+----------+--------------------+---------+\n",
      "|2021-09-01|absolutely blunt ...|   0.9894|\n",
      "|2021-09-01|canada essentiall...|  -0.1531|\n",
      "|2021-09-01| come climate change|        0|\n",
      "+----------+--------------------+---------+\n",
      "only showing top 3 rows\n",
      "\n"
     ]
    }
   ],
   "source": [
    "# Import data from Hadoop using Spark\n",
    "file_path = \"/sentiment/climate_change_sentiment.csv\"\n",
    "\n",
    "from pyspark.sql import SparkSession\n",
    "\n",
    "spark = SparkSession.builder.appName(\"Time-series analysis\").getOrCreate()\n",
    "\n",
    "climate_change = spark.read.format(\"csv\").option(\"header\", \"true\").option(\"multiline\", \"true\").load(file_path)\n",
    "climate_change.show(3)"
   ]
  },
  {
   "cell_type": "code",
   "execution_count": 4,
   "id": "9c850525",
   "metadata": {},
   "outputs": [
    {
     "name": "stderr",
     "output_type": "stream",
     "text": [
      "\r",
      "[Stage 2:>                                                          (0 + 1) / 1]\r"
     ]
    },
    {
     "name": "stdout",
     "output_type": "stream",
     "text": [
      "+----+-----+---------+\n",
      "|date|texts|sentiment|\n",
      "+----+-----+---------+\n",
      "|   0|    0|        0|\n",
      "+----+-----+---------+\n",
      "\n"
     ]
    },
    {
     "name": "stderr",
     "output_type": "stream",
     "text": [
      "\r",
      "                                                                                \r"
     ]
    }
   ],
   "source": [
    "# Check missing value\n",
    "from pyspark.sql.functions import col, count, when\n",
    "\n",
    "# Count the number of missing values in each column\n",
    "missing_values = climate_change.select([count(when(col(c).isNull(), c)).alias(c) for c in climate_change.columns])\n",
    "\n",
    "# Display the missing value counts\n",
    "missing_values.show()"
   ]
  },
  {
   "cell_type": "code",
   "execution_count": 5,
   "id": "9d8457cf",
   "metadata": {},
   "outputs": [
    {
     "name": "stdout",
     "output_type": "stream",
     "text": [
      "+----------+--------------------+---------+--------+\n",
      "|      date|               texts|sentiment|category|\n",
      "+----------+--------------------+---------+--------+\n",
      "|2021-09-01|absolutely blunt ...|   0.9894|positive|\n",
      "|2021-09-01|canada essentiall...|  -0.1531|negative|\n",
      "|2021-09-01| come climate change|      0.0| neutral|\n",
      "|2021-09-01|communism mean wo...|    0.872|positive|\n",
      "|2021-09-01|data always lined...|   0.4939|positive|\n",
      "+----------+--------------------+---------+--------+\n",
      "only showing top 5 rows\n",
      "\n"
     ]
    }
   ],
   "source": [
    "# Add new column \"category\" based on sentiments\n",
    "from pyspark.sql.types import DoubleType\n",
    "\n",
    "climate_change = climate_change.withColumn(\"sentiment\", climate_change[\"sentiment\"].cast(DoubleType()))\n",
    "climate_change = climate_change.withColumn(\n",
    "    \"category\", when(climate_change.sentiment > 0, \"positive\").when(climate_change.sentiment < 0, \"negative\").otherwise(\"neutral\"))\n",
    "\n",
    "climate_change.show(5)"
   ]
  },
  {
   "cell_type": "markdown",
   "id": "a9c5305e",
   "metadata": {},
   "source": [
    "<br>"
   ]
  },
  {
   "cell_type": "markdown",
   "id": "6b298eb3",
   "metadata": {},
   "source": [
    "### change to pandas dataframe"
   ]
  },
  {
   "cell_type": "code",
   "execution_count": 6,
   "id": "5bfd8450",
   "metadata": {},
   "outputs": [],
   "source": [
    "# Import mandatory libraries\n",
    "import pandas as pd"
   ]
  },
  {
   "cell_type": "code",
   "execution_count": 7,
   "id": "62b5d87d",
   "metadata": {},
   "outputs": [
    {
     "name": "stderr",
     "output_type": "stream",
     "text": [
      "                                                                                \r"
     ]
    },
    {
     "data": {
      "text/html": [
       "<div>\n",
       "<style scoped>\n",
       "    .dataframe tbody tr th:only-of-type {\n",
       "        vertical-align: middle;\n",
       "    }\n",
       "\n",
       "    .dataframe tbody tr th {\n",
       "        vertical-align: top;\n",
       "    }\n",
       "\n",
       "    .dataframe thead th {\n",
       "        text-align: right;\n",
       "    }\n",
       "</style>\n",
       "<table border=\"1\" class=\"dataframe\">\n",
       "  <thead>\n",
       "    <tr style=\"text-align: right;\">\n",
       "      <th></th>\n",
       "      <th>date</th>\n",
       "      <th>texts</th>\n",
       "      <th>sentiment</th>\n",
       "      <th>category</th>\n",
       "    </tr>\n",
       "  </thead>\n",
       "  <tbody>\n",
       "    <tr>\n",
       "      <th>0</th>\n",
       "      <td>2021-09-01</td>\n",
       "      <td>absolutely blunt care person want power canada...</td>\n",
       "      <td>0.9894</td>\n",
       "      <td>positive</td>\n",
       "    </tr>\n",
       "    <tr>\n",
       "      <th>1</th>\n",
       "      <td>2021-09-01</td>\n",
       "      <td>canada essentially upgraded version united sta...</td>\n",
       "      <td>-0.1531</td>\n",
       "      <td>negative</td>\n",
       "    </tr>\n",
       "    <tr>\n",
       "      <th>2</th>\n",
       "      <td>2021-09-01</td>\n",
       "      <td>come climate change</td>\n",
       "      <td>0.0000</td>\n",
       "      <td>neutral</td>\n",
       "    </tr>\n",
       "    <tr>\n",
       "      <th>3</th>\n",
       "      <td>2021-09-01</td>\n",
       "      <td>communism mean worker compensated worker contr...</td>\n",
       "      <td>0.8720</td>\n",
       "      <td>positive</td>\n",
       "    </tr>\n",
       "    <tr>\n",
       "      <th>4</th>\n",
       "      <td>2021-09-01</td>\n",
       "      <td>data always lined predicted faster expected pl...</td>\n",
       "      <td>0.4939</td>\n",
       "      <td>positive</td>\n",
       "    </tr>\n",
       "  </tbody>\n",
       "</table>\n",
       "</div>"
      ],
      "text/plain": [
       "         date                                              texts  sentiment  \\\n",
       "0  2021-09-01  absolutely blunt care person want power canada...     0.9894   \n",
       "1  2021-09-01  canada essentially upgraded version united sta...    -0.1531   \n",
       "2  2021-09-01                                come climate change     0.0000   \n",
       "3  2021-09-01  communism mean worker compensated worker contr...     0.8720   \n",
       "4  2021-09-01  data always lined predicted faster expected pl...     0.4939   \n",
       "\n",
       "   category  \n",
       "0  positive  \n",
       "1  negative  \n",
       "2   neutral  \n",
       "3  positive  \n",
       "4  positive  "
      ]
     },
     "execution_count": 7,
     "metadata": {},
     "output_type": "execute_result"
    }
   ],
   "source": [
    "# Change to pandas dataframe\n",
    "climate_change_sentiment = climate_change.toPandas()\n",
    "climate_change_sentiment.head()"
   ]
  },
  {
   "cell_type": "code",
   "execution_count": 8,
   "id": "ea409b39",
   "metadata": {},
   "outputs": [
    {
     "data": {
      "text/plain": [
       "(7300, 4)"
      ]
     },
     "execution_count": 8,
     "metadata": {},
     "output_type": "execute_result"
    }
   ],
   "source": [
    "climate_change_sentiment.shape"
   ]
  },
  {
   "cell_type": "code",
   "execution_count": 9,
   "id": "ecb386c7",
   "metadata": {},
   "outputs": [
    {
     "data": {
      "text/plain": [
       "6"
      ]
     },
     "execution_count": 9,
     "metadata": {},
     "output_type": "execute_result"
    }
   ],
   "source": [
    "climate_change_sentiment.duplicated().sum()"
   ]
  },
  {
   "cell_type": "code",
   "execution_count": 10,
   "id": "b1594155",
   "metadata": {},
   "outputs": [
    {
     "data": {
      "text/html": [
       "<div>\n",
       "<style scoped>\n",
       "    .dataframe tbody tr th:only-of-type {\n",
       "        vertical-align: middle;\n",
       "    }\n",
       "\n",
       "    .dataframe tbody tr th {\n",
       "        vertical-align: top;\n",
       "    }\n",
       "\n",
       "    .dataframe thead th {\n",
       "        text-align: right;\n",
       "    }\n",
       "</style>\n",
       "<table border=\"1\" class=\"dataframe\">\n",
       "  <thead>\n",
       "    <tr style=\"text-align: right;\">\n",
       "      <th></th>\n",
       "      <th>date</th>\n",
       "      <th>texts</th>\n",
       "      <th>sentiment</th>\n",
       "      <th>category</th>\n",
       "    </tr>\n",
       "  </thead>\n",
       "  <tbody>\n",
       "    <tr>\n",
       "      <th>642</th>\n",
       "      <td>2021-10-03</td>\n",
       "      <td>climate change</td>\n",
       "      <td>0.0000</td>\n",
       "      <td>neutral</td>\n",
       "    </tr>\n",
       "    <tr>\n",
       "      <th>2126</th>\n",
       "      <td>2021-12-16</td>\n",
       "      <td>climate change</td>\n",
       "      <td>0.0000</td>\n",
       "      <td>neutral</td>\n",
       "    </tr>\n",
       "    <tr>\n",
       "      <th>2325</th>\n",
       "      <td>2021-12-26</td>\n",
       "      <td>climate change</td>\n",
       "      <td>0.0000</td>\n",
       "      <td>neutral</td>\n",
       "    </tr>\n",
       "    <tr>\n",
       "      <th>3952</th>\n",
       "      <td>2022-03-17</td>\n",
       "      <td>nft proarguments argument written mrmoustachem...</td>\n",
       "      <td>0.9986</td>\n",
       "      <td>positive</td>\n",
       "    </tr>\n",
       "    <tr>\n",
       "      <th>4925</th>\n",
       "      <td>2022-05-05</td>\n",
       "      <td>climate change</td>\n",
       "      <td>0.0000</td>\n",
       "      <td>neutral</td>\n",
       "    </tr>\n",
       "    <tr>\n",
       "      <th>6464</th>\n",
       "      <td>2022-07-21</td>\n",
       "      <td>climate change isnt real</td>\n",
       "      <td>0.0000</td>\n",
       "      <td>neutral</td>\n",
       "    </tr>\n",
       "  </tbody>\n",
       "</table>\n",
       "</div>"
      ],
      "text/plain": [
       "            date                                              texts  \\\n",
       "642   2021-10-03                                     climate change   \n",
       "2126  2021-12-16                                     climate change   \n",
       "2325  2021-12-26                                     climate change   \n",
       "3952  2022-03-17  nft proarguments argument written mrmoustachem...   \n",
       "4925  2022-05-05                                     climate change   \n",
       "6464  2022-07-21                           climate change isnt real   \n",
       "\n",
       "      sentiment  category  \n",
       "642      0.0000   neutral  \n",
       "2126     0.0000   neutral  \n",
       "2325     0.0000   neutral  \n",
       "3952     0.9986  positive  \n",
       "4925     0.0000   neutral  \n",
       "6464     0.0000   neutral  "
      ]
     },
     "execution_count": 10,
     "metadata": {},
     "output_type": "execute_result"
    }
   ],
   "source": [
    "# Check what is duplicating\n",
    "duplicate_bool = climate_change_sentiment.duplicated(\n",
    "    subset = [\"date\", \"texts\", \"sentiment\", \"category\"], \n",
    "    keep = \"first\")\n",
    "duplicate = climate_change_sentiment.loc[duplicate_bool == True]\n",
    "duplicate"
   ]
  },
  {
   "cell_type": "markdown",
   "id": "980c93be",
   "metadata": {},
   "source": [
    "<br>"
   ]
  },
  {
   "cell_type": "markdown",
   "id": "5227b05d",
   "metadata": {},
   "source": [
    "<span style=\"font-size: 12pt;\">*The potential reason of the duplicated items showing above is that the comments people posted are the same, for example \"climate change\". However, these are still opnions from different person. In order to avoid bias, these duplicates were not dropped.*</span>"
   ]
  },
  {
   "cell_type": "markdown",
   "id": "4ae16064",
   "metadata": {},
   "source": [
    "<br>"
   ]
  },
  {
   "cell_type": "code",
   "execution_count": 11,
   "id": "778db897",
   "metadata": {},
   "outputs": [
    {
     "name": "stdout",
     "output_type": "stream",
     "text": [
      "<class 'pandas.core.frame.DataFrame'>\n",
      "RangeIndex: 7300 entries, 0 to 7299\n",
      "Data columns (total 4 columns):\n",
      " #   Column     Non-Null Count  Dtype  \n",
      "---  ------     --------------  -----  \n",
      " 0   date       7300 non-null   object \n",
      " 1   texts      7300 non-null   object \n",
      " 2   sentiment  7300 non-null   float64\n",
      " 3   category   7300 non-null   object \n",
      "dtypes: float64(1), object(3)\n",
      "memory usage: 228.2+ KB\n"
     ]
    }
   ],
   "source": [
    "climate_change_sentiment.info()"
   ]
  },
  {
   "cell_type": "code",
   "execution_count": 12,
   "id": "345bcfb1",
   "metadata": {},
   "outputs": [
    {
     "name": "stdout",
     "output_type": "stream",
     "text": [
      "<class 'pandas.core.frame.DataFrame'>\n",
      "RangeIndex: 7300 entries, 0 to 7299\n",
      "Data columns (total 4 columns):\n",
      " #   Column     Non-Null Count  Dtype         \n",
      "---  ------     --------------  -----         \n",
      " 0   date       7300 non-null   datetime64[ns]\n",
      " 1   texts      7300 non-null   object        \n",
      " 2   sentiment  7300 non-null   float64       \n",
      " 3   category   7300 non-null   object        \n",
      "dtypes: datetime64[ns](1), float64(1), object(2)\n",
      "memory usage: 228.2+ KB\n"
     ]
    }
   ],
   "source": [
    "# Convert \"date\" type\n",
    "climate_change_sentiment[\"date\"] = pd.to_datetime(climate_change_sentiment[\"date\"])\n",
    "climate_change_sentiment.info()"
   ]
  },
  {
   "cell_type": "markdown",
   "id": "c2ad5c6e",
   "metadata": {},
   "source": [
    "- <span style=\"font-size: 13pt;\">***visualisation***</span>"
   ]
  },
  {
   "cell_type": "code",
   "execution_count": 13,
   "id": "fcb5e336",
   "metadata": {},
   "outputs": [],
   "source": [
    "import matplotlib.pyplot as plt\n",
    "import seaborn as sns\n",
    "import numpy as np\n",
    "%matplotlib inline"
   ]
  },
  {
   "cell_type": "code",
   "execution_count": 19,
   "id": "bea0e055",
   "metadata": {
    "scrolled": false
   },
   "outputs": [
    {
     "data": {
      "image/png": "[encoded data removed]",
      "text/plain": [
       "<Figure size 600x600 with 1 Axes>"
      ]
     },
     "metadata": {},
     "output_type": "display_data"
    }
   ],
   "source": [
    "# Visualise the value counts in \"category\"\n",
    "category_counts = climate_change_sentiment[\"category\"].value_counts()\n",
    "\n",
    "fig, axes = plt.subplots(figsize=(6, 6))\n",
    "fig.suptitle(\"Count of different sentimental categories from 2021 to 2022\")\n",
    "\n",
    "sns.set_theme(style=\"whitegrid\")\n",
    "\n",
    "ranks = climate_change_sentiment[\"category\"].sort_values().index\n",
    "\n",
    "palette = sns.color_palette(\"Set3\", len(ranks))\n",
    "\n",
    "sns.countplot(ax=axes, data=climate_change_sentiment, x=\"category\",\n",
    "              linewidth=3, hue=\"category\",\n",
    "              palette = np.array(palette)[ranks], dodge = False)\n",
    "\n",
    "axes.set_xlabel(\"Category\")\n",
    "axes.set_ylabel(\"Count\")\n",
    "\n",
    "plt.legend(title=\"category\", bbox_to_anchor=(1.3, 1),\n",
    "           frameon=True, ncol=1,\n",
    "           markerfirst=False, shadow=True)\n",
    "\n",
    "for container in axes.containers:\n",
    "    axes.bar_label(container)\n",
    "\n",
    "axes.set_ylim(0, max(category_counts))\n",
    "\n",
    "plt.show()"
   ]
  },
  {
   "cell_type": "code",
   "execution_count": 15,
   "id": "0a39555f",
   "metadata": {},
   "outputs": [
    {
     "data": {
      "text/html": [
       "<div>\n",
       "<style scoped>\n",
       "    .dataframe tbody tr th:only-of-type {\n",
       "        vertical-align: middle;\n",
       "    }\n",
       "\n",
       "    .dataframe tbody tr th {\n",
       "        vertical-align: top;\n",
       "    }\n",
       "\n",
       "    .dataframe thead th {\n",
       "        text-align: right;\n",
       "    }\n",
       "</style>\n",
       "<table border=\"1\" class=\"dataframe\">\n",
       "  <thead>\n",
       "    <tr style=\"text-align: right;\">\n",
       "      <th></th>\n",
       "      <th>date</th>\n",
       "      <th>sentiment</th>\n",
       "    </tr>\n",
       "  </thead>\n",
       "  <tbody>\n",
       "    <tr>\n",
       "      <th>7294</th>\n",
       "      <td>2022-08-31</td>\n",
       "      <td>-0.3408</td>\n",
       "    </tr>\n",
       "    <tr>\n",
       "      <th>7295</th>\n",
       "      <td>2022-08-31</td>\n",
       "      <td>0.9879</td>\n",
       "    </tr>\n",
       "    <tr>\n",
       "      <th>7296</th>\n",
       "      <td>2022-08-31</td>\n",
       "      <td>0.8360</td>\n",
       "    </tr>\n",
       "    <tr>\n",
       "      <th>7297</th>\n",
       "      <td>2022-08-31</td>\n",
       "      <td>0.6597</td>\n",
       "    </tr>\n",
       "    <tr>\n",
       "      <th>7298</th>\n",
       "      <td>2022-08-31</td>\n",
       "      <td>0.4031</td>\n",
       "    </tr>\n",
       "    <tr>\n",
       "      <th>7299</th>\n",
       "      <td>2022-08-31</td>\n",
       "      <td>0.7430</td>\n",
       "    </tr>\n",
       "  </tbody>\n",
       "</table>\n",
       "</div>"
      ],
      "text/plain": [
       "           date  sentiment\n",
       "7294 2022-08-31    -0.3408\n",
       "7295 2022-08-31     0.9879\n",
       "7296 2022-08-31     0.8360\n",
       "7297 2022-08-31     0.6597\n",
       "7298 2022-08-31     0.4031\n",
       "7299 2022-08-31     0.7430"
      ]
     },
     "execution_count": 15,
     "metadata": {},
     "output_type": "execute_result"
    }
   ],
   "source": [
    "# Create a new dataframe {sentiment} only contains \"date\" and \"sentiment\"\n",
    "sentiment = climate_change_sentiment[[\"date\", \"sentiment\"]].copy()\n",
    "sentiment.tail(6)"
   ]
  },
  {
   "cell_type": "code",
   "execution_count": 16,
   "id": "6756c04f",
   "metadata": {},
   "outputs": [
    {
     "data": {
      "text/html": [
       "<div>\n",
       "<style scoped>\n",
       "    .dataframe tbody tr th:only-of-type {\n",
       "        vertical-align: middle;\n",
       "    }\n",
       "\n",
       "    .dataframe tbody tr th {\n",
       "        vertical-align: top;\n",
       "    }\n",
       "\n",
       "    .dataframe thead th {\n",
       "        text-align: right;\n",
       "    }\n",
       "</style>\n",
       "<table border=\"1\" class=\"dataframe\">\n",
       "  <thead>\n",
       "    <tr style=\"text-align: right;\">\n",
       "      <th></th>\n",
       "      <th>date</th>\n",
       "      <th>average sentiment</th>\n",
       "    </tr>\n",
       "  </thead>\n",
       "  <tbody>\n",
       "    <tr>\n",
       "      <th>0</th>\n",
       "      <td>2021-09-01</td>\n",
       "      <td>0.066240</td>\n",
       "    </tr>\n",
       "    <tr>\n",
       "      <th>1</th>\n",
       "      <td>2021-09-02</td>\n",
       "      <td>0.056645</td>\n",
       "    </tr>\n",
       "    <tr>\n",
       "      <th>2</th>\n",
       "      <td>2021-09-03</td>\n",
       "      <td>0.006905</td>\n",
       "    </tr>\n",
       "    <tr>\n",
       "      <th>3</th>\n",
       "      <td>2021-09-04</td>\n",
       "      <td>0.062800</td>\n",
       "    </tr>\n",
       "    <tr>\n",
       "      <th>4</th>\n",
       "      <td>2021-09-05</td>\n",
       "      <td>-0.087550</td>\n",
       "    </tr>\n",
       "  </tbody>\n",
       "</table>\n",
       "</div>"
      ],
      "text/plain": [
       "        date  average sentiment\n",
       "0 2021-09-01           0.066240\n",
       "1 2021-09-02           0.056645\n",
       "2 2021-09-03           0.006905\n",
       "3 2021-09-04           0.062800\n",
       "4 2021-09-05          -0.087550"
      ]
     },
     "execution_count": 16,
     "metadata": {},
     "output_type": "execute_result"
    }
   ],
   "source": [
    "# Aggregate the average of the sentiments based on \"date\"\n",
    "sentiment_final = sentiment.groupby(\"date\")[\"sentiment\"].mean().reset_index()\n",
    "sentiment_final.columns = [\"date\", \"average sentiment\"]\n",
    "sentiment_final.head()"
   ]
  },
  {
   "cell_type": "code",
   "execution_count": 17,
   "id": "0e12963b",
   "metadata": {},
   "outputs": [
    {
     "data": {
      "text/html": [
       "<div>\n",
       "<style scoped>\n",
       "    .dataframe tbody tr th:only-of-type {\n",
       "        vertical-align: middle;\n",
       "    }\n",
       "\n",
       "    .dataframe tbody tr th {\n",
       "        vertical-align: top;\n",
       "    }\n",
       "\n",
       "    .dataframe thead th {\n",
       "        text-align: right;\n",
       "    }\n",
       "</style>\n",
       "<table border=\"1\" class=\"dataframe\">\n",
       "  <thead>\n",
       "    <tr style=\"text-align: right;\">\n",
       "      <th></th>\n",
       "      <th>date</th>\n",
       "      <th>average sentiment</th>\n",
       "      <th>category</th>\n",
       "    </tr>\n",
       "  </thead>\n",
       "  <tbody>\n",
       "    <tr>\n",
       "      <th>0</th>\n",
       "      <td>2021-09-01</td>\n",
       "      <td>0.066240</td>\n",
       "      <td>positive</td>\n",
       "    </tr>\n",
       "    <tr>\n",
       "      <th>1</th>\n",
       "      <td>2021-09-02</td>\n",
       "      <td>0.056645</td>\n",
       "      <td>positive</td>\n",
       "    </tr>\n",
       "    <tr>\n",
       "      <th>2</th>\n",
       "      <td>2021-09-03</td>\n",
       "      <td>0.006905</td>\n",
       "      <td>positive</td>\n",
       "    </tr>\n",
       "    <tr>\n",
       "      <th>3</th>\n",
       "      <td>2021-09-04</td>\n",
       "      <td>0.062800</td>\n",
       "      <td>positive</td>\n",
       "    </tr>\n",
       "    <tr>\n",
       "      <th>4</th>\n",
       "      <td>2021-09-05</td>\n",
       "      <td>-0.087550</td>\n",
       "      <td>negative</td>\n",
       "    </tr>\n",
       "    <tr>\n",
       "      <th>5</th>\n",
       "      <td>2021-09-06</td>\n",
       "      <td>-0.000375</td>\n",
       "      <td>negative</td>\n",
       "    </tr>\n",
       "    <tr>\n",
       "      <th>6</th>\n",
       "      <td>2021-09-07</td>\n",
       "      <td>-0.201935</td>\n",
       "      <td>negative</td>\n",
       "    </tr>\n",
       "    <tr>\n",
       "      <th>7</th>\n",
       "      <td>2021-09-08</td>\n",
       "      <td>0.074290</td>\n",
       "      <td>positive</td>\n",
       "    </tr>\n",
       "  </tbody>\n",
       "</table>\n",
       "</div>"
      ],
      "text/plain": [
       "        date  average sentiment  category\n",
       "0 2021-09-01           0.066240  positive\n",
       "1 2021-09-02           0.056645  positive\n",
       "2 2021-09-03           0.006905  positive\n",
       "3 2021-09-04           0.062800  positive\n",
       "4 2021-09-05          -0.087550  negative\n",
       "5 2021-09-06          -0.000375  negative\n",
       "6 2021-09-07          -0.201935  negative\n",
       "7 2021-09-08           0.074290  positive"
      ]
     },
     "execution_count": 17,
     "metadata": {},
     "output_type": "execute_result"
    }
   ],
   "source": [
    "# Add \"category\" and assign to a new dataframe\n",
    "sentiment_final_category = sentiment_final.copy()\n",
    "sentiment_final_category[\"category\"] = pd.cut(sentiment_final_category[\"average sentiment\"], \n",
    "                                              bins=[-float(\"inf\"), 0, float(\"inf\")], \n",
    "                                              labels=[\"negative\", \"positive\"])\n",
    "\n",
    "sentiment_final_category.head(8)"
   ]
  },
  {
   "cell_type": "code",
   "execution_count": 18,
   "id": "0ea44108",
   "metadata": {
    "scrolled": false
   },
   "outputs": [
    {
     "data": {
      "image/png": "[encoded data removed]",
      "text/plain": [
       "<Figure size 600x600 with 1 Axes>"
      ]
     },
     "metadata": {},
     "output_type": "display_data"
    }
   ],
   "source": [
    "# Visualise the value counts of average sentiments\n",
    "category_counts2 = sentiment_final_category[\"category\"].value_counts()\n",
    "\n",
    "fig, axes = plt.subplots(figsize=(6, 6))\n",
    "fig.suptitle(\"Count of average sentiments from 2021 to 2022\")\n",
    "\n",
    "sns.set_theme(style=\"whitegrid\")\n",
    "\n",
    "ranks = sentiment_final_category[\"category\"].sort_values().index\n",
    "\n",
    "palette = sns.color_palette(\"Set1\", len(ranks))\n",
    "\n",
    "sns.countplot(ax=axes, data=sentiment_final_category, x=\"category\",\n",
    "              linewidth=3, hue=\"category\",\n",
    "              palette = np.array(palette)[ranks], dodge = False)\n",
    "\n",
    "axes.set_xlabel(\"Category\")\n",
    "axes.set_ylabel(\"Count\")\n",
    "\n",
    "plt.legend(title=\"category\", bbox_to_anchor=(1.3, 1),\n",
    "           frameon=True, ncol=1,\n",
    "           markerfirst=False, shadow=True)\n",
    "\n",
    "for container in axes.containers:\n",
    "    axes.bar_label(container)\n",
    "\n",
    "axes.set_ylim(0, max(category_counts2))\n",
    "\n",
    "plt.show()"
   ]
  },
  {
   "cell_type": "code",
   "execution_count": null,
   "id": "70be3448",
   "metadata": {},
   "outputs": [],
   "source": []
  },
  {
   "cell_type": "code",
   "execution_count": null,
   "id": "9f5ac86b",
   "metadata": {},
   "outputs": [],
   "source": []
  },
  {
   "cell_type": "code",
   "execution_count": null,
   "id": "5dd80126",
   "metadata": {},
   "outputs": [],
   "source": []
  },
  {
   "cell_type": "markdown",
   "id": "77735fbf",
   "metadata": {},
   "source": [
    "- <span style=\"font-size: 13pt;\">***time-series analysis***</span>"
   ]
  },
  {
   "cell_type": "code",
   "execution_count": null,
   "id": "bfcf39b5",
   "metadata": {},
   "outputs": [],
   "source": []
  }
 ],
 "metadata": {
  "kernelspec": {
   "display_name": "Python 3 (ipykernel)",
   "language": "python",
   "name": "python3"
  },
  "language_info": {
   "codemirror_mode": {
    "name": "ipython",
    "version": 3
   },
   "file_extension": ".py",
   "mimetype": "text/x-python",
   "name": "python",
   "nbconvert_exporter": "python",
   "pygments_lexer": "ipython3",
   "version": "3.10.9"
  }
 },
 "nbformat": 4,
 "nbformat_minor": 5
}
