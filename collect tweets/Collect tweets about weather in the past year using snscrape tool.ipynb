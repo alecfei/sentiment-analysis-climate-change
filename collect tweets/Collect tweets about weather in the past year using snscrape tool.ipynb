{
 "cells": [
  {
   "cell_type": "markdown",
   "id": "d22af05f",
   "metadata": {},
   "source": [
    "- **Install snscrape library to help collecting tweets**"
   ]
  },
  {
   "cell_type": "code",
   "execution_count": null,
   "id": "287ed68d",
   "metadata": {},
   "outputs": [],
   "source": [
    "#!pip3 install --upgrade git+https://github.com/JustAnotherArchivist/snscrape.git"
   ]
  },
  {
   "cell_type": "markdown",
   "id": "26ef5685",
   "metadata": {},
   "source": [
    "- **Install pymongo library to connect to mongodb and upload data into**"
   ]
  },
  {
   "cell_type": "code",
   "execution_count": 1,
   "id": "7c5e8e22",
   "metadata": {},
   "outputs": [
    {
     "name": "stdout",
     "output_type": "stream",
     "text": [
      "Collecting pymongo\n",
      "  Downloading pymongo-4.3.3-cp310-cp310-manylinux_2_17_x86_64.manylinux2014_x86_64.whl (492 kB)\n",
      "\u001b[2K     \u001b[38;2;114;156;31m━━━━━━━━━━━━━━━━━━━━━━━━━━━━━━━━━━━━━━━\u001b[0m \u001b[32m492.9/492.9 kB\u001b[0m \u001b[31m2.8 MB/s\u001b[0m eta \u001b[36m0:00:00\u001b[0mm eta \u001b[36m0:00:01\u001b[0m0:01\u001b[0m:01\u001b[0m\n",
      "\u001b[?25hCollecting dnspython<3.0.0,>=1.16.0\n",
      "  Downloading dnspython-2.3.0-py3-none-any.whl (283 kB)\n",
      "\u001b[2K     \u001b[38;2;114;156;31m━━━━━━━━━━━━━━━━━━━━━━━━━━━━━━━━━━━━━━━\u001b[0m \u001b[32m283.7/283.7 kB\u001b[0m \u001b[31m1.2 MB/s\u001b[0m eta \u001b[36m0:00:00\u001b[0m[36m0:00:01\u001b[0mm eta \u001b[36m0:00:01\u001b[0m\n",
      "\u001b[?25hInstalling collected packages: dnspython, pymongo\n",
      "Successfully installed dnspython-2.3.0 pymongo-4.3.3\n"
     ]
    }
   ],
   "source": [
    "#!pip3 install pymongo"
   ]
  },
  {
   "cell_type": "code",
   "execution_count": 2,
   "id": "37b19b87",
   "metadata": {},
   "outputs": [],
   "source": [
    "# Import essential libraries\n",
    "import csv\n",
    "import time\n",
    "import snscrape.modules.twitter as sntwitter\n",
    "from pymongo import MongoClient"
   ]
  },
  {
   "cell_type": "code",
   "execution_count": null,
   "id": "dc9b9db9",
   "metadata": {},
   "outputs": [
    {
     "name": "stdout",
     "output_type": "stream",
     "text": [
      "Data saved. Total tweets: 60\n",
      "Data saved. Total tweets: 120\n",
      "Data saved. Total tweets: 180\n",
      "Data saved. Total tweets: 240\n",
      "Data saved. Total tweets: 300\n",
      "Data saved. Total tweets: 360\n",
      "Data saved. Total tweets: 420\n",
      "Data saved. Total tweets: 480\n",
      "Data saved. Total tweets: 540\n",
      "Data saved. Total tweets: 600\n",
      "Data saved. Total tweets: 660\n",
      "Data saved. Total tweets: 720\n",
      "Data saved. Total tweets: 780\n",
      "Data saved. Total tweets: 840\n",
      "Data saved. Total tweets: 900\n",
      "Data saved. Total tweets: 960\n",
      "Data saved. Total tweets: 1020\n",
      "Data saved. Total tweets: 1080\n",
      "Data saved. Total tweets: 1140\n",
      "Data saved. Total tweets: 1200\n",
      "Data saved. Total tweets: 1260\n",
      "Data saved. Total tweets: 1320\n",
      "Data saved. Total tweets: 1380\n",
      "Data saved. Total tweets: 1440\n",
      "Data saved. Total tweets: 1500\n",
      "Data saved. Total tweets: 1560\n",
      "Data saved. Total tweets: 1620\n",
      "Data saved. Total tweets: 1680\n",
      "Data saved. Total tweets: 1740\n",
      "Data saved. Total tweets: 1800\n",
      "Data saved. Total tweets: 1860\n",
      "Data saved. Total tweets: 1920\n",
      "Data saved. Total tweets: 1980\n",
      "Data saved. Total tweets: 2040\n",
      "Data saved. Total tweets: 2100\n",
      "Data saved. Total tweets: 2160\n",
      "Data saved. Total tweets: 2220\n",
      "Data saved. Total tweets: 2280\n",
      "Data saved. Total tweets: 2340\n",
      "Data saved. Total tweets: 2400\n",
      "Data saved. Total tweets: 2460\n",
      "Data saved. Total tweets: 2520\n",
      "Data saved. Total tweets: 2580\n",
      "Data saved. Total tweets: 2640\n",
      "Data saved. Total tweets: 2700\n",
      "Data saved. Total tweets: 2760\n",
      "Data saved. Total tweets: 2820\n",
      "Data saved. Total tweets: 2880\n",
      "Data saved. Total tweets: 2940\n",
      "Data saved. Total tweets: 3000\n",
      "Data saved. Total tweets: 3060\n",
      "Data saved. Total tweets: 3120\n",
      "Data saved. Total tweets: 3180\n",
      "Data saved. Total tweets: 3240\n",
      "Data saved. Total tweets: 3300\n",
      "Data saved. Total tweets: 3360\n",
      "Data saved. Total tweets: 3420\n",
      "Data saved. Total tweets: 3480\n",
      "Data saved. Total tweets: 3540\n",
      "Data saved. Total tweets: 3600\n"
     ]
    },
    {
     "name": "stderr",
     "output_type": "stream",
     "text": [
      "Unavailable user in card on tweet 1652795002676715521\n",
      "User 28550209 not found in user refs in card on tweet 1652795002676715521\n"
     ]
    },
    {
     "name": "stdout",
     "output_type": "stream",
     "text": [
      "Data saved. Total tweets: 3660\n",
      "Data saved. Total tweets: 3720\n",
      "Data saved. Total tweets: 3780\n",
      "Data saved. Total tweets: 3840\n",
      "Data saved. Total tweets: 3900\n",
      "Data saved. Total tweets: 3960\n",
      "Data saved. Total tweets: 4020\n",
      "Data saved. Total tweets: 4080\n",
      "Data saved. Total tweets: 4140\n",
      "Data saved. Total tweets: 4200\n",
      "Data saved. Total tweets: 4260\n",
      "Data saved. Total tweets: 4320\n",
      "Data saved. Total tweets: 4380\n",
      "Data saved. Total tweets: 4440\n",
      "Data saved. Total tweets: 4500\n",
      "Data saved. Total tweets: 4560\n",
      "Data saved. Total tweets: 4620\n",
      "Data saved. Total tweets: 4680\n",
      "Data saved. Total tweets: 4740\n",
      "Data saved. Total tweets: 4800\n",
      "Data saved. Total tweets: 4860\n",
      "Data saved. Total tweets: 4920\n",
      "Data saved. Total tweets: 4980\n",
      "Data saved. Total tweets: 5040\n",
      "Data saved. Total tweets: 5100\n",
      "Data saved. Total tweets: 5160\n",
      "Data saved. Total tweets: 5220\n",
      "Data saved. Total tweets: 5280\n",
      "Data saved. Total tweets: 5340\n",
      "Data saved. Total tweets: 5400\n",
      "Data saved. Total tweets: 5460\n",
      "Data saved. Total tweets: 5520\n",
      "Data saved. Total tweets: 5580\n",
      "Data saved. Total tweets: 5640\n"
     ]
    },
    {
     "name": "stderr",
     "output_type": "stream",
     "text": [
      "Unavailable user in card on tweet 1652779903664750594\n",
      "User 28550209 not found in user refs in card on tweet 1652779903664750594\n"
     ]
    },
    {
     "name": "stdout",
     "output_type": "stream",
     "text": [
      "Data saved. Total tweets: 5700\n",
      "Data saved. Total tweets: 5760\n",
      "Data saved. Total tweets: 5820\n",
      "Data saved. Total tweets: 5880\n",
      "Data saved. Total tweets: 5940\n",
      "Data saved. Total tweets: 6000\n",
      "Data saved. Total tweets: 6060\n",
      "Data saved. Total tweets: 6120\n",
      "Data saved. Total tweets: 6180\n",
      "Data saved. Total tweets: 6240\n",
      "Data saved. Total tweets: 6300\n",
      "Data saved. Total tweets: 6360\n",
      "Data saved. Total tweets: 6420\n",
      "Data saved. Total tweets: 6480\n",
      "Data saved. Total tweets: 6540\n",
      "Data saved. Total tweets: 6600\n",
      "Data saved. Total tweets: 6660\n",
      "Data saved. Total tweets: 6720\n",
      "Data saved. Total tweets: 6780\n",
      "Data saved. Total tweets: 6840\n",
      "Data saved. Total tweets: 6900\n",
      "Data saved. Total tweets: 6960\n",
      "Data saved. Total tweets: 7020\n",
      "Data saved. Total tweets: 7080\n",
      "Data saved. Total tweets: 7140\n",
      "Data saved. Total tweets: 7200\n",
      "Data saved. Total tweets: 7260\n",
      "Data saved. Total tweets: 7320\n",
      "Data saved. Total tweets: 7380\n",
      "Data saved. Total tweets: 7440\n"
     ]
    },
    {
     "name": "stderr",
     "output_type": "stream",
     "text": [
      "Unavailable user in card on tweet 1652766099249979393\n",
      "User 14204245 not found in user refs in card on tweet 1652766099249979393\n"
     ]
    },
    {
     "name": "stdout",
     "output_type": "stream",
     "text": [
      "Data saved. Total tweets: 7500\n",
      "Data saved. Total tweets: 7560\n",
      "Data saved. Total tweets: 7620\n",
      "Data saved. Total tweets: 7680\n",
      "Data saved. Total tweets: 7740\n",
      "Data saved. Total tweets: 7800\n",
      "Data saved. Total tweets: 7860\n",
      "Data saved. Total tweets: 7920\n",
      "Data saved. Total tweets: 7980\n",
      "Data saved. Total tweets: 8040\n",
      "Data saved. Total tweets: 8100\n",
      "Data saved. Total tweets: 8160\n",
      "Data saved. Total tweets: 8220\n"
     ]
    },
    {
     "name": "stderr",
     "output_type": "stream",
     "text": [
      "Unavailable user in card on tweet 1652761162889437188\n",
      "Unavailable user in card on tweet 1652761162889437188\n",
      "User 1648953135438913536 not found in user refs in card on tweet 1652761162889437188\n",
      "User 1648953135438913536 not found in user refs in card on tweet 1652761162889437188\n"
     ]
    },
    {
     "name": "stdout",
     "output_type": "stream",
     "text": [
      "Data saved. Total tweets: 8280\n",
      "Data saved. Total tweets: 8340\n",
      "Data saved. Total tweets: 8400\n",
      "Data saved. Total tweets: 8460\n",
      "Data saved. Total tweets: 8520\n",
      "Data saved. Total tweets: 8580\n",
      "Data saved. Total tweets: 8640\n",
      "Data saved. Total tweets: 8700\n",
      "Data saved. Total tweets: 8760\n",
      "Data saved. Total tweets: 8820\n",
      "Data saved. Total tweets: 8880\n",
      "Data saved. Total tweets: 8940\n",
      "Data saved. Total tweets: 9000\n",
      "Data saved. Total tweets: 9060\n",
      "Data saved. Total tweets: 9120\n",
      "Data saved. Total tweets: 9180\n",
      "Data saved. Total tweets: 9240\n",
      "Data saved. Total tweets: 9300\n",
      "Data saved. Total tweets: 9360\n",
      "Data saved. Total tweets: 9420\n",
      "Data saved. Total tweets: 9480\n",
      "Data saved. Total tweets: 9540\n",
      "Data saved. Total tweets: 9600\n",
      "Data saved. Total tweets: 9660\n",
      "Data saved. Total tweets: 9720\n",
      "Data saved. Total tweets: 9780\n",
      "Data saved. Total tweets: 9840\n",
      "Data saved. Total tweets: 9900\n",
      "Data saved. Total tweets: 9960\n",
      "Data saved. Total tweets: 10020\n",
      "Data saved. Total tweets: 10080\n",
      "Data saved. Total tweets: 10140\n",
      "Data saved. Total tweets: 10200\n",
      "Data saved. Total tweets: 10260\n",
      "Data saved. Total tweets: 10320\n",
      "Data saved. Total tweets: 10380\n",
      "Data saved. Total tweets: 10440\n",
      "Data saved. Total tweets: 10500\n",
      "Data saved. Total tweets: 10560\n",
      "Data saved. Total tweets: 10620\n",
      "Data saved. Total tweets: 10680\n",
      "Data saved. Total tweets: 10740\n",
      "Data saved. Total tweets: 10800\n",
      "Data saved. Total tweets: 10860\n",
      "Data saved. Total tweets: 10920\n",
      "Data saved. Total tweets: 10980\n",
      "Data saved. Total tweets: 11040\n",
      "Data saved. Total tweets: 11100\n",
      "Data saved. Total tweets: 11160\n",
      "Data saved. Total tweets: 11220\n",
      "Data saved. Total tweets: 11280\n",
      "Data saved. Total tweets: 11340\n",
      "Data saved. Total tweets: 11400\n",
      "Data saved. Total tweets: 11460\n",
      "Data saved. Total tweets: 11520\n",
      "Data saved. Total tweets: 11580\n",
      "Data saved. Total tweets: 11640\n",
      "Data saved. Total tweets: 11700\n",
      "Data saved. Total tweets: 11760\n",
      "Data saved. Total tweets: 11820\n",
      "Data saved. Total tweets: 11880\n",
      "Data saved. Total tweets: 11940\n",
      "Data saved. Total tweets: 12000\n",
      "Data saved. Total tweets: 12060\n",
      "Data saved. Total tweets: 12120\n",
      "Data saved. Total tweets: 12180\n",
      "Data saved. Total tweets: 12240\n",
      "Data saved. Total tweets: 12300\n",
      "Data saved. Total tweets: 12360\n",
      "Data saved. Total tweets: 12420\n",
      "Data saved. Total tweets: 12480\n",
      "Data saved. Total tweets: 12540\n",
      "Data saved. Total tweets: 12600\n",
      "Data saved. Total tweets: 12660\n",
      "Data saved. Total tweets: 12720\n",
      "Data saved. Total tweets: 12780\n",
      "Data saved. Total tweets: 12840\n"
     ]
    },
    {
     "name": "stderr",
     "output_type": "stream",
     "text": [
      "Could not translate t.co card URL on tweet 1652728920523808772\n"
     ]
    },
    {
     "name": "stdout",
     "output_type": "stream",
     "text": [
      "Data saved. Total tweets: 12900\n",
      "Data saved. Total tweets: 12960\n",
      "Data saved. Total tweets: 13020\n",
      "Data saved. Total tweets: 13080\n",
      "Data saved. Total tweets: 13140\n",
      "Data saved. Total tweets: 13200\n",
      "Data saved. Total tweets: 13260\n",
      "Data saved. Total tweets: 13320\n",
      "Data saved. Total tweets: 13380\n",
      "Data saved. Total tweets: 13440\n",
      "Data saved. Total tweets: 13500\n",
      "Data saved. Total tweets: 13560\n",
      "Data saved. Total tweets: 13620\n",
      "Data saved. Total tweets: 13680\n",
      "Data saved. Total tweets: 13740\n",
      "Data saved. Total tweets: 13800\n",
      "Data saved. Total tweets: 13860\n",
      "Data saved. Total tweets: 13920\n",
      "Data saved. Total tweets: 13980\n",
      "Data saved. Total tweets: 14040\n",
      "Data saved. Total tweets: 14100\n",
      "Data saved. Total tweets: 14160\n",
      "Data saved. Total tweets: 14220\n",
      "Data saved. Total tweets: 14280\n",
      "Data saved. Total tweets: 14340\n",
      "Data saved. Total tweets: 14400\n",
      "Data saved. Total tweets: 14460\n",
      "Data saved. Total tweets: 14520\n",
      "Data saved. Total tweets: 14580\n",
      "Data saved. Total tweets: 14640\n",
      "Data saved. Total tweets: 14700\n",
      "Data saved. Total tweets: 14760\n",
      "Data saved. Total tweets: 14820\n",
      "Data saved. Total tweets: 14880\n",
      "Data saved. Total tweets: 14940\n",
      "Data saved. Total tweets: 15000\n",
      "Data saved. Total tweets: 15060\n",
      "Data saved. Total tweets: 15120\n",
      "Data saved. Total tweets: 15180\n",
      "Data saved. Total tweets: 15240\n",
      "Data saved. Total tweets: 15300\n",
      "Data saved. Total tweets: 15360\n",
      "Data saved. Total tweets: 15420\n",
      "Data saved. Total tweets: 15480\n",
      "Data saved. Total tweets: 15540\n",
      "Data saved. Total tweets: 15600\n",
      "Data saved. Total tweets: 15660\n",
      "Data saved. Total tweets: 15720\n",
      "Data saved. Total tweets: 15780\n",
      "Data saved. Total tweets: 15840\n",
      "Data saved. Total tweets: 15900\n",
      "Data saved. Total tweets: 15960\n",
      "Data saved. Total tweets: 16020\n",
      "Data saved. Total tweets: 16080\n",
      "Data saved. Total tweets: 16140\n",
      "Data saved. Total tweets: 16200\n",
      "Data saved. Total tweets: 16260\n",
      "Data saved. Total tweets: 16320\n",
      "Data saved. Total tweets: 16380\n"
     ]
    },
    {
     "name": "stderr",
     "output_type": "stream",
     "text": [
      "Unavailable user in card on tweet 1652704403705438209\n",
      "User 28550209 not found in user refs in card on tweet 1652704403705438209\n"
     ]
    },
    {
     "name": "stdout",
     "output_type": "stream",
     "text": [
      "Data saved. Total tweets: 16440\n",
      "Data saved. Total tweets: 16500\n",
      "Data saved. Total tweets: 16560\n",
      "Data saved. Total tweets: 16620\n",
      "Data saved. Total tweets: 16680\n"
     ]
    },
    {
     "name": "stderr",
     "output_type": "stream",
     "text": [
      "Unavailable user in card on tweet 1652702476808617985\n",
      "User 28550209 not found in user refs in card on tweet 1652702476808617985\n"
     ]
    },
    {
     "name": "stdout",
     "output_type": "stream",
     "text": [
      "Data saved. Total tweets: 16740\n",
      "Data saved. Total tweets: 16800\n",
      "Data saved. Total tweets: 16860\n",
      "Data saved. Total tweets: 16920\n",
      "Data saved. Total tweets: 16980\n",
      "Data saved. Total tweets: 17040\n",
      "Data saved. Total tweets: 17100\n",
      "Data saved. Total tweets: 17160\n",
      "Data saved. Total tweets: 17220\n",
      "Data saved. Total tweets: 17280\n",
      "Data saved. Total tweets: 17340\n",
      "Data saved. Total tweets: 17400\n",
      "Data saved. Total tweets: 17460\n",
      "Data saved. Total tweets: 17520\n",
      "Data saved. Total tweets: 17580\n",
      "Data saved. Total tweets: 17640\n",
      "Data saved. Total tweets: 17700\n",
      "Data saved. Total tweets: 17760\n",
      "Data saved. Total tweets: 17820\n",
      "Data saved. Total tweets: 17880\n",
      "Data saved. Total tweets: 17940\n",
      "Data saved. Total tweets: 18000\n",
      "Data saved. Total tweets: 18060\n",
      "Data saved. Total tweets: 18120\n",
      "Data saved. Total tweets: 18180\n",
      "Data saved. Total tweets: 18240\n",
      "Data saved. Total tweets: 18300\n",
      "Data saved. Total tweets: 18360\n",
      "Data saved. Total tweets: 18420\n",
      "Data saved. Total tweets: 18480\n",
      "Data saved. Total tweets: 18540\n",
      "Data saved. Total tweets: 18600\n",
      "Data saved. Total tweets: 18660\n",
      "Data saved. Total tweets: 18720\n",
      "Data saved. Total tweets: 18780\n",
      "Data saved. Total tweets: 18840\n",
      "Data saved. Total tweets: 18900\n",
      "Data saved. Total tweets: 18960\n",
      "Data saved. Total tweets: 19020\n",
      "Data saved. Total tweets: 19080\n",
      "Data saved. Total tweets: 19140\n",
      "Data saved. Total tweets: 19200\n",
      "Data saved. Total tweets: 19260\n",
      "Data saved. Total tweets: 19320\n",
      "Data saved. Total tweets: 19380\n",
      "Data saved. Total tweets: 19440\n",
      "Data saved. Total tweets: 19500\n",
      "Data saved. Total tweets: 19560\n",
      "Data saved. Total tweets: 19620\n",
      "Data saved. Total tweets: 19680\n",
      "Data saved. Total tweets: 19740\n",
      "Data saved. Total tweets: 19800\n",
      "Data saved. Total tweets: 19860\n",
      "Data saved. Total tweets: 19920\n",
      "Data saved. Total tweets: 19980\n",
      "Data saved. Total tweets: 20040\n",
      "Data saved. Total tweets: 20100\n",
      "Data saved. Total tweets: 20160\n",
      "Data saved. Total tweets: 20220\n",
      "Data saved. Total tweets: 20280\n",
      "Data saved. Total tweets: 20340\n",
      "Data saved. Total tweets: 20400\n",
      "Data saved. Total tweets: 20460\n",
      "Data saved. Total tweets: 20520\n",
      "Data saved. Total tweets: 20580\n",
      "Data saved. Total tweets: 20640\n",
      "Data saved. Total tweets: 20700\n",
      "Data saved. Total tweets: 20760\n",
      "Data saved. Total tweets: 20820\n",
      "Data saved. Total tweets: 20880\n",
      "Data saved. Total tweets: 20940\n",
      "Data saved. Total tweets: 21000\n",
      "Data saved. Total tweets: 21060\n",
      "Data saved. Total tweets: 21120\n",
      "Data saved. Total tweets: 21180\n",
      "Data saved. Total tweets: 21240\n",
      "Data saved. Total tweets: 21300\n",
      "Data saved. Total tweets: 21360\n",
      "Data saved. Total tweets: 21420\n",
      "Data saved. Total tweets: 21480\n",
      "Data saved. Total tweets: 21540\n",
      "Data saved. Total tweets: 21600\n",
      "Data saved. Total tweets: 21660\n",
      "Data saved. Total tweets: 21720\n",
      "Data saved. Total tweets: 21780\n",
      "Data saved. Total tweets: 21840\n",
      "Data saved. Total tweets: 21900\n",
      "Data saved. Total tweets: 21960\n"
     ]
    },
    {
     "name": "stderr",
     "output_type": "stream",
     "text": [
      "Unavailable user in card on tweet 1652665905455718402\n",
      "User 14204245 not found in user refs in card on tweet 1652665905455718402\n"
     ]
    },
    {
     "name": "stdout",
     "output_type": "stream",
     "text": [
      "Data saved. Total tweets: 22020\n",
      "Data saved. Total tweets: 22080\n",
      "Data saved. Total tweets: 22140\n",
      "Data saved. Total tweets: 22200\n",
      "Data saved. Total tweets: 22260\n",
      "Data saved. Total tweets: 22320\n",
      "Data saved. Total tweets: 22380\n",
      "Data saved. Total tweets: 22440\n",
      "Data saved. Total tweets: 22500\n",
      "Data saved. Total tweets: 22560\n",
      "Data saved. Total tweets: 22620\n",
      "Data saved. Total tweets: 22680\n",
      "Data saved. Total tweets: 22740\n",
      "Data saved. Total tweets: 22800\n",
      "Data saved. Total tweets: 22860\n",
      "Data saved. Total tweets: 22920\n",
      "Data saved. Total tweets: 22980\n",
      "Data saved. Total tweets: 23040\n",
      "Data saved. Total tweets: 23100\n",
      "Data saved. Total tweets: 23160\n",
      "Data saved. Total tweets: 23220\n",
      "Data saved. Total tweets: 23280\n",
      "Data saved. Total tweets: 23340\n",
      "Data saved. Total tweets: 23400\n",
      "Data saved. Total tweets: 23460\n",
      "Data saved. Total tweets: 23520\n",
      "Data saved. Total tweets: 23580\n",
      "Data saved. Total tweets: 23640\n",
      "Data saved. Total tweets: 23700\n",
      "Data saved. Total tweets: 23760\n"
     ]
    },
    {
     "name": "stderr",
     "output_type": "stream",
     "text": [
      "Unavailable user in card on tweet 1652651517248253952\n",
      "User 28550209 not found in user refs in card on tweet 1652651517248253952\n"
     ]
    },
    {
     "name": "stdout",
     "output_type": "stream",
     "text": [
      "Data saved. Total tweets: 23820\n",
      "Data saved. Total tweets: 23880\n",
      "Data saved. Total tweets: 23940\n",
      "Data saved. Total tweets: 24000\n",
      "Data saved. Total tweets: 24060\n",
      "Data saved. Total tweets: 24120\n",
      "Data saved. Total tweets: 24180\n",
      "Data saved. Total tweets: 24240\n",
      "Data saved. Total tweets: 24300\n",
      "Data saved. Total tweets: 24360\n",
      "Data saved. Total tweets: 24420\n",
      "Data saved. Total tweets: 24480\n",
      "Data saved. Total tweets: 24540\n",
      "Data saved. Total tweets: 24600\n",
      "Data saved. Total tweets: 24660\n",
      "Data saved. Total tweets: 24720\n",
      "Data saved. Total tweets: 24780\n",
      "Data saved. Total tweets: 24840\n",
      "Data saved. Total tweets: 24900\n",
      "Data saved. Total tweets: 24960\n",
      "Data saved. Total tweets: 25020\n",
      "Data saved. Total tweets: 25080\n",
      "Data saved. Total tweets: 25140\n"
     ]
    },
    {
     "name": "stderr",
     "output_type": "stream",
     "text": [
      "Could not translate t.co card URL on tweet 1652640796233875457\n"
     ]
    },
    {
     "name": "stdout",
     "output_type": "stream",
     "text": [
      "Data saved. Total tweets: 25200\n",
      "Data saved. Total tweets: 25260\n",
      "Data saved. Total tweets: 25320\n",
      "Data saved. Total tweets: 25380\n",
      "Data saved. Total tweets: 25440\n",
      "Data saved. Total tweets: 25500\n",
      "Data saved. Total tweets: 25560\n",
      "Data saved. Total tweets: 25620\n",
      "Data saved. Total tweets: 25680\n",
      "Data saved. Total tweets: 25740\n",
      "Data saved. Total tweets: 25800\n",
      "Data saved. Total tweets: 25860\n",
      "Data saved. Total tweets: 25920\n",
      "Data saved. Total tweets: 25980\n",
      "Data saved. Total tweets: 26040\n",
      "Data saved. Total tweets: 26100\n",
      "Data saved. Total tweets: 26160\n",
      "Data saved. Total tweets: 26220\n",
      "Data saved. Total tweets: 26280\n",
      "Data saved. Total tweets: 26340\n",
      "Data saved. Total tweets: 26400\n",
      "Data saved. Total tweets: 26460\n",
      "Data saved. Total tweets: 26520\n",
      "Data saved. Total tweets: 26580\n",
      "Data saved. Total tweets: 26640\n",
      "Data saved. Total tweets: 26700\n",
      "Data saved. Total tweets: 26760\n"
     ]
    },
    {
     "name": "stderr",
     "output_type": "stream",
     "text": [
      "Unavailable user in card on tweet 1652628876038664192\n",
      "User 28550209 not found in user refs in card on tweet 1652628876038664192\n"
     ]
    },
    {
     "name": "stdout",
     "output_type": "stream",
     "text": [
      "Data saved. Total tweets: 26820\n",
      "Data saved. Total tweets: 26880\n",
      "Data saved. Total tweets: 26940\n",
      "Data saved. Total tweets: 27000\n",
      "Data saved. Total tweets: 27060\n",
      "Data saved. Total tweets: 27120\n",
      "Data saved. Total tweets: 27180\n",
      "Data saved. Total tweets: 27240\n",
      "Data saved. Total tweets: 27300\n",
      "Data saved. Total tweets: 27360\n",
      "Data saved. Total tweets: 27420\n",
      "Data saved. Total tweets: 27480\n",
      "Data saved. Total tweets: 27540\n",
      "Data saved. Total tweets: 27600\n",
      "Data saved. Total tweets: 27660\n",
      "Data saved. Total tweets: 27720\n",
      "Data saved. Total tweets: 27780\n",
      "Data saved. Total tweets: 27840\n",
      "Data saved. Total tweets: 27900\n",
      "Data saved. Total tweets: 27960\n",
      "Data saved. Total tweets: 28020\n",
      "Data saved. Total tweets: 28080\n",
      "Data saved. Total tweets: 28140\n",
      "Data saved. Total tweets: 28200\n",
      "Data saved. Total tweets: 28260\n",
      "Data saved. Total tweets: 28320\n",
      "Data saved. Total tweets: 28380\n",
      "Data saved. Total tweets: 28440\n",
      "Data saved. Total tweets: 28500\n",
      "Data saved. Total tweets: 28560\n",
      "Data saved. Total tweets: 28620\n",
      "Data saved. Total tweets: 28680\n",
      "Data saved. Total tweets: 28740\n",
      "Data saved. Total tweets: 28800\n"
     ]
    },
    {
     "name": "stderr",
     "output_type": "stream",
     "text": [
      "Unavailable user in card on tweet 1652608370761687043\n",
      "User 28550209 not found in user refs in card on tweet 1652608370761687043\n"
     ]
    },
    {
     "name": "stdout",
     "output_type": "stream",
     "text": [
      "Data saved. Total tweets: 28860\n",
      "Data saved. Total tweets: 28920\n",
      "Data saved. Total tweets: 28980\n",
      "Data saved. Total tweets: 29040\n",
      "Data saved. Total tweets: 29100\n",
      "Data saved. Total tweets: 29160\n",
      "Data saved. Total tweets: 29220\n",
      "Data saved. Total tweets: 29280\n",
      "Data saved. Total tweets: 29340\n",
      "Data saved. Total tweets: 29400\n",
      "Data saved. Total tweets: 29460\n",
      "Data saved. Total tweets: 29520\n",
      "Data saved. Total tweets: 29580\n",
      "Data saved. Total tweets: 29640\n",
      "Data saved. Total tweets: 29700\n",
      "Data saved. Total tweets: 29760\n",
      "Data saved. Total tweets: 29820\n",
      "Data saved. Total tweets: 29880\n",
      "Data saved. Total tweets: 29940\n",
      "Data saved. Total tweets: 30000\n",
      "Data saved. Total tweets: 30060\n",
      "Data saved. Total tweets: 30120\n",
      "Data saved. Total tweets: 30180\n",
      "Data saved. Total tweets: 30240\n",
      "Data saved. Total tweets: 30300\n",
      "Data saved. Total tweets: 30360\n",
      "Data saved. Total tweets: 30420\n",
      "Data saved. Total tweets: 30480\n",
      "Data saved. Total tweets: 30540\n",
      "Data saved. Total tweets: 30600\n",
      "Data saved. Total tweets: 30660\n",
      "Data saved. Total tweets: 30720\n",
      "Data saved. Total tweets: 30780\n",
      "Data saved. Total tweets: 30840\n",
      "Data saved. Total tweets: 30900\n",
      "Data saved. Total tweets: 30960\n",
      "Data saved. Total tweets: 31020\n",
      "Data saved. Total tweets: 31080\n",
      "Data saved. Total tweets: 31140\n",
      "Data saved. Total tweets: 31200\n",
      "Data saved. Total tweets: 31260\n",
      "Data saved. Total tweets: 31320\n",
      "Data saved. Total tweets: 31380\n",
      "Data saved. Total tweets: 31440\n",
      "Data saved. Total tweets: 31500\n",
      "Data saved. Total tweets: 31560\n",
      "Data saved. Total tweets: 31620\n",
      "Data saved. Total tweets: 31680\n",
      "Data saved. Total tweets: 31740\n",
      "Data saved. Total tweets: 31800\n",
      "Data saved. Total tweets: 31860\n",
      "Data saved. Total tweets: 31920\n",
      "Data saved. Total tweets: 31980\n",
      "Data saved. Total tweets: 32040\n",
      "Data saved. Total tweets: 32100\n",
      "Data saved. Total tweets: 32160\n",
      "Data saved. Total tweets: 32220\n",
      "Data saved. Total tweets: 32280\n",
      "Data saved. Total tweets: 32340\n",
      "Data saved. Total tweets: 32400\n",
      "Data saved. Total tweets: 32460\n"
     ]
    },
    {
     "name": "stderr",
     "output_type": "stream",
     "text": [
      "Could not translate t.co card URL on tweet 1652569913091936256\n"
     ]
    },
    {
     "name": "stdout",
     "output_type": "stream",
     "text": [
      "Data saved. Total tweets: 32520\n",
      "Data saved. Total tweets: 32580\n",
      "Data saved. Total tweets: 32640\n",
      "Data saved. Total tweets: 32700\n",
      "Data saved. Total tweets: 32760\n",
      "Data saved. Total tweets: 32820\n",
      "Data saved. Total tweets: 32880\n",
      "Data saved. Total tweets: 32940\n",
      "Data saved. Total tweets: 33000\n",
      "Data saved. Total tweets: 33060\n",
      "Data saved. Total tweets: 33120\n",
      "Data saved. Total tweets: 33180\n",
      "Data saved. Total tweets: 33240\n",
      "Data saved. Total tweets: 33300\n",
      "Data saved. Total tweets: 33360\n",
      "Data saved. Total tweets: 33420\n",
      "Data saved. Total tweets: 33480\n",
      "Data saved. Total tweets: 33540\n",
      "Data saved. Total tweets: 33600\n",
      "Data saved. Total tweets: 33660\n",
      "Data saved. Total tweets: 33720\n",
      "Data saved. Total tweets: 33780\n",
      "Data saved. Total tweets: 33840\n",
      "Data saved. Total tweets: 33900\n",
      "Data saved. Total tweets: 33960\n",
      "Data saved. Total tweets: 34020\n",
      "Data saved. Total tweets: 34080\n",
      "Data saved. Total tweets: 34140\n",
      "Data saved. Total tweets: 34200\n",
      "Data saved. Total tweets: 34260\n",
      "Data saved. Total tweets: 34320\n",
      "Data saved. Total tweets: 34380\n",
      "Data saved. Total tweets: 34440\n",
      "Data saved. Total tweets: 34500\n",
      "Data saved. Total tweets: 34560\n",
      "Data saved. Total tweets: 34620\n",
      "Data saved. Total tweets: 34680\n",
      "Data saved. Total tweets: 34740\n",
      "Data saved. Total tweets: 34800\n",
      "Data saved. Total tweets: 34860\n",
      "Data saved. Total tweets: 34920\n",
      "Data saved. Total tweets: 34980\n",
      "Data saved. Total tweets: 35040\n",
      "Data saved. Total tweets: 35100\n",
      "Data saved. Total tweets: 35160\n",
      "Data saved. Total tweets: 35220\n",
      "Data saved. Total tweets: 35280\n",
      "Data saved. Total tweets: 35340\n",
      "Data saved. Total tweets: 35400\n",
      "Data saved. Total tweets: 35460\n",
      "Data saved. Total tweets: 35520\n",
      "Data saved. Total tweets: 35580\n",
      "Data saved. Total tweets: 35640\n",
      "Data saved. Total tweets: 35700\n",
      "Data saved. Total tweets: 35760\n",
      "Data saved. Total tweets: 35820\n",
      "Data saved. Total tweets: 35880\n"
     ]
    },
    {
     "name": "stderr",
     "output_type": "stream",
     "text": [
      "Unavailable user in card on tweet 1652524820700237826\n",
      "Unavailable user in card on tweet 1652524820700237826\n",
      "User 160497158 not found in user refs in card on tweet 1652524820700237826\n",
      "User 160497158 not found in user refs in card on tweet 1652524820700237826\n"
     ]
    },
    {
     "name": "stdout",
     "output_type": "stream",
     "text": [
      "Data saved. Total tweets: 35940\n",
      "Data saved. Total tweets: 36000\n",
      "Data saved. Total tweets: 36060\n",
      "Data saved. Total tweets: 36120\n",
      "Data saved. Total tweets: 36180\n",
      "Data saved. Total tweets: 36240\n",
      "Data saved. Total tweets: 36300\n",
      "Data saved. Total tweets: 36360\n",
      "Data saved. Total tweets: 36420\n",
      "Data saved. Total tweets: 36480\n",
      "Data saved. Total tweets: 36540\n",
      "Data saved. Total tweets: 36600\n"
     ]
    },
    {
     "name": "stderr",
     "output_type": "stream",
     "text": [
      "Unavailable user in card on tweet 1652515636470247426\n",
      "User 28550209 not found in user refs in card on tweet 1652515636470247426\n"
     ]
    },
    {
     "name": "stdout",
     "output_type": "stream",
     "text": [
      "Data saved. Total tweets: 36660\n",
      "Data saved. Total tweets: 36720\n",
      "Data saved. Total tweets: 36780\n",
      "Data saved. Total tweets: 36840\n",
      "Data saved. Total tweets: 36900\n",
      "Data saved. Total tweets: 36960\n",
      "Data saved. Total tweets: 37020\n",
      "Data saved. Total tweets: 37080\n",
      "Data saved. Total tweets: 37140\n",
      "Data saved. Total tweets: 37200\n",
      "Data saved. Total tweets: 37260\n",
      "Data saved. Total tweets: 37320\n",
      "Data saved. Total tweets: 37380\n",
      "Data saved. Total tweets: 37440\n",
      "Data saved. Total tweets: 37500\n",
      "Data saved. Total tweets: 37560\n",
      "Data saved. Total tweets: 37620\n",
      "Data saved. Total tweets: 37680\n",
      "Data saved. Total tweets: 37740\n",
      "Data saved. Total tweets: 37800\n",
      "Data saved. Total tweets: 37860\n",
      "Data saved. Total tweets: 37920\n",
      "Data saved. Total tweets: 37980\n",
      "Data saved. Total tweets: 38040\n",
      "Data saved. Total tweets: 38100\n",
      "Data saved. Total tweets: 38160\n",
      "Data saved. Total tweets: 38220\n",
      "Data saved. Total tweets: 38280\n",
      "Data saved. Total tweets: 38340\n",
      "Data saved. Total tweets: 38400\n",
      "Data saved. Total tweets: 38460\n",
      "Data saved. Total tweets: 38520\n",
      "Data saved. Total tweets: 38580\n",
      "Data saved. Total tweets: 38640\n",
      "Data saved. Total tweets: 38700\n",
      "Data saved. Total tweets: 38760\n",
      "Data saved. Total tweets: 38820\n",
      "Data saved. Total tweets: 38880\n",
      "Data saved. Total tweets: 38940\n",
      "Data saved. Total tweets: 39000\n",
      "Data saved. Total tweets: 39060\n",
      "Data saved. Total tweets: 39120\n",
      "Data saved. Total tweets: 39180\n",
      "Data saved. Total tweets: 39240\n",
      "Data saved. Total tweets: 39300\n",
      "Data saved. Total tweets: 39360\n",
      "Data saved. Total tweets: 39420\n",
      "Data saved. Total tweets: 39480\n",
      "Data saved. Total tweets: 39540\n",
      "Data saved. Total tweets: 39600\n",
      "Data saved. Total tweets: 39660\n",
      "Data saved. Total tweets: 39720\n",
      "Data saved. Total tweets: 39780\n"
     ]
    },
    {
     "name": "stderr",
     "output_type": "stream",
     "text": [
      "Unavailable user in card on tweet 1652477910702252032\n",
      "User 28550209 not found in user refs in card on tweet 1652477910702252032\n"
     ]
    },
    {
     "name": "stdout",
     "output_type": "stream",
     "text": [
      "Data saved. Total tweets: 39840\n",
      "Data saved. Total tweets: 39900\n"
     ]
    },
    {
     "name": "stderr",
     "output_type": "stream",
     "text": [
      "Unavailable user in card on tweet 1652477248522407938\n",
      "User 1411470135496298499 not found in user refs in card on tweet 1652477248522407938\n"
     ]
    },
    {
     "name": "stdout",
     "output_type": "stream",
     "text": [
      "Data saved. Total tweets: 39960\n",
      "Data saved. Total tweets: 40020\n",
      "Data saved. Total tweets: 40080\n",
      "Data saved. Total tweets: 40140\n",
      "Data saved. Total tweets: 40200\n",
      "Data saved. Total tweets: 40260\n"
     ]
    },
    {
     "name": "stderr",
     "output_type": "stream",
     "text": [
      "Unavailable user in card on tweet 1652473796283047937\n",
      "User 2514415770 not found in user refs in card on tweet 1652473796283047937\n"
     ]
    },
    {
     "name": "stdout",
     "output_type": "stream",
     "text": [
      "Data saved. Total tweets: 40320\n",
      "Data saved. Total tweets: 40380\n",
      "Data saved. Total tweets: 40440\n",
      "Data saved. Total tweets: 40500\n",
      "Data saved. Total tweets: 40560\n",
      "Data saved. Total tweets: 40620\n",
      "Data saved. Total tweets: 40680\n",
      "Data saved. Total tweets: 40740\n",
      "Data saved. Total tweets: 40800\n",
      "Data saved. Total tweets: 40860\n",
      "Data saved. Total tweets: 40920\n",
      "Data saved. Total tweets: 40980\n"
     ]
    },
    {
     "name": "stderr",
     "output_type": "stream",
     "text": [
      "Unavailable user in card on tweet 1652466604481957890\n",
      "User 14204245 not found in user refs in card on tweet 1652466604481957890\n"
     ]
    },
    {
     "name": "stdout",
     "output_type": "stream",
     "text": [
      "Data saved. Total tweets: 41040\n",
      "Data saved. Total tweets: 41100\n",
      "Data saved. Total tweets: 41160\n",
      "Data saved. Total tweets: 41220\n",
      "Data saved. Total tweets: 41280\n",
      "Data saved. Total tweets: 41340\n",
      "Data saved. Total tweets: 41400\n",
      "Data saved. Total tweets: 41460\n",
      "Data saved. Total tweets: 41520\n",
      "Data saved. Total tweets: 41580\n",
      "Data saved. Total tweets: 41640\n",
      "Data saved. Total tweets: 41700\n",
      "Data saved. Total tweets: 41760\n",
      "Data saved. Total tweets: 41820\n",
      "Data saved. Total tweets: 41880\n"
     ]
    },
    {
     "name": "stderr",
     "output_type": "stream",
     "text": [
      "Unavailable user in card on tweet 1652460037694976000\n",
      "User 14204245 not found in user refs in card on tweet 1652460037694976000\n"
     ]
    },
    {
     "name": "stdout",
     "output_type": "stream",
     "text": [
      "Data saved. Total tweets: 41940\n",
      "Data saved. Total tweets: 42000\n",
      "Data saved. Total tweets: 42060\n",
      "Data saved. Total tweets: 42120\n",
      "Data saved. Total tweets: 42180\n",
      "Data saved. Total tweets: 42240\n",
      "Data saved. Total tweets: 42300\n",
      "Data saved. Total tweets: 42360\n"
     ]
    },
    {
     "name": "stderr",
     "output_type": "stream",
     "text": [
      "Twitter responded with an error: DependencyError: Dependency: Unspecified\n"
     ]
    },
    {
     "name": "stdout",
     "output_type": "stream",
     "text": [
      "Data saved. Total tweets: 42420\n",
      "Data saved. Total tweets: 42480\n",
      "Data saved. Total tweets: 42540\n",
      "Data saved. Total tweets: 42600\n",
      "Data saved. Total tweets: 42660\n",
      "Data saved. Total tweets: 42720\n",
      "Data saved. Total tweets: 42780\n",
      "Data saved. Total tweets: 42840\n"
     ]
    },
    {
     "name": "stderr",
     "output_type": "stream",
     "text": [
      "Unavailable user in card on tweet 1652451060332523520\n",
      "User 28550209 not found in user refs in card on tweet 1652451060332523520\n",
      "Twitter responded with an error: DependencyError: Dependency: Unspecified\n"
     ]
    },
    {
     "name": "stdout",
     "output_type": "stream",
     "text": [
      "Data saved. Total tweets: 42900\n",
      "Data saved. Total tweets: 42960\n",
      "Data saved. Total tweets: 43020\n"
     ]
    },
    {
     "name": "stderr",
     "output_type": "stream",
     "text": [
      "Twitter responded with an error: TimeoutError: Timeout: Unspecified, TimeoutError: Timeout: Unspecified, TimeoutError: Timeout: Unspecified, TimeoutError: Timeout: Unspecified, TimeoutError: Timeout: Unspecified, TimeoutError: Timeout: Unspecified, TimeoutError: Timeout: Unspecified, TimeoutError: Timeout: Unspecified, TimeoutError: Timeout: Unspecified, TimeoutError: Timeout: Unspecified, TimeoutError: Timeout: Unspecified, TimeoutError: Timeout: Unspecified, TimeoutError: Timeout: Unspecified, TimeoutError: Timeout: Unspecified, TimeoutError: Timeout: Unspecified, TimeoutError: Timeout: Unspecified, TimeoutError: Timeout: Unspecified, TimeoutError: Timeout: Unspecified, TimeoutError: Timeout: Unspecified, TimeoutError: Timeout: Unspecified, TimeoutError: Timeout: Unspecified, TimeoutError: Timeout: Unspecified, TimeoutError: Timeout: Unspecified, TimeoutError: Timeout: Unspecified, TimeoutError: Timeout: Unspecified, TimeoutError: Timeout: Unspecified, TimeoutError: Timeout: Unspecified, TimeoutError: Timeout: Unspecified, TimeoutError: Timeout: Unspecified, TimeoutError: Timeout: Unspecified, TimeoutError: Timeout: Unspecified, TimeoutError: Timeout: Unspecified, TimeoutError: Timeout: Unspecified, TimeoutError: Timeout: Unspecified, TimeoutError: Timeout: Unspecified, TimeoutError: Timeout: Unspecified, TimeoutError: Timeout: Unspecified, TimeoutError: Timeout: Unspecified, TimeoutError: Timeout: Unspecified, TimeoutError: Timeout: Unspecified, TimeoutError: Timeout: Unspecified, TimeoutError: Timeout: Unspecified, TimeoutError: Timeout: Unspecified, TimeoutError: Timeout: Unspecified, TimeoutError: Timeout: Unspecified, TimeoutError: Timeout: Unspecified, TimeoutError: Timeout: Unspecified, TimeoutError: Timeout: Unspecified, TimeoutError: Timeout: Unspecified, TimeoutError: Timeout: Unspecified\n"
     ]
    },
    {
     "name": "stdout",
     "output_type": "stream",
     "text": [
      "Data saved. Total tweets: 43080\n",
      "Data saved. Total tweets: 43140\n",
      "Data saved. Total tweets: 43200\n"
     ]
    },
    {
     "name": "stderr",
     "output_type": "stream",
     "text": [
      "Twitter responded with an error: DependencyError: Dependency: Unspecified\n"
     ]
    },
    {
     "name": "stdout",
     "output_type": "stream",
     "text": [
      "Data saved. Total tweets: 43260\n",
      "Data saved. Total tweets: 43320\n",
      "Data saved. Total tweets: 43380\n"
     ]
    },
    {
     "name": "stderr",
     "output_type": "stream",
     "text": [
      "Twitter responded with an error: DependencyError: Dependency: Unspecified\n"
     ]
    },
    {
     "name": "stdout",
     "output_type": "stream",
     "text": [
      "Data saved. Total tweets: 43440\n",
      "Data saved. Total tweets: 43500\n",
      "Data saved. Total tweets: 43560\n"
     ]
    },
    {
     "name": "stderr",
     "output_type": "stream",
     "text": [
      "Twitter responded with an error: DependencyError: Dependency: Unspecified\n"
     ]
    },
    {
     "name": "stdout",
     "output_type": "stream",
     "text": [
      "Data saved. Total tweets: 43620\n"
     ]
    },
    {
     "name": "stderr",
     "output_type": "stream",
     "text": [
      "Could not translate t.co card URL on tweet 1652445217688043522\n"
     ]
    },
    {
     "name": "stdout",
     "output_type": "stream",
     "text": [
      "Data saved. Total tweets: 43680\n",
      "Data saved. Total tweets: 43740\n",
      "Data saved. Total tweets: 43800\n"
     ]
    },
    {
     "name": "stderr",
     "output_type": "stream",
     "text": [
      "Twitter responded with an error: DependencyError: Dependency: Unspecified\n"
     ]
    },
    {
     "name": "stdout",
     "output_type": "stream",
     "text": [
      "Data saved. Total tweets: 43860\n",
      "Data saved. Total tweets: 43920\n"
     ]
    },
    {
     "name": "stderr",
     "output_type": "stream",
     "text": [
      "Twitter responded with an error: DependencyError: Dependency: Unspecified\n"
     ]
    },
    {
     "name": "stdout",
     "output_type": "stream",
     "text": [
      "Data saved. Total tweets: 43980\n",
      "Data saved. Total tweets: 44040\n",
      "Data saved. Total tweets: 44100\n",
      "Data saved. Total tweets: 44160\n",
      "Data saved. Total tweets: 44220\n",
      "Data saved. Total tweets: 44280\n"
     ]
    },
    {
     "name": "stderr",
     "output_type": "stream",
     "text": [
      "Unavailable user in card on tweet 1652438868791107586\n",
      "User 28550209 not found in user refs in card on tweet 1652438868791107586\n"
     ]
    },
    {
     "name": "stdout",
     "output_type": "stream",
     "text": [
      "Data saved. Total tweets: 44340\n",
      "Data saved. Total tweets: 44400\n",
      "Data saved. Total tweets: 44460\n",
      "Data saved. Total tweets: 44520\n",
      "Data saved. Total tweets: 44580\n",
      "Data saved. Total tweets: 44640\n",
      "Data saved. Total tweets: 44700\n",
      "Data saved. Total tweets: 44760\n",
      "Data saved. Total tweets: 44820\n",
      "Data saved. Total tweets: 44880\n",
      "Data saved. Total tweets: 44940\n",
      "Data saved. Total tweets: 45000\n",
      "Data saved. Total tweets: 45060\n",
      "Data saved. Total tweets: 45120\n"
     ]
    },
    {
     "name": "stderr",
     "output_type": "stream",
     "text": [
      "Unavailable user in card on tweet 1652432617147441153\n",
      "User 28550209 not found in user refs in card on tweet 1652432617147441153\n"
     ]
    },
    {
     "name": "stdout",
     "output_type": "stream",
     "text": [
      "Data saved. Total tweets: 45180\n",
      "Data saved. Total tweets: 45240\n",
      "Data saved. Total tweets: 45300\n",
      "Data saved. Total tweets: 45360\n",
      "Data saved. Total tweets: 45420\n",
      "Data saved. Total tweets: 45480\n",
      "Data saved. Total tweets: 45540\n"
     ]
    },
    {
     "name": "stderr",
     "output_type": "stream",
     "text": [
      "Could not translate t.co card URL on tweet 1652429204993212423\n"
     ]
    },
    {
     "name": "stdout",
     "output_type": "stream",
     "text": [
      "Data saved. Total tweets: 45600\n",
      "Data saved. Total tweets: 45660\n",
      "Data saved. Total tweets: 45720\n",
      "Data saved. Total tweets: 45780\n",
      "Data saved. Total tweets: 45840\n"
     ]
    },
    {
     "name": "stderr",
     "output_type": "stream",
     "text": [
      "Unavailable user in card on tweet 1652426946075140102\n",
      "User 28550209 not found in user refs in card on tweet 1652426946075140102\n",
      "Could not translate t.co card URL on tweet 1652426833680367616\n"
     ]
    },
    {
     "name": "stdout",
     "output_type": "stream",
     "text": [
      "Data saved. Total tweets: 45900\n",
      "Data saved. Total tweets: 45960\n",
      "Data saved. Total tweets: 46020\n",
      "Data saved. Total tweets: 46080\n",
      "Data saved. Total tweets: 46140\n",
      "Data saved. Total tweets: 46200\n",
      "Data saved. Total tweets: 46260\n",
      "Data saved. Total tweets: 46320\n",
      "Data saved. Total tweets: 46380\n",
      "Data saved. Total tweets: 46440\n",
      "Data saved. Total tweets: 46500\n",
      "Data saved. Total tweets: 46560\n",
      "Data saved. Total tweets: 46620\n",
      "Data saved. Total tweets: 46680\n",
      "Data saved. Total tweets: 46740\n",
      "Data saved. Total tweets: 46800\n",
      "Data saved. Total tweets: 46860\n",
      "Data saved. Total tweets: 46920\n",
      "Data saved. Total tweets: 46980\n",
      "Data saved. Total tweets: 47040\n",
      "Data saved. Total tweets: 47100\n",
      "Data saved. Total tweets: 47160\n",
      "Data saved. Total tweets: 47220\n",
      "Data saved. Total tweets: 47280\n",
      "Data saved. Total tweets: 47340\n",
      "Data saved. Total tweets: 47400\n",
      "Data saved. Total tweets: 47460\n",
      "Data saved. Total tweets: 47520\n",
      "Data saved. Total tweets: 47580\n",
      "Data saved. Total tweets: 47640\n",
      "Data saved. Total tweets: 47700\n",
      "Data saved. Total tweets: 47760\n",
      "Data saved. Total tweets: 47820\n",
      "Data saved. Total tweets: 47880\n",
      "Data saved. Total tweets: 47940\n",
      "Data saved. Total tweets: 48000\n",
      "Data saved. Total tweets: 48060\n",
      "Data saved. Total tweets: 48120\n",
      "Data saved. Total tweets: 48180\n",
      "Data saved. Total tweets: 48240\n",
      "Data saved. Total tweets: 48300\n",
      "Data saved. Total tweets: 48360\n",
      "Data saved. Total tweets: 48420\n",
      "Data saved. Total tweets: 48480\n",
      "Data saved. Total tweets: 48540\n",
      "Data saved. Total tweets: 48600\n",
      "Data saved. Total tweets: 48660\n",
      "Data saved. Total tweets: 48720\n",
      "Data saved. Total tweets: 48780\n",
      "Data saved. Total tweets: 48840\n",
      "Data saved. Total tweets: 48900\n",
      "Data saved. Total tweets: 48960\n",
      "Data saved. Total tweets: 49020\n",
      "Data saved. Total tweets: 49080\n",
      "Data saved. Total tweets: 49140\n",
      "Data saved. Total tweets: 49200\n",
      "Data saved. Total tweets: 49260\n",
      "Data saved. Total tweets: 49320\n",
      "Data saved. Total tweets: 49380\n",
      "Data saved. Total tweets: 49440\n",
      "Data saved. Total tweets: 49500\n",
      "Data saved. Total tweets: 49560\n",
      "Data saved. Total tweets: 49620\n",
      "Data saved. Total tweets: 49680\n",
      "Data saved. Total tweets: 49740\n",
      "Data saved. Total tweets: 49800\n",
      "Data saved. Total tweets: 49860\n",
      "Data saved. Total tweets: 49920\n",
      "Data saved. Total tweets: 49980\n",
      "Data saved. Total tweets: 50040\n",
      "Data saved. Total tweets: 50100\n",
      "Data saved. Total tweets: 50160\n"
     ]
    },
    {
     "name": "stderr",
     "output_type": "stream",
     "text": [
      "Unavailable user in card on tweet 1652395529215655944\n",
      "User 2542950102 not found in user refs in card on tweet 1652395529215655944\n"
     ]
    }
   ],
   "source": [
    "# Define the file path for saving the data\n",
    "file_path = \"weather tweets.csv\"\n",
    "\n",
    "# Define the condition to stop the scraping process\n",
    "stop_condition = 1000000  # Stop after collecting 1 million tweets\n",
    "\n",
    "# Define the interval for saving the data\n",
    "save_interval = 60  # Save every 60 tweets\n",
    "\n",
    "# Function to scrape tweets based on a given query\n",
    "def scrape_tweets(query):\n",
    "    # Initialize the list to store the scraped data\n",
    "    tweets = []\n",
    "    tweet_count = 0  # Counter for the number of tweets collected\n",
    "\n",
    "    while tweet_count < stop_condition:\n",
    "        try:\n",
    "            # Scrape tweets\n",
    "            scraper = sntwitter.TwitterSearchScraper(query)\n",
    "            for i, tweet in enumerate(scraper.get_items()):\n",
    "                tweets.append([tweet.date, tweet.user.username, tweet.user.location, \n",
    "                               tweet.rawContent, tweet.likeCount, tweet.retweetCount, \n",
    "                               tweet.user.followersCount, tweet.replyCount])\n",
    "                tweet_count += 1\n",
    "\n",
    "                # Check if it's time to save the data\n",
    "                if tweet_count % save_interval == 0:\n",
    "                    save_data(tweets)\n",
    "                    print(f\"Data saved. Total tweets: {tweet_count}\")\n",
    "\n",
    "        except Exception as e:\n",
    "            print(f\"Error occurred: {str(e)}. Retrying in 5 seconds...\")\n",
    "            time.sleep(5)  # Wait for 5 seconds before retrying\n",
    "\n",
    "    return tweets\n",
    "\n",
    "# Function to save the data to a CSV file\n",
    "def save_data(data):\n",
    "    with open(file_path, \"w\", newline=\"\", encoding=\"utf-8\") as file:\n",
    "        writer = csv.writer(file)\n",
    "        writer.writerow([\"date\", \"username\", \"user_location\", \"tweet\", \"num_of_like\", \"num_of_retweet\",\n",
    "                         \"num_of_followers\", \"num_of_reply\"])  # Write the header\n",
    "        writer.writerows(data)  # Write the rows\n",
    "\n",
    "# Define your query\n",
    "query = \"(#weather OR 'weather') lang:en since:2022-05-01 until:2023-05-01\"\n",
    "\n",
    "# Call the function to scrape tweets\n",
    "tweets = scrape_tweets(query)\n",
    "\n",
    "# Save the final scraped data\n",
    "save_data(tweets)\n",
    "\n",
    "print(\"Data saved successfully.\")\n"
   ]
  },
  {
   "cell_type": "code",
   "execution_count": null,
   "id": "bf49f0ef",
   "metadata": {},
   "outputs": [],
   "source": [
    "# MongoDB connection settings\n",
    "mongo_url = \"mongodb://localhost:27017/\"\n",
    "database_name = \"twitter_data\"\n",
    "collection_name = \"tweets\"\n",
    "\n",
    "# Define the condition to stop the scraping process\n",
    "stop_condition = 1000000  # Stop after collecting 1 million tweets\n",
    "\n",
    "# Function to scrape tweets based on a given query and save to MongoDB\n",
    "def scrape_tweets_and_save_to_mongodb(query):\n",
    "    # Initialize the MongoDB client\n",
    "    client = MongoClient(mongo_url)\n",
    "    db = client[database_name]\n",
    "    collection = db[collection_name]\n",
    "\n",
    "    tweet_count = 0  # Counter for the number of tweets collected\n",
    "\n",
    "    while tweet_count < stop_condition:\n",
    "        try:\n",
    "            # Scrape tweets\n",
    "            scraper = sntwitter.TwitterSearchScraper(query)\n",
    "            for i, tweet in enumerate(scraper.get_items()):\n",
    "                tweet_data = {\n",
    "                    \"date\": tweet.date,\n",
    "                    \"username\": tweet.user.username,\n",
    "                    \"user_location\": tweet.user.location,\n",
    "                    \"tweet\": tweet.content,\n",
    "                    \"num_of_like\": tweet.likeCount,\n",
    "                    \"num_of_retweet\": tweet.retweetCount,\n",
    "                    \"num_of_followers\": tweet.user.followersCount,\n",
    "                    \"num_of_reply\": tweet.replyCount\n",
    "                }\n",
    "                collection.insert_one(tweet_data)\n",
    "                tweet_count += 1\n",
    "\n",
    "                # Check if it's time to save the data\n",
    "                if tweet_count % save_interval == 0:\n",
    "                    print(f\"Data saved. Total tweets: {tweet_count}\")\n",
    "\n",
    "        except Exception as e:\n",
    "            print(f\"Error occurred: {str(e)}. Retrying in 5 seconds...\")\n",
    "            time.sleep(5)  # Wait for 5 seconds before retrying\n",
    "\n",
    "    client.close()\n",
    "\n",
    "# Define your query\n",
    "query = \"(#weather OR 'weather') lang:en since:2022-05-01 until:2023-05-01\"\n",
    "\n",
    "# Call the function to scrape tweets and save to MongoDB\n",
    "scrape_tweets_and_save_to_mongodb(query)\n",
    "\n",
    "print(\"Data saved to MongoDB.\")"
   ]
  }
 ],
 "metadata": {
  "kernelspec": {
   "display_name": "Python 3 (ipykernel)",
   "language": "python",
   "name": "python3"
  },
  "language_info": {
   "codemirror_mode": {
    "name": "ipython",
    "version": 3
   },
   "file_extension": ".py",
   "mimetype": "text/x-python",
   "name": "python",
   "nbconvert_exporter": "python",
   "pygments_lexer": "ipython3",
   "version": "3.10.9"
  }
 },
 "nbformat": 4,
 "nbformat_minor": 5
}
