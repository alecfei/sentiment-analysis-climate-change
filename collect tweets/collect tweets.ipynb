{
 "cells": [
  {
   "cell_type": "markdown",
   "id": "57dace67",
   "metadata": {},
   "source": [
    "## Collect tweets"
   ]
  },
  {
   "cell_type": "markdown",
   "id": "7c2c6bd8",
   "metadata": {},
   "source": [
    "<span style=\"font-size: 12pt;\">This notebook demonstrates the method utilised to gather tweets on the topic of **global warming** in the past year.</span>"
   ]
  },
  {
   "cell_type": "markdown",
   "id": "2938bb6d",
   "metadata": {},
   "source": [
    "<br>"
   ]
  },
  {
   "cell_type": "markdown",
   "id": "c00b71ec",
   "metadata": {},
   "source": [
    "- **Install snscrape library to help collecting tweets**"
   ]
  },
  {
   "cell_type": "code",
   "execution_count": null,
   "id": "b41ddccb",
   "metadata": {},
   "outputs": [],
   "source": [
    "#!pip3 install --upgrade git+https://github.com/JustAnotherArchivist/snscrape.git"
   ]
  },
  {
   "cell_type": "code",
   "execution_count": 1,
   "id": "934286ea",
   "metadata": {},
   "outputs": [],
   "source": [
    "# Import essential libraries\n",
    "import csv\n",
    "import time\n",
    "import snscrape.modules.twitter as sntwitter\n",
    "from pymongo import MongoClient"
   ]
  },
  {
   "cell_type": "code",
   "execution_count": 2,
   "id": "b400639b",
   "metadata": {},
   "outputs": [
    {
     "name": "stdout",
     "output_type": "stream",
     "text": [
      "Data saved. Total tweets: 100\n",
      "Data saved. Total tweets: 200\n"
     ]
    },
    {
     "name": "stderr",
     "output_type": "stream",
     "text": [
      "Unavailable user in card on tweet 1652775512702431233\n",
      "User 14204245 not found in user refs in card on tweet 1652775512702431233\n"
     ]
    },
    {
     "name": "stdout",
     "output_type": "stream",
     "text": [
      "Data saved. Total tweets: 300\n",
      "Data saved. Total tweets: 400\n",
      "Data saved. Total tweets: 500\n",
      "Data saved. Total tweets: 600\n",
      "Data saved. Total tweets: 700\n",
      "Data saved. Total tweets: 800\n",
      "Data saved. Total tweets: 900\n",
      "Data saved. Total tweets: 1000\n",
      "Data saved. Total tweets: 1100\n",
      "Data saved. Total tweets: 1200\n",
      "Data saved. Total tweets: 1300\n",
      "Data saved. Total tweets: 1400\n",
      "Data saved. Total tweets: 1500\n",
      "Data saved. Total tweets: 1600\n",
      "Data saved. Total tweets: 1700\n",
      "Data saved. Total tweets: 1800\n",
      "Data saved. Total tweets: 1900\n",
      "Data saved. Total tweets: 2000\n",
      "Data saved. Total tweets: 2100\n",
      "Data saved. Total tweets: 2200\n"
     ]
    },
    {
     "name": "stderr",
     "output_type": "stream",
     "text": [
      "Unavailable user in card on tweet 1652412394063163392\n",
      "Unavailable user in card on tweet 1652412394063163392\n",
      "User 1203690121373069312 not found in user refs in card on tweet 1652412394063163392\n",
      "User 1203690121373069312 not found in user refs in card on tweet 1652412394063163392\n"
     ]
    },
    {
     "name": "stdout",
     "output_type": "stream",
     "text": [
      "Data saved. Total tweets: 2300\n",
      "Data saved. Total tweets: 2400\n",
      "Data saved. Total tweets: 2500\n",
      "Data saved. Total tweets: 2600\n",
      "Data saved. Total tweets: 2700\n",
      "Data saved. Total tweets: 2800\n",
      "Data saved. Total tweets: 2900\n",
      "Data saved. Total tweets: 3000\n",
      "Data saved. Total tweets: 3100\n",
      "Data saved. Total tweets: 3200\n",
      "Data saved. Total tweets: 3300\n",
      "Data saved. Total tweets: 3400\n",
      "Data saved. Total tweets: 3500\n",
      "Data saved. Total tweets: 3600\n",
      "Data saved. Total tweets: 3700\n",
      "Data saved. Total tweets: 3800\n",
      "Data saved. Total tweets: 3900\n",
      "Data saved. Total tweets: 4000\n"
     ]
    },
    {
     "name": "stderr",
     "output_type": "stream",
     "text": [
      "Unavailable user in card on tweet 1652083991930089472\n",
      "User 14204245 not found in user refs in card on tweet 1652083991930089472\n"
     ]
    },
    {
     "name": "stdout",
     "output_type": "stream",
     "text": [
      "Data saved. Total tweets: 4100\n"
     ]
    },
    {
     "name": "stderr",
     "output_type": "stream",
     "text": [
      "Unavailable user in card on tweet 1652067591496581120\n",
      "User 28550209 not found in user refs in card on tweet 1652067591496581120\n"
     ]
    },
    {
     "name": "stdout",
     "output_type": "stream",
     "text": [
      "Data saved. Total tweets: 4200\n",
      "Data saved. Total tweets: 4300\n",
      "Data saved. Total tweets: 4400\n"
     ]
    },
    {
     "name": "stderr",
     "output_type": "stream",
     "text": [
      "Could not translate t.co card URL on tweet 1652036197722497042\n",
      "Unavailable user in card on tweet 1652031947697278976\n",
      "User 14204245 not found in user refs in card on tweet 1652031947697278976\n"
     ]
    },
    {
     "name": "stdout",
     "output_type": "stream",
     "text": [
      "Data saved. Total tweets: 4500\n",
      "Data saved. Total tweets: 4600\n",
      "Data saved. Total tweets: 4700\n",
      "Data saved. Total tweets: 4800\n",
      "Data saved. Total tweets: 4900\n",
      "Data saved. Total tweets: 5000\n",
      "Data saved. Total tweets: 5100\n"
     ]
    },
    {
     "name": "stderr",
     "output_type": "stream",
     "text": [
      "Could not translate t.co card URL on tweet 1651953634748317697\n"
     ]
    },
    {
     "name": "stdout",
     "output_type": "stream",
     "text": [
      "Data saved. Total tweets: 5200\n",
      "Data saved. Total tweets: 5300\n",
      "Data saved. Total tweets: 5400\n"
     ]
    },
    {
     "name": "stderr",
     "output_type": "stream",
     "text": [
      "Unavailable user in card on tweet 1651913038956511236\n",
      "User 14204245 not found in user refs in card on tweet 1651913038956511236\n"
     ]
    },
    {
     "name": "stdout",
     "output_type": "stream",
     "text": [
      "Data saved. Total tweets: 5500\n"
     ]
    },
    {
     "name": "stderr",
     "output_type": "stream",
     "text": [
      "Could not translate t.co card URL on tweet 1651898092931923970\n"
     ]
    },
    {
     "name": "stdout",
     "output_type": "stream",
     "text": [
      "Data saved. Total tweets: 5600\n",
      "Data saved. Total tweets: 5700\n",
      "Data saved. Total tweets: 5800\n",
      "Data saved. Total tweets: 5900\n"
     ]
    },
    {
     "name": "stderr",
     "output_type": "stream",
     "text": [
      "Unavailable user in card on tweet 1651805648315875328\n",
      "User 14204245 not found in user refs in card on tweet 1651805648315875328\n"
     ]
    },
    {
     "name": "stdout",
     "output_type": "stream",
     "text": [
      "Data saved. Total tweets: 6000\n",
      "Data saved. Total tweets: 6100\n",
      "Data saved. Total tweets: 6200\n",
      "Data saved. Total tweets: 6300\n",
      "Data saved. Total tweets: 6400\n",
      "Data saved. Total tweets: 6500\n",
      "Data saved. Total tweets: 6600\n"
     ]
    },
    {
     "name": "stderr",
     "output_type": "stream",
     "text": [
      "Unavailable user in card on tweet 1651685091293163557\n",
      "Unavailable user in card on tweet 1651685091293163557\n",
      "User 1203690121373069312 not found in user refs in card on tweet 1651685091293163557\n",
      "User 1203690121373069312 not found in user refs in card on tweet 1651685091293163557\n",
      "Unavailable user in card on tweet 1651684602983903242\n",
      "Unavailable user in card on tweet 1651684602983903242\n",
      "User 1203690121373069312 not found in user refs in card on tweet 1651684602983903242\n",
      "User 1203690121373069312 not found in user refs in card on tweet 1651684602983903242\n",
      "Unavailable user in card on tweet 1651683075670298625\n",
      "Unavailable user in card on tweet 1651683075670298625\n",
      "User 1203690121373069312 not found in user refs in card on tweet 1651683075670298625\n",
      "User 1203690121373069312 not found in user refs in card on tweet 1651683075670298625\n",
      "Unavailable user in card on tweet 1651682452648128517\n",
      "Unavailable user in card on tweet 1651682452648128517\n",
      "User 1203690121373069312 not found in user refs in card on tweet 1651682452648128517\n",
      "User 1203690121373069312 not found in user refs in card on tweet 1651682452648128517\n",
      "Unavailable user in card on tweet 1651682304656326656\n",
      "Unavailable user in card on tweet 1651682304656326656\n",
      "User 1203690121373069312 not found in user refs in card on tweet 1651682304656326656\n",
      "User 1203690121373069312 not found in user refs in card on tweet 1651682304656326656\n"
     ]
    },
    {
     "name": "stdout",
     "output_type": "stream",
     "text": [
      "Data saved. Total tweets: 6700\n",
      "Data saved. Total tweets: 6800\n"
     ]
    },
    {
     "name": "stderr",
     "output_type": "stream",
     "text": [
      "Unavailable user in card on tweet 1651670450936639497\n",
      "User 14204245 not found in user refs in card on tweet 1651670450936639497\n"
     ]
    },
    {
     "name": "stdout",
     "output_type": "stream",
     "text": [
      "Data saved. Total tweets: 6900\n",
      "Data saved. Total tweets: 7000\n",
      "Data saved. Total tweets: 7100\n"
     ]
    },
    {
     "name": "stderr",
     "output_type": "stream",
     "text": [
      "Unavailable user in card on tweet 1651629223340064770\n",
      "User 14204245 not found in user refs in card on tweet 1651629223340064770\n"
     ]
    },
    {
     "name": "stdout",
     "output_type": "stream",
     "text": [
      "Data saved. Total tweets: 7200\n",
      "Data saved. Total tweets: 7300\n",
      "Data saved. Total tweets: 7400\n",
      "Data saved. Total tweets: 7500\n",
      "Data saved. Total tweets: 7600\n"
     ]
    },
    {
     "name": "stderr",
     "output_type": "stream",
     "text": [
      "Could not translate t.co card URL on tweet 1651582815283326977\n",
      "Could not translate t.co card URL on tweet 1651582543333060608\n"
     ]
    },
    {
     "name": "stdout",
     "output_type": "stream",
     "text": [
      "Data saved. Total tweets: 7700\n"
     ]
    },
    {
     "name": "stderr",
     "output_type": "stream",
     "text": [
      "Could not translate t.co card URL on tweet 1651578334147670017\n",
      "Could not translate t.co card URL on tweet 1651578266585804800\n",
      "Could not translate t.co card URL on tweet 1651577846933094400\n",
      "Could not translate t.co card URL on tweet 1651577783192256514\n",
      "Could not translate t.co card URL on tweet 1651574395280986112\n",
      "Could not translate t.co card URL on tweet 1651573825019199489\n",
      "Could not translate t.co card URL on tweet 1651572725490806784\n"
     ]
    },
    {
     "name": "stdout",
     "output_type": "stream",
     "text": [
      "Data saved. Total tweets: 7800\n"
     ]
    },
    {
     "name": "stderr",
     "output_type": "stream",
     "text": [
      "Could not translate t.co card URL on tweet 1651571289763749888\n",
      "Could not translate t.co card URL on tweet 1651569984886411264\n",
      "Could not translate t.co card URL on tweet 1651569743630045184\n",
      "Could not translate t.co card URL on tweet 1651569176782450688\n",
      "Could not translate t.co card URL on tweet 1651569125947498497\n",
      "Could not translate t.co card URL on tweet 1651568052553789440\n",
      "Could not translate t.co card URL on tweet 1651568001496518657\n"
     ]
    },
    {
     "name": "stdout",
     "output_type": "stream",
     "text": [
      "Data saved. Total tweets: 7900\n",
      "Data saved. Total tweets: 8000\n",
      "Data saved. Total tweets: 8100\n",
      "Data saved. Total tweets: 8200\n",
      "Data saved. Total tweets: 8300\n",
      "Data saved. Total tweets: 8400\n",
      "Data saved. Total tweets: 8500\n",
      "Data saved. Total tweets: 8600\n",
      "Data saved. Total tweets: 8700\n",
      "Data saved. Total tweets: 8800\n",
      "Data saved. Total tweets: 8900\n",
      "Data saved. Total tweets: 9000\n",
      "Data saved. Total tweets: 9100\n",
      "Data saved. Total tweets: 9200\n",
      "Data saved. Total tweets: 9300\n",
      "Data saved. Total tweets: 9400\n",
      "Data saved. Total tweets: 9500\n",
      "Data saved. Total tweets: 9600\n",
      "Data saved. Total tweets: 9700\n",
      "Data saved. Total tweets: 9800\n",
      "Data saved. Total tweets: 9900\n",
      "Data saved. Total tweets: 10000\n",
      "Data saved. Total tweets: 10100\n",
      "Data saved. Total tweets: 10200\n",
      "Data saved. Total tweets: 10300\n",
      "Data saved. Total tweets: 10400\n",
      "Data saved. Total tweets: 10500\n"
     ]
    },
    {
     "name": "stderr",
     "output_type": "stream",
     "text": [
      "Could not translate t.co card URL on tweet 1651203395854938112\n"
     ]
    },
    {
     "name": "stdout",
     "output_type": "stream",
     "text": [
      "Data saved. Total tweets: 10600\n",
      "Data saved. Total tweets: 10700\n",
      "Data saved. Total tweets: 10800\n",
      "Data saved. Total tweets: 10900\n",
      "Data saved. Total tweets: 11000\n",
      "Data saved. Total tweets: 11100\n",
      "Data saved. Total tweets: 11200\n",
      "Data saved. Total tweets: 11300\n",
      "Data saved. Total tweets: 11400\n",
      "Data saved. Total tweets: 11500\n",
      "Data saved. Total tweets: 11600\n",
      "Data saved. Total tweets: 11700\n",
      "Data saved. Total tweets: 11800\n",
      "Data saved. Total tweets: 11900\n",
      "Data saved. Total tweets: 12000\n",
      "Data saved. Total tweets: 12100\n",
      "Data saved. Total tweets: 12200\n",
      "Data saved. Total tweets: 12300\n",
      "Data saved. Total tweets: 12400\n",
      "Data saved. Total tweets: 12500\n",
      "Data saved. Total tweets: 12600\n",
      "Data saved. Total tweets: 12700\n",
      "Data saved. Total tweets: 12800\n",
      "Data saved. Total tweets: 12900\n",
      "Data saved. Total tweets: 13000\n",
      "Data saved. Total tweets: 13100\n",
      "Data saved. Total tweets: 13200\n",
      "Data saved. Total tweets: 13300\n",
      "Data saved. Total tweets: 13400\n",
      "Data saved. Total tweets: 13500\n",
      "Data saved. Total tweets: 13600\n",
      "Data saved. Total tweets: 13700\n",
      "Data saved. Total tweets: 13800\n",
      "Data saved. Total tweets: 13900\n",
      "Data saved. Total tweets: 14000\n",
      "Data saved. Total tweets: 14100\n",
      "Data saved. Total tweets: 14200\n"
     ]
    },
    {
     "name": "stderr",
     "output_type": "stream",
     "text": [
      "Could not translate t.co card URL on tweet 1650639140285997057\n"
     ]
    },
    {
     "name": "stdout",
     "output_type": "stream",
     "text": [
      "Data saved. Total tweets: 14300\n"
     ]
    },
    {
     "name": "stderr",
     "output_type": "stream",
     "text": [
      "Could not translate t.co card URL on tweet 1650615987341864965\n"
     ]
    },
    {
     "name": "stdout",
     "output_type": "stream",
     "text": [
      "Data saved. Total tweets: 14400\n",
      "Data saved. Total tweets: 14500\n",
      "Data saved. Total tweets: 14600\n",
      "Data saved. Total tweets: 14700\n",
      "Data saved. Total tweets: 14800\n",
      "Data saved. Total tweets: 14900\n",
      "Data saved. Total tweets: 15000\n",
      "Data saved. Total tweets: 15100\n",
      "Data saved. Total tweets: 15200\n",
      "Data saved. Total tweets: 15300\n",
      "Data saved. Total tweets: 15400\n",
      "Data saved. Total tweets: 15500\n",
      "Data saved. Total tweets: 15600\n",
      "Data saved. Total tweets: 15700\n",
      "Data saved. Total tweets: 15800\n",
      "Data saved. Total tweets: 15900\n",
      "Data saved. Total tweets: 16000\n",
      "Data saved. Total tweets: 16100\n",
      "Data saved. Total tweets: 16200\n",
      "Data saved. Total tweets: 16300\n",
      "Data saved. Total tweets: 16400\n",
      "Data saved. Total tweets: 16500\n",
      "Data saved. Total tweets: 16600\n",
      "Data saved. Total tweets: 16700\n",
      "Data saved. Total tweets: 16800\n",
      "Data saved. Total tweets: 16900\n",
      "Data saved. Total tweets: 17000\n",
      "Data saved. Total tweets: 17100\n",
      "Data saved. Total tweets: 17200\n",
      "Data saved. Total tweets: 17300\n",
      "Data saved. Total tweets: 17400\n",
      "Data saved. Total tweets: 17500\n",
      "Data saved. Total tweets: 17600\n",
      "Data saved. Total tweets: 17700\n",
      "Data saved. Total tweets: 17800\n",
      "Data saved. Total tweets: 17900\n",
      "Data saved. Total tweets: 18000\n",
      "Data saved. Total tweets: 18100\n",
      "Data saved. Total tweets: 18200\n",
      "Data saved. Total tweets: 18300\n",
      "Data saved. Total tweets: 18400\n",
      "Data saved. Total tweets: 18500\n",
      "Data saved. Total tweets: 18600\n",
      "Data saved. Total tweets: 18700\n",
      "Data saved. Total tweets: 18800\n",
      "Data saved. Total tweets: 18900\n",
      "Data saved. Total tweets: 19000\n"
     ]
    },
    {
     "name": "stderr",
     "output_type": "stream",
     "text": [
      "Unavailable user in card on tweet 1650056594510544896\n",
      "Unavailable user in card on tweet 1650056594510544896\n",
      "User 41566187 not found in user refs in card on tweet 1650056594510544896\n",
      "User 41566187 not found in user refs in card on tweet 1650056594510544896\n"
     ]
    },
    {
     "name": "stdout",
     "output_type": "stream",
     "text": [
      "Data saved. Total tweets: 19100\n",
      "Data saved. Total tweets: 19200\n",
      "Data saved. Total tweets: 19300\n",
      "Data saved. Total tweets: 19400\n",
      "Data saved. Total tweets: 19500\n"
     ]
    },
    {
     "name": "stderr",
     "output_type": "stream",
     "text": [
      "Unavailable user in card on tweet 1649989822654603266\n",
      "Unavailable user in card on tweet 1649989822654603266\n",
      "User 15843059 not found in user refs in card on tweet 1649989822654603266\n",
      "User 15843059 not found in user refs in card on tweet 1649989822654603266\n"
     ]
    },
    {
     "name": "stdout",
     "output_type": "stream",
     "text": [
      "Data saved. Total tweets: 19600\n",
      "Data saved. Total tweets: 19700\n",
      "Data saved. Total tweets: 19800\n",
      "Data saved. Total tweets: 19900\n",
      "Data saved. Total tweets: 20000\n",
      "Data saved. Total tweets: 20100\n",
      "Data saved. Total tweets: 20200\n",
      "Data saved. Total tweets: 20300\n",
      "Data saved. Total tweets: 20400\n"
     ]
    },
    {
     "name": "stderr",
     "output_type": "stream",
     "text": [
      "Could not translate t.co card URL on tweet 1649895667765063682\n"
     ]
    },
    {
     "name": "stdout",
     "output_type": "stream",
     "text": [
      "Data saved. Total tweets: 20500\n",
      "Data saved. Total tweets: 20600\n",
      "Data saved. Total tweets: 20700\n"
     ]
    },
    {
     "name": "stderr",
     "output_type": "stream",
     "text": [
      "Could not translate t.co card URL on tweet 1649868199410671617\n",
      "Unavailable user in card on tweet 1649861599442657280\n",
      "Unavailable user in card on tweet 1649861599442657280\n",
      "User 1203690121373069312 not found in user refs in card on tweet 1649861599442657280\n",
      "User 1203690121373069312 not found in user refs in card on tweet 1649861599442657280\n"
     ]
    },
    {
     "name": "stdout",
     "output_type": "stream",
     "text": [
      "Data saved. Total tweets: 20800\n"
     ]
    },
    {
     "name": "stderr",
     "output_type": "stream",
     "text": [
      "Unavailable user in card on tweet 1649854419985391618\n",
      "Unavailable user in card on tweet 1649854419985391618\n",
      "User 1203690121373069312 not found in user refs in card on tweet 1649854419985391618\n",
      "User 1203690121373069312 not found in user refs in card on tweet 1649854419985391618\n"
     ]
    },
    {
     "name": "stdout",
     "output_type": "stream",
     "text": [
      "Data saved. Total tweets: 20900\n",
      "Data saved. Total tweets: 21000\n",
      "Data saved. Total tweets: 21100\n",
      "Data saved. Total tweets: 21200\n",
      "Data saved. Total tweets: 21300\n",
      "Data saved. Total tweets: 21400\n",
      "Data saved. Total tweets: 21500\n"
     ]
    },
    {
     "name": "stderr",
     "output_type": "stream",
     "text": [
      "Unavailable user in card on tweet 1649804709815787523\n",
      "Unavailable user in card on tweet 1649804709815787523\n",
      "User 15843059 not found in user refs in card on tweet 1649804709815787523\n",
      "User 15843059 not found in user refs in card on tweet 1649804709815787523\n"
     ]
    },
    {
     "name": "stdout",
     "output_type": "stream",
     "text": [
      "Data saved. Total tweets: 21600\n",
      "Data saved. Total tweets: 21700\n"
     ]
    },
    {
     "name": "stderr",
     "output_type": "stream",
     "text": [
      "Could not translate t.co card URL on tweet 1649798274629488640\n",
      "Could not translate t.co card URL on tweet 1649790864762482690\n"
     ]
    },
    {
     "name": "stdout",
     "output_type": "stream",
     "text": [
      "Data saved. Total tweets: 21800\n",
      "Data saved. Total tweets: 21900\n",
      "Data saved. Total tweets: 22000\n",
      "Data saved. Total tweets: 22100\n",
      "Data saved. Total tweets: 22200\n",
      "Data saved. Total tweets: 22300\n",
      "Data saved. Total tweets: 22400\n",
      "Data saved. Total tweets: 22500\n",
      "Data saved. Total tweets: 22600\n",
      "Data saved. Total tweets: 22700\n",
      "Data saved. Total tweets: 22800\n",
      "Data saved. Total tweets: 22900\n",
      "Data saved. Total tweets: 23000\n",
      "Data saved. Total tweets: 23100\n",
      "Data saved. Total tweets: 23200\n",
      "Data saved. Total tweets: 23300\n",
      "Data saved. Total tweets: 23400\n",
      "Data saved. Total tweets: 23500\n",
      "Data saved. Total tweets: 23600\n",
      "Data saved. Total tweets: 23700\n",
      "Data saved. Total tweets: 23800\n"
     ]
    },
    {
     "name": "stderr",
     "output_type": "stream",
     "text": [
      "Could not translate t.co card URL on tweet 1649522548831395841\n"
     ]
    },
    {
     "name": "stdout",
     "output_type": "stream",
     "text": [
      "Data saved. Total tweets: 23900\n",
      "Data saved. Total tweets: 24000\n"
     ]
    },
    {
     "name": "stderr",
     "output_type": "stream",
     "text": [
      "Unavailable user in card on tweet 1649494142706241547\n",
      "Unavailable user in card on tweet 1649494142706241547\n",
      "User 1203690121373069312 not found in user refs in card on tweet 1649494142706241547\n",
      "User 1203690121373069312 not found in user refs in card on tweet 1649494142706241547\n"
     ]
    },
    {
     "name": "stdout",
     "output_type": "stream",
     "text": [
      "Data saved. Total tweets: 24100\n",
      "Data saved. Total tweets: 24200\n",
      "Data saved. Total tweets: 24300\n",
      "Data saved. Total tweets: 24400\n",
      "Data saved. Total tweets: 24500\n"
     ]
    },
    {
     "name": "stderr",
     "output_type": "stream",
     "text": [
      "Unavailable user in card on tweet 1649447576352030723\n",
      "Unavailable user in card on tweet 1649447576352030723\n",
      "User 15843059 not found in user refs in card on tweet 1649447576352030723\n",
      "User 15843059 not found in user refs in card on tweet 1649447576352030723\n",
      "Unavailable user in card on tweet 1649440654437515264\n",
      "User 1580286049057742858 not found in user refs in card on tweet 1649440654437515264\n"
     ]
    },
    {
     "name": "stdout",
     "output_type": "stream",
     "text": [
      "Data saved. Total tweets: 24600\n",
      "Data saved. Total tweets: 24700\n"
     ]
    },
    {
     "name": "stderr",
     "output_type": "stream",
     "text": [
      "Could not translate t.co card URL on tweet 1649426902723993608\n"
     ]
    },
    {
     "name": "stdout",
     "output_type": "stream",
     "text": [
      "Data saved. Total tweets: 24800\n",
      "Data saved. Total tweets: 24900\n",
      "Data saved. Total tweets: 25000\n",
      "Data saved. Total tweets: 25100\n",
      "Data saved. Total tweets: 25200\n",
      "Data saved. Total tweets: 25300\n",
      "Data saved. Total tweets: 25400\n",
      "Data saved. Total tweets: 25500\n",
      "Data saved. Total tweets: 25600\n"
     ]
    },
    {
     "name": "stderr",
     "output_type": "stream",
     "text": [
      "Unavailable user in card on tweet 1649295986118864898\n",
      "Unavailable user in card on tweet 1649295986118864898\n",
      "User 1203690121373069312 not found in user refs in card on tweet 1649295986118864898\n",
      "User 1203690121373069312 not found in user refs in card on tweet 1649295986118864898\n"
     ]
    },
    {
     "name": "stdout",
     "output_type": "stream",
     "text": [
      "Data saved. Total tweets: 25700\n",
      "Data saved. Total tweets: 25800\n",
      "Data saved. Total tweets: 25900\n",
      "Data saved. Total tweets: 26000\n",
      "Data saved. Total tweets: 26100\n",
      "Data saved. Total tweets: 26200\n",
      "Data saved. Total tweets: 26300\n",
      "Data saved. Total tweets: 26400\n",
      "Data saved. Total tweets: 26500\n",
      "Data saved. Total tweets: 26600\n",
      "Data saved. Total tweets: 26700\n",
      "Data saved. Total tweets: 26800\n",
      "Data saved. Total tweets: 26900\n",
      "Data saved. Total tweets: 27000\n",
      "Data saved. Total tweets: 27100\n",
      "Data saved. Total tweets: 27200\n",
      "Data saved. Total tweets: 27300\n"
     ]
    },
    {
     "name": "stderr",
     "output_type": "stream",
     "text": [
      "Could not translate t.co card URL on tweet 1649096823200698372\n"
     ]
    },
    {
     "name": "stdout",
     "output_type": "stream",
     "text": [
      "Data saved. Total tweets: 27400\n",
      "Data saved. Total tweets: 27500\n",
      "Data saved. Total tweets: 27600\n",
      "Data saved. Total tweets: 27700\n",
      "Data saved. Total tweets: 27800\n"
     ]
    },
    {
     "name": "stderr",
     "output_type": "stream",
     "text": [
      "Could not translate t.co card URL on tweet 1649068095993171969\n"
     ]
    },
    {
     "name": "stdout",
     "output_type": "stream",
     "text": [
      "Data saved. Total tweets: 27900\n",
      "Data saved. Total tweets: 28000\n"
     ]
    },
    {
     "name": "stderr",
     "output_type": "stream",
     "text": [
      "Could not translate t.co card URL on tweet 1649041994709082113\n"
     ]
    },
    {
     "name": "stdout",
     "output_type": "stream",
     "text": [
      "Data saved. Total tweets: 28100\n",
      "Data saved. Total tweets: 28200\n",
      "Data saved. Total tweets: 28300\n",
      "Data saved. Total tweets: 28400\n",
      "Data saved. Total tweets: 28500\n",
      "Data saved. Total tweets: 28600\n",
      "Data saved. Total tweets: 28700\n"
     ]
    },
    {
     "name": "stderr",
     "output_type": "stream",
     "text": [
      "Could not translate t.co card URL on tweet 1648756867500236816\n"
     ]
    },
    {
     "name": "stdout",
     "output_type": "stream",
     "text": [
      "Data saved. Total tweets: 28800\n",
      "Data saved. Total tweets: 28900\n",
      "Data saved. Total tweets: 29000\n",
      "Data saved. Total tweets: 29100\n",
      "Data saved. Total tweets: 29200\n",
      "Data saved. Total tweets: 29300\n",
      "Data saved. Total tweets: 29400\n",
      "Data saved. Total tweets: 29500\n",
      "Data saved. Total tweets: 29600\n",
      "Data saved. Total tweets: 29700\n",
      "Data saved. Total tweets: 29800\n",
      "Data saved. Total tweets: 29900\n",
      "Data saved. Total tweets: 30000\n",
      "Data saved. Total tweets: 30100\n",
      "Data saved. Total tweets: 30200\n"
     ]
    },
    {
     "name": "stderr",
     "output_type": "stream",
     "text": [
      "Unavailable user in card on tweet 1648482445472444416\n",
      "Unavailable user in card on tweet 1648482445472444416\n",
      "User 1062915983294300160 not found in user refs in card on tweet 1648482445472444416\n",
      "User 1062915983294300160 not found in user refs in card on tweet 1648482445472444416\n"
     ]
    },
    {
     "name": "stdout",
     "output_type": "stream",
     "text": [
      "Data saved. Total tweets: 30300\n",
      "Data saved. Total tweets: 30400\n",
      "Data saved. Total tweets: 30500\n",
      "Data saved. Total tweets: 30600\n",
      "Data saved. Total tweets: 30700\n"
     ]
    },
    {
     "name": "stderr",
     "output_type": "stream",
     "text": [
      "Could not translate t.co card URL on tweet 1648610434289745922\n"
     ]
    },
    {
     "name": "stdout",
     "output_type": "stream",
     "text": [
      "Data saved. Total tweets: 30800\n",
      "Data saved. Total tweets: 30900\n",
      "Data saved. Total tweets: 31000\n",
      "Data saved. Total tweets: 31100\n",
      "Data saved. Total tweets: 31200\n",
      "Data saved. Total tweets: 31300\n",
      "Data saved. Total tweets: 31400\n",
      "Data saved. Total tweets: 31500\n",
      "Data saved. Total tweets: 31600\n",
      "Data saved. Total tweets: 31700\n",
      "Data saved. Total tweets: 31800\n"
     ]
    },
    {
     "name": "stderr",
     "output_type": "stream",
     "text": [
      "Could not translate t.co card URL on tweet 1648665208607391744\n"
     ]
    },
    {
     "name": "stdout",
     "output_type": "stream",
     "text": [
      "Data saved. Total tweets: 31900\n",
      "Data saved. Total tweets: 32000\n",
      "Data saved. Total tweets: 32100\n"
     ]
    },
    {
     "name": "stderr",
     "output_type": "stream",
     "text": [
      "Could not translate t.co card URL on tweet 1648610434289745922\n"
     ]
    },
    {
     "name": "stdout",
     "output_type": "stream",
     "text": [
      "Data saved. Total tweets: 32200\n",
      "Data saved. Total tweets: 32300\n",
      "Data saved. Total tweets: 32400\n",
      "Data saved. Total tweets: 32500\n"
     ]
    },
    {
     "name": "stderr",
     "output_type": "stream",
     "text": [
      "Unavailable user in card on tweet 1648514804922068993\n",
      "User 14204245 not found in user refs in card on tweet 1648514804922068993\n"
     ]
    },
    {
     "name": "stdout",
     "output_type": "stream",
     "text": [
      "Data saved. Total tweets: 32600\n",
      "Data saved. Total tweets: 32700\n",
      "Data saved. Total tweets: 32800\n",
      "Data saved. Total tweets: 32900\n",
      "Data saved. Total tweets: 33000\n",
      "Data saved. Total tweets: 33100\n",
      "Data saved. Total tweets: 33200\n",
      "Data saved. Total tweets: 33300\n",
      "Data saved. Total tweets: 33400\n",
      "Data saved. Total tweets: 33500\n"
     ]
    },
    {
     "name": "stderr",
     "output_type": "stream",
     "text": [
      "Could not translate t.co card URL on tweet 1648342694505361408\n"
     ]
    },
    {
     "name": "stdout",
     "output_type": "stream",
     "text": [
      "Data saved. Total tweets: 33600\n"
     ]
    },
    {
     "name": "stderr",
     "output_type": "stream",
     "text": [
      "Unavailable user in card on tweet 1648364791763804162\n",
      "User 14204245 not found in user refs in card on tweet 1648364791763804162\n"
     ]
    },
    {
     "name": "stdout",
     "output_type": "stream",
     "text": [
      "Data saved. Total tweets: 33700\n",
      "Data saved. Total tweets: 33800\n"
     ]
    },
    {
     "name": "stderr",
     "output_type": "stream",
     "text": [
      "Could not translate t.co card URL on tweet 1648342694505361408\n"
     ]
    },
    {
     "name": "stdout",
     "output_type": "stream",
     "text": [
      "Data saved. Total tweets: 33900\n",
      "Data saved. Total tweets: 34000\n"
     ]
    },
    {
     "name": "stderr",
     "output_type": "stream",
     "text": [
      "Unavailable user in card on tweet 1648326176358662148\n",
      "User 14204245 not found in user refs in card on tweet 1648326176358662148\n"
     ]
    },
    {
     "name": "stdout",
     "output_type": "stream",
     "text": [
      "Data saved. Total tweets: 34100\n",
      "Data saved. Total tweets: 34200\n"
     ]
    },
    {
     "name": "stderr",
     "output_type": "stream",
     "text": [
      "Could not translate t.co card URL on tweet 1648304510375436289\n"
     ]
    },
    {
     "name": "stdout",
     "output_type": "stream",
     "text": [
      "Data saved. Total tweets: 34300\n"
     ]
    },
    {
     "name": "stderr",
     "output_type": "stream",
     "text": [
      "Unavailable user in card on tweet 1648290815419068416\n",
      "User 14204245 not found in user refs in card on tweet 1648290815419068416\n"
     ]
    },
    {
     "name": "stdout",
     "output_type": "stream",
     "text": [
      "Data saved. Total tweets: 34400\n",
      "Data saved. Total tweets: 34500\n",
      "Data saved. Total tweets: 34600\n",
      "Data saved. Total tweets: 34700\n",
      "Data saved. Total tweets: 34800\n",
      "Data saved. Total tweets: 34900\n",
      "Data saved. Total tweets: 35000\n",
      "Data saved. Total tweets: 35100\n",
      "Data saved. Total tweets: 35200\n",
      "Data saved. Total tweets: 35300\n",
      "Data saved. Total tweets: 35400\n",
      "Data saved. Total tweets: 35500\n",
      "Data saved. Total tweets: 35600\n",
      "Data saved. Total tweets: 35700\n"
     ]
    },
    {
     "name": "stderr",
     "output_type": "stream",
     "text": [
      "Unavailable user in card on tweet 1648065288481525761\n",
      "Unavailable user in card on tweet 1648065288481525761\n",
      "User 1203690121373069312 not found in user refs in card on tweet 1648065288481525761\n",
      "User 1203690121373069312 not found in user refs in card on tweet 1648065288481525761\n"
     ]
    },
    {
     "name": "stdout",
     "output_type": "stream",
     "text": [
      "Data saved. Total tweets: 35800\n",
      "Data saved. Total tweets: 35900\n"
     ]
    },
    {
     "name": "stderr",
     "output_type": "stream",
     "text": [
      "Unavailable user in card on tweet 1648049074426503169\n",
      "User 14204245 not found in user refs in card on tweet 1648049074426503169\n",
      "Unavailable user in card on tweet 1648047696689737729\n",
      "Unavailable user in card on tweet 1648047696689737729\n",
      "User 1203690121373069312 not found in user refs in card on tweet 1648047696689737729\n",
      "User 1203690121373069312 not found in user refs in card on tweet 1648047696689737729\n",
      "Unavailable user in card on tweet 1648046897406398473\n",
      "Unavailable user in card on tweet 1648046897406398473\n",
      "User 1203690121373069312 not found in user refs in card on tweet 1648046897406398473\n",
      "User 1203690121373069312 not found in user refs in card on tweet 1648046897406398473\n"
     ]
    },
    {
     "name": "stdout",
     "output_type": "stream",
     "text": [
      "Data saved. Total tweets: 36000\n",
      "Data saved. Total tweets: 36100\n",
      "Data saved. Total tweets: 36200\n",
      "Data saved. Total tweets: 36300\n",
      "Data saved. Total tweets: 36400\n"
     ]
    },
    {
     "name": "stderr",
     "output_type": "stream",
     "text": [
      "Could not translate t.co card URL on tweet 1647988319920476160\n"
     ]
    },
    {
     "name": "stdout",
     "output_type": "stream",
     "text": [
      "Data saved. Total tweets: 36500\n",
      "Data saved. Total tweets: 36600\n",
      "Data saved. Total tweets: 36700\n",
      "Data saved. Total tweets: 36800\n",
      "Data saved. Total tweets: 36900\n",
      "Data saved. Total tweets: 37000\n",
      "Data saved. Total tweets: 37100\n",
      "Data saved. Total tweets: 37200\n",
      "Data saved. Total tweets: 37300\n",
      "Data saved. Total tweets: 37400\n",
      "Data saved. Total tweets: 37500\n",
      "Data saved. Total tweets: 37600\n",
      "Data saved. Total tweets: 37700\n",
      "Data saved. Total tweets: 37800\n",
      "Data saved. Total tweets: 37900\n",
      "Data saved. Total tweets: 38000\n",
      "Data saved. Total tweets: 38100\n",
      "Data saved. Total tweets: 38200\n",
      "Data saved. Total tweets: 38300\n"
     ]
    },
    {
     "name": "stderr",
     "output_type": "stream",
     "text": [
      "Unavailable user in card on tweet 1647708901633130496\n",
      "User 14204245 not found in user refs in card on tweet 1647708901633130496\n"
     ]
    },
    {
     "name": "stdout",
     "output_type": "stream",
     "text": [
      "Data saved. Total tweets: 38400\n",
      "Data saved. Total tweets: 38500\n"
     ]
    },
    {
     "name": "stderr",
     "output_type": "stream",
     "text": [
      "Unavailable user in card on tweet 1647687716740517888\n",
      "Unavailable user in card on tweet 1647687716740517888\n",
      "User 1203690121373069312 not found in user refs in card on tweet 1647687716740517888\n",
      "User 1203690121373069312 not found in user refs in card on tweet 1647687716740517888\n",
      "Unavailable user in card on tweet 1647686992317038592\n",
      "Unavailable user in card on tweet 1647686992317038592\n",
      "User 1203690121373069312 not found in user refs in card on tweet 1647686992317038592\n",
      "User 1203690121373069312 not found in user refs in card on tweet 1647686992317038592\n",
      "Unavailable user in card on tweet 1647686958125031424\n",
      "Unavailable user in card on tweet 1647686958125031424\n",
      "User 1203690121373069312 not found in user refs in card on tweet 1647686958125031424\n",
      "User 1203690121373069312 not found in user refs in card on tweet 1647686958125031424\n",
      "Unavailable user in card on tweet 1647685526277746693\n",
      "Unavailable user in card on tweet 1647685526277746693\n",
      "User 1203690121373069312 not found in user refs in card on tweet 1647685526277746693\n",
      "User 1203690121373069312 not found in user refs in card on tweet 1647685526277746693\n",
      "Unavailable user in card on tweet 1647684633989971970\n",
      "Unavailable user in card on tweet 1647684633989971970\n",
      "User 1203690121373069312 not found in user refs in card on tweet 1647684633989971970\n",
      "User 1203690121373069312 not found in user refs in card on tweet 1647684633989971970\n"
     ]
    },
    {
     "name": "stdout",
     "output_type": "stream",
     "text": [
      "Data saved. Total tweets: 38600\n",
      "Data saved. Total tweets: 38700\n"
     ]
    },
    {
     "name": "stderr",
     "output_type": "stream",
     "text": [
      "Unavailable user in card on tweet 1647602135570305026\n",
      "Unavailable user in card on tweet 1647602135570305026\n",
      "User 1062915983294300160 not found in user refs in card on tweet 1647602135570305026\n",
      "User 1062915983294300160 not found in user refs in card on tweet 1647602135570305026\n",
      "Could not translate t.co card URL on tweet 1647652756939853828\n"
     ]
    },
    {
     "name": "stdout",
     "output_type": "stream",
     "text": [
      "Data saved. Total tweets: 38800\n",
      "Data saved. Total tweets: 38900\n",
      "Data saved. Total tweets: 39000\n",
      "Data saved. Total tweets: 39100\n",
      "Data saved. Total tweets: 39200\n",
      "Data saved. Total tweets: 39300\n",
      "Data saved. Total tweets: 39400\n",
      "Data saved. Total tweets: 39500\n",
      "Data saved. Total tweets: 39600\n"
     ]
    },
    {
     "name": "stderr",
     "output_type": "stream",
     "text": [
      "Could not translate t.co card URL on tweet 1647534217377591296\n"
     ]
    },
    {
     "name": "stdout",
     "output_type": "stream",
     "text": [
      "Data saved. Total tweets: 39700\n",
      "Data saved. Total tweets: 39800\n",
      "Data saved. Total tweets: 39900\n",
      "Data saved. Total tweets: 40000\n",
      "Data saved. Total tweets: 40100\n",
      "Data saved. Total tweets: 40200\n",
      "Data saved. Total tweets: 40300\n",
      "Data saved. Total tweets: 40400\n",
      "Data saved. Total tweets: 40500\n",
      "Data saved. Total tweets: 40600\n"
     ]
    },
    {
     "name": "stderr",
     "output_type": "stream",
     "text": [
      "Unavailable user in card on tweet 1647349404595277825\n",
      "Unavailable user in card on tweet 1647349404595277825\n",
      "User 1062915983294300160 not found in user refs in card on tweet 1647349404595277825\n",
      "User 1062915983294300160 not found in user refs in card on tweet 1647349404595277825\n"
     ]
    },
    {
     "name": "stdout",
     "output_type": "stream",
     "text": [
      "Data saved. Total tweets: 40700\n",
      "Data saved. Total tweets: 40800\n"
     ]
    },
    {
     "name": "stderr",
     "output_type": "stream",
     "text": [
      "Unavailable user in card on tweet 1647326924048576517\n",
      "Unavailable user in card on tweet 1647326924048576517\n",
      "User 1203690121373069312 not found in user refs in card on tweet 1647326924048576517\n",
      "User 1203690121373069312 not found in user refs in card on tweet 1647326924048576517\n"
     ]
    },
    {
     "name": "stdout",
     "output_type": "stream",
     "text": [
      "Data saved. Total tweets: 40900\n",
      "Data saved. Total tweets: 41000\n",
      "Data saved. Total tweets: 41100\n",
      "Data saved. Total tweets: 41200\n",
      "Data saved. Total tweets: 41300\n",
      "Data saved. Total tweets: 41400\n",
      "Data saved. Total tweets: 41500\n",
      "Data saved. Total tweets: 41600\n",
      "Data saved. Total tweets: 41700\n",
      "Data saved. Total tweets: 41800\n",
      "Data saved. Total tweets: 41900\n",
      "Data saved. Total tweets: 42000\n"
     ]
    },
    {
     "name": "stderr",
     "output_type": "stream",
     "text": [
      "Unavailable user in card on tweet 1647157737388920833\n",
      "Unavailable user in card on tweet 1647157737388920833\n",
      "User 1203690121373069312 not found in user refs in card on tweet 1647157737388920833\n",
      "User 1203690121373069312 not found in user refs in card on tweet 1647157737388920833\n",
      "Unavailable user in card on tweet 1647157370945163265\n",
      "Unavailable user in card on tweet 1647157370945163265\n",
      "User 1203690121373069312 not found in user refs in card on tweet 1647157370945163265\n",
      "User 1203690121373069312 not found in user refs in card on tweet 1647157370945163265\n"
     ]
    },
    {
     "name": "stdout",
     "output_type": "stream",
     "text": [
      "Data saved. Total tweets: 42100\n",
      "Data saved. Total tweets: 42200\n"
     ]
    },
    {
     "name": "stderr",
     "output_type": "stream",
     "text": [
      "Unavailable user in card on tweet 1647096947377946629\n",
      "User 592110789 not found in user refs in card on tweet 1647096947377946629\n"
     ]
    },
    {
     "name": "stdout",
     "output_type": "stream",
     "text": [
      "Data saved. Total tweets: 42300\n",
      "Data saved. Total tweets: 42400\n",
      "Data saved. Total tweets: 42500\n",
      "Data saved. Total tweets: 42600\n",
      "Data saved. Total tweets: 42700\n",
      "Data saved. Total tweets: 42800\n",
      "Data saved. Total tweets: 42900\n",
      "Data saved. Total tweets: 43000\n"
     ]
    },
    {
     "name": "stderr",
     "output_type": "stream",
     "text": [
      "Unavailable user in card on tweet 1646978269365911554\n",
      "Unavailable user in card on tweet 1646978269365911554\n",
      "User 1203690121373069312 not found in user refs in card on tweet 1646978269365911554\n",
      "User 1203690121373069312 not found in user refs in card on tweet 1646978269365911554\n"
     ]
    },
    {
     "name": "stdout",
     "output_type": "stream",
     "text": [
      "Data saved. Total tweets: 43100\n"
     ]
    },
    {
     "name": "stderr",
     "output_type": "stream",
     "text": [
      "Unavailable user in card on tweet 1646936703058448385\n",
      "Unavailable user in card on tweet 1646936703058448385\n",
      "User 41566187 not found in user refs in card on tweet 1646936703058448385\n",
      "User 41566187 not found in user refs in card on tweet 1646936703058448385\n",
      "Unavailable user in card on tweet 1646936703058448385\n",
      "Unavailable user in card on tweet 1646936703058448385\n",
      "User 41566187 not found in user refs in card on tweet 1646936703058448385\n",
      "User 41566187 not found in user refs in card on tweet 1646936703058448385\n"
     ]
    },
    {
     "name": "stdout",
     "output_type": "stream",
     "text": [
      "Data saved. Total tweets: 43200\n",
      "Data saved. Total tweets: 43300\n",
      "Data saved. Total tweets: 43400\n",
      "Data saved. Total tweets: 43500\n",
      "Data saved. Total tweets: 43600\n",
      "Data saved. Total tweets: 43700\n",
      "Data saved. Total tweets: 43800\n",
      "Data saved. Total tweets: 43900\n",
      "Data saved. Total tweets: 44000\n",
      "Data saved. Total tweets: 44100\n",
      "Data saved. Total tweets: 44200\n",
      "Data saved. Total tweets: 44300\n",
      "Data saved. Total tweets: 44400\n",
      "Data saved. Total tweets: 44500\n"
     ]
    },
    {
     "name": "stderr",
     "output_type": "stream",
     "text": [
      "Could not translate t.co card URL on tweet 1646811097004126210\n"
     ]
    },
    {
     "name": "stdout",
     "output_type": "stream",
     "text": [
      "Data saved. Total tweets: 44600\n",
      "Data saved. Total tweets: 44700\n",
      "Data saved. Total tweets: 44800\n",
      "Data saved. Total tweets: 44900\n",
      "Data saved. Total tweets: 45000\n",
      "Data saved. Total tweets: 45100\n",
      "Data saved. Total tweets: 45200\n",
      "Data saved. Total tweets: 45300\n",
      "Data saved. Total tweets: 45400\n",
      "Data saved. Total tweets: 45500\n",
      "Data saved. Total tweets: 45600\n",
      "Data saved. Total tweets: 45700\n",
      "Data saved. Total tweets: 45800\n",
      "Data saved. Total tweets: 45900\n",
      "Data saved. Total tweets: 46000\n"
     ]
    },
    {
     "name": "stderr",
     "output_type": "stream",
     "text": [
      "Unavailable user in card on tweet 1646617289683349505\n",
      "Unavailable user in card on tweet 1646617289683349505\n",
      "User 1203690121373069312 not found in user refs in card on tweet 1646617289683349505\n",
      "User 1203690121373069312 not found in user refs in card on tweet 1646617289683349505\n",
      "Unavailable user in card on tweet 1646616551095689219\n",
      "Unavailable user in card on tweet 1646616551095689219\n",
      "User 1203690121373069312 not found in user refs in card on tweet 1646616551095689219\n",
      "User 1203690121373069312 not found in user refs in card on tweet 1646616551095689219\n"
     ]
    },
    {
     "name": "stdout",
     "output_type": "stream",
     "text": [
      "Data saved. Total tweets: 46100\n",
      "Data saved. Total tweets: 46200\n",
      "Data saved. Total tweets: 46300\n"
     ]
    },
    {
     "name": "stderr",
     "output_type": "stream",
     "text": [
      "Could not translate t.co card URL on tweet 1646596127054241792\n"
     ]
    },
    {
     "name": "stdout",
     "output_type": "stream",
     "text": [
      "Data saved. Total tweets: 46400\n",
      "Data saved. Total tweets: 46500\n",
      "Data saved. Total tweets: 46600\n",
      "Data saved. Total tweets: 46700\n",
      "Data saved. Total tweets: 46800\n",
      "Data saved. Total tweets: 46900\n",
      "Data saved. Total tweets: 47000\n",
      "Data saved. Total tweets: 47100\n",
      "Data saved. Total tweets: 47200\n",
      "Data saved. Total tweets: 47300\n",
      "Data saved. Total tweets: 47400\n"
     ]
    },
    {
     "name": "stderr",
     "output_type": "stream",
     "text": [
      "Unavailable user in card on tweet 1646525936240857097\n",
      "User 14204245 not found in user refs in card on tweet 1646525936240857097\n"
     ]
    },
    {
     "name": "stdout",
     "output_type": "stream",
     "text": [
      "Data saved. Total tweets: 47500\n",
      "Data saved. Total tweets: 47600\n",
      "Data saved. Total tweets: 47700\n",
      "Data saved. Total tweets: 47800\n",
      "Data saved. Total tweets: 47900\n",
      "Data saved. Total tweets: 48000\n",
      "Data saved. Total tweets: 48100\n",
      "Data saved. Total tweets: 48200\n",
      "Data saved. Total tweets: 48300\n",
      "Data saved. Total tweets: 48400\n",
      "Data saved. Total tweets: 48500\n",
      "Data saved. Total tweets: 48600\n",
      "Data saved. Total tweets: 48700\n",
      "Data saved. Total tweets: 48800\n",
      "Data saved. Total tweets: 48900\n",
      "Data saved. Total tweets: 49000\n",
      "Data saved. Total tweets: 49100\n",
      "Data saved. Total tweets: 49200\n",
      "Data saved. Total tweets: 49300\n",
      "Data saved. Total tweets: 49400\n"
     ]
    },
    {
     "name": "stderr",
     "output_type": "stream",
     "text": [
      "Unavailable user in card on tweet 1646240275801440260\n",
      "Unavailable user in card on tweet 1646240275801440260\n",
      "User 1203690121373069312 not found in user refs in card on tweet 1646240275801440260\n",
      "User 1203690121373069312 not found in user refs in card on tweet 1646240275801440260\n",
      "Unavailable user in card on tweet 1646239014775668736\n",
      "Unavailable user in card on tweet 1646239014775668736\n",
      "User 1203690121373069312 not found in user refs in card on tweet 1646239014775668736\n",
      "User 1203690121373069312 not found in user refs in card on tweet 1646239014775668736\n"
     ]
    },
    {
     "name": "stdout",
     "output_type": "stream",
     "text": [
      "Data saved. Total tweets: 49500\n",
      "Data saved. Total tweets: 49600\n",
      "Data saved. Total tweets: 49700\n",
      "Data saved. Total tweets: 49800\n",
      "Data saved. Total tweets: 49900\n",
      "Data saved. Total tweets: 50000\n",
      "Data saved. Total tweets: 50100\n",
      "Data saved. Total tweets: 50200\n",
      "Data saved. Total tweets: 50300\n",
      "Data saved. Total tweets: 50400\n",
      "Data saved. Total tweets: 50500\n",
      "Data saved. Total tweets: 50600\n",
      "Data saved. Total tweets: 50700\n",
      "Data saved. Total tweets: 50800\n"
     ]
    },
    {
     "name": "stderr",
     "output_type": "stream",
     "text": [
      "Unavailable user in card on tweet 1646087464212221953\n",
      "Unavailable user in card on tweet 1646087464212221953\n",
      "User 41566187 not found in user refs in card on tweet 1646087464212221953\n",
      "User 41566187 not found in user refs in card on tweet 1646087464212221953\n"
     ]
    },
    {
     "name": "stdout",
     "output_type": "stream",
     "text": [
      "Data saved. Total tweets: 50900\n"
     ]
    },
    {
     "name": "stderr",
     "output_type": "stream",
     "text": [
      "Could not translate t.co card URL on tweet 1646072034114297858\n"
     ]
    },
    {
     "name": "stdout",
     "output_type": "stream",
     "text": [
      "Data saved. Total tweets: 51000\n",
      "Data saved. Total tweets: 51100\n",
      "Data saved. Total tweets: 51200\n",
      "Data saved. Total tweets: 51300\n",
      "Data saved. Total tweets: 51400\n",
      "Data saved. Total tweets: 51500\n",
      "Data saved. Total tweets: 51600\n",
      "Data saved. Total tweets: 51700\n"
     ]
    },
    {
     "name": "stderr",
     "output_type": "stream",
     "text": [
      "Twitter responded with an error: DependencyError: Dependency: Unspecified\n",
      "Twitter responded with an error: DependencyError: Dependency: Unspecified\n"
     ]
    },
    {
     "name": "stdout",
     "output_type": "stream",
     "text": [
      "Data saved. Total tweets: 51800\n",
      "Data saved. Total tweets: 51900\n"
     ]
    },
    {
     "name": "stderr",
     "output_type": "stream",
     "text": [
      "Twitter responded with an error: DependencyError: Dependency: Unspecified\n"
     ]
    },
    {
     "name": "stdout",
     "output_type": "stream",
     "text": [
      "Data saved. Total tweets: 52000\n",
      "Data saved. Total tweets: 52100\n",
      "Data saved. Total tweets: 52200\n"
     ]
    },
    {
     "name": "stderr",
     "output_type": "stream",
     "text": [
      "Unavailable user in card on tweet 1645865995825827857\n",
      "Unavailable user in card on tweet 1645865995825827857\n",
      "User 1203690121373069312 not found in user refs in card on tweet 1645865995825827857\n",
      "User 1203690121373069312 not found in user refs in card on tweet 1645865995825827857\n"
     ]
    },
    {
     "name": "stdout",
     "output_type": "stream",
     "text": [
      "Data saved. Total tweets: 52300\n",
      "Data saved. Total tweets: 52400\n",
      "Data saved. Total tweets: 52500\n",
      "Data saved. Total tweets: 52600\n",
      "Data saved. Total tweets: 52700\n",
      "Data saved. Total tweets: 52800\n",
      "Data saved. Total tweets: 52900\n"
     ]
    },
    {
     "name": "stderr",
     "output_type": "stream",
     "text": [
      "Unavailable user in card on tweet 1645767009517330436\n",
      "Unavailable user in card on tweet 1645767009517330436\n",
      "User 1203690121373069312 not found in user refs in card on tweet 1645767009517330436\n",
      "User 1203690121373069312 not found in user refs in card on tweet 1645767009517330436\n"
     ]
    },
    {
     "name": "stdout",
     "output_type": "stream",
     "text": [
      "Data saved. Total tweets: 53000\n",
      "Data saved. Total tweets: 53100\n",
      "Data saved. Total tweets: 53200\n"
     ]
    },
    {
     "name": "stderr",
     "output_type": "stream",
     "text": [
      "Twitter responded with an error: DependencyError: Dependency: Unspecified\n",
      "Twitter responded with an error: DependencyError: Dependency: Unspecified\n"
     ]
    },
    {
     "name": "stdout",
     "output_type": "stream",
     "text": [
      "Data saved. Total tweets: 53300\n",
      "Data saved. Total tweets: 53400\n"
     ]
    },
    {
     "name": "stderr",
     "output_type": "stream",
     "text": [
      "Twitter responded with an error: DependencyError: Dependency: Unspecified\n"
     ]
    },
    {
     "name": "stdout",
     "output_type": "stream",
     "text": [
      "Data saved. Total tweets: 53500\n",
      "Data saved. Total tweets: 53600\n",
      "Data saved. Total tweets: 53700\n",
      "Data saved. Total tweets: 53800\n",
      "Data saved. Total tweets: 53900\n"
     ]
    },
    {
     "name": "stderr",
     "output_type": "stream",
     "text": [
      "Could not translate t.co card URL on tweet 1645524203540545543\n"
     ]
    },
    {
     "name": "stdout",
     "output_type": "stream",
     "text": [
      "Data saved. Total tweets: 54000\n",
      "Data saved. Total tweets: 54100\n",
      "Data saved. Total tweets: 54200\n"
     ]
    },
    {
     "name": "stderr",
     "output_type": "stream",
     "text": [
      "Unavailable user in card on tweet 1645496930003296256\n",
      "Unavailable user in card on tweet 1645496930003296256\n",
      "User 1203690121373069312 not found in user refs in card on tweet 1645496930003296256\n",
      "User 1203690121373069312 not found in user refs in card on tweet 1645496930003296256\n",
      "Unavailable user in card on tweet 1645496423943741452\n",
      "Unavailable user in card on tweet 1645496423943741452\n",
      "User 1203690121373069312 not found in user refs in card on tweet 1645496423943741452\n",
      "User 1203690121373069312 not found in user refs in card on tweet 1645496423943741452\n"
     ]
    },
    {
     "name": "stdout",
     "output_type": "stream",
     "text": [
      "Data saved. Total tweets: 54300\n"
     ]
    },
    {
     "name": "stderr",
     "output_type": "stream",
     "text": [
      "Unavailable user in card on tweet 1645485609761353731\n",
      "Unavailable user in card on tweet 1645485609761353731\n",
      "User 1203690121373069312 not found in user refs in card on tweet 1645485609761353731\n",
      "User 1203690121373069312 not found in user refs in card on tweet 1645485609761353731\n",
      "Could not translate t.co card URL on tweet 1645482177721929735\n"
     ]
    },
    {
     "name": "stdout",
     "output_type": "stream",
     "text": [
      "Data saved. Total tweets: 54400\n",
      "Data saved. Total tweets: 54500\n",
      "Data saved. Total tweets: 54600\n",
      "Data saved. Total tweets: 54700\n",
      "Data saved. Total tweets: 54800\n",
      "Data saved. Total tweets: 54900\n",
      "Data saved. Total tweets: 55000\n",
      "Data saved. Total tweets: 55100\n"
     ]
    },
    {
     "name": "stderr",
     "output_type": "stream",
     "text": [
      "Unavailable user in card on tweet 1645361705487048704\n",
      "Unavailable user in card on tweet 1645361705487048704\n",
      "User 15843059 not found in user refs in card on tweet 1645361705487048704\n",
      "User 15843059 not found in user refs in card on tweet 1645361705487048704\n"
     ]
    },
    {
     "name": "stdout",
     "output_type": "stream",
     "text": [
      "Data saved. Total tweets: 55200\n",
      "Data saved. Total tweets: 55300\n",
      "Data saved. Total tweets: 55400\n",
      "Data saved. Total tweets: 55500\n",
      "Data saved. Total tweets: 55600\n",
      "Data saved. Total tweets: 55700\n",
      "Data saved. Total tweets: 55800\n",
      "Data saved. Total tweets: 55900\n",
      "Data saved. Total tweets: 56000\n",
      "Data saved. Total tweets: 56100\n"
     ]
    },
    {
     "name": "stderr",
     "output_type": "stream",
     "text": [
      "Unavailable user in card on tweet 1645145757001842688\n",
      "Unavailable user in card on tweet 1645145757001842688\n",
      "User 1203690121373069312 not found in user refs in card on tweet 1645145757001842688\n",
      "User 1203690121373069312 not found in user refs in card on tweet 1645145757001842688\n",
      "Unavailable user in card on tweet 1645145402579075073\n",
      "Unavailable user in card on tweet 1645145402579075073\n",
      "User 1203690121373069312 not found in user refs in card on tweet 1645145402579075073\n",
      "User 1203690121373069312 not found in user refs in card on tweet 1645145402579075073\n"
     ]
    },
    {
     "name": "stdout",
     "output_type": "stream",
     "text": [
      "Data saved. Total tweets: 56200\n",
      "Data saved. Total tweets: 56300\n",
      "Data saved. Total tweets: 56400\n"
     ]
    },
    {
     "name": "stderr",
     "output_type": "stream",
     "text": [
      "Unavailable user in card on tweet 1645093063469965315\n",
      "Unavailable user in card on tweet 1645093063469965315\n",
      "User 15843059 not found in user refs in card on tweet 1645093063469965315\n",
      "User 15843059 not found in user refs in card on tweet 1645093063469965315\n"
     ]
    },
    {
     "name": "stdout",
     "output_type": "stream",
     "text": [
      "Data saved. Total tweets: 56500\n",
      "Data saved. Total tweets: 56600\n",
      "Data saved. Total tweets: 56700\n",
      "Data saved. Total tweets: 56800\n",
      "Data saved. Total tweets: 56900\n",
      "Data saved. Total tweets: 57000\n",
      "Data saved. Total tweets: 57100\n"
     ]
    },
    {
     "name": "stderr",
     "output_type": "stream",
     "text": [
      "Unavailable user in card on tweet 1644929730922299395\n",
      "User 14204245 not found in user refs in card on tweet 1644929730922299395\n"
     ]
    },
    {
     "name": "stdout",
     "output_type": "stream",
     "text": [
      "Data saved. Total tweets: 57200\n",
      "Data saved. Total tweets: 57300\n",
      "Data saved. Total tweets: 57400\n",
      "Data saved. Total tweets: 57500\n",
      "Data saved. Total tweets: 57600\n",
      "Data saved. Total tweets: 57700\n",
      "Data saved. Total tweets: 57800\n"
     ]
    },
    {
     "name": "stderr",
     "output_type": "stream",
     "text": [
      "Unavailable user in card on tweet 1644780025487708160\n",
      "Unavailable user in card on tweet 1644780025487708160\n",
      "User 1203690121373069312 not found in user refs in card on tweet 1644780025487708160\n",
      "User 1203690121373069312 not found in user refs in card on tweet 1644780025487708160\n",
      "Unavailable user in card on tweet 1644775029773594633\n",
      "Unavailable user in card on tweet 1644775029773594633\n",
      "User 1203690121373069312 not found in user refs in card on tweet 1644775029773594633\n",
      "User 1203690121373069312 not found in user refs in card on tweet 1644775029773594633\n",
      "Unavailable user in card on tweet 1644774763594645504\n",
      "Unavailable user in card on tweet 1644774763594645504\n",
      "User 1203690121373069312 not found in user refs in card on tweet 1644774763594645504\n",
      "User 1203690121373069312 not found in user refs in card on tweet 1644774763594645504\n"
     ]
    },
    {
     "name": "stdout",
     "output_type": "stream",
     "text": [
      "Data saved. Total tweets: 57900\n",
      "Data saved. Total tweets: 58000\n"
     ]
    },
    {
     "name": "stderr",
     "output_type": "stream",
     "text": [
      "Could not translate t.co card URL on tweet 1644752666399055879\n"
     ]
    },
    {
     "name": "stdout",
     "output_type": "stream",
     "text": [
      "Data saved. Total tweets: 58100\n",
      "Data saved. Total tweets: 58200\n",
      "Data saved. Total tweets: 58300\n",
      "Data saved. Total tweets: 58400\n",
      "Data saved. Total tweets: 58500\n",
      "Data saved. Total tweets: 58600\n",
      "Data saved. Total tweets: 58700\n"
     ]
    },
    {
     "name": "stderr",
     "output_type": "stream",
     "text": [
      "Could not translate t.co card URL on tweet 1644624878404882433\n"
     ]
    },
    {
     "name": "stdout",
     "output_type": "stream",
     "text": [
      "Data saved. Total tweets: 58800\n",
      "Data saved. Total tweets: 58900\n",
      "Data saved. Total tweets: 59000\n",
      "Data saved. Total tweets: 59100\n",
      "Data saved. Total tweets: 59200\n",
      "Data saved. Total tweets: 59300\n",
      "Data saved. Total tweets: 59400\n",
      "Data saved. Total tweets: 59500\n",
      "Data saved. Total tweets: 59600\n",
      "Data saved. Total tweets: 59700\n",
      "Data saved. Total tweets: 59800\n",
      "Data saved. Total tweets: 59900\n",
      "Data saved. Total tweets: 60000\n",
      "Data saved successfully.\n"
     ]
    }
   ],
   "source": [
    "# # Define the file path for saving the data\n",
    "# file_path = \"global warming tweets_1.csv\"\n",
    "\n",
    "# # Define the condition to stop the scraping process\n",
    "# max_tweets = 60000  # Stop after collecting 60000 tweets\n",
    "\n",
    "# # Define the interval for saving the data\n",
    "# save_interval = 100  # Save every 100 tweets\n",
    "\n",
    "# # Function to scrape tweets based on a given query\n",
    "# def scrape_tweets(query):\n",
    "#     # Initialize the list to store the scraped data\n",
    "#     tweets = []\n",
    "#     tweet_count = 0  # Counter for the number of tweets collected\n",
    "\n",
    "#     while True:\n",
    "#         try:\n",
    "#             # Scrape tweets\n",
    "#             scraper = sntwitter.TwitterSearchScraper(query)\n",
    "#             for i, tweet in enumerate(scraper.get_items()):\n",
    "#                 tweets.append([tweet.date, tweet.user.username, tweet.user.location, \n",
    "#                                tweet.rawContent, tweet.likeCount, tweet.retweetCount, \n",
    "#                                tweet.user.followersCount, tweet.replyCount])\n",
    "#                 tweet_count += 1\n",
    "\n",
    "#                 # Check if it's time to save the data\n",
    "#                 if tweet_count % save_interval == 0:\n",
    "#                     save_data(tweets)\n",
    "#                     print(f\"Data saved. Total tweets: {tweet_count}\")\n",
    "                \n",
    "#                 # Check if reached the maximum number of tweets\n",
    "#                 if tweet_count >= max_tweets:\n",
    "#                     break\n",
    "                    \n",
    "#             if tweet_count >= max_tweets:\n",
    "#                 break\n",
    "\n",
    "#         except Exception as e:\n",
    "#             print(f\"Error occurred: {str(e)}. Retrying in 5 seconds...\")\n",
    "#             time.sleep(5)  # Wait for 5 seconds before retrying\n",
    "\n",
    "#     return tweets\n",
    "\n",
    "# # Function to save the data to a CSV file\n",
    "# def save_data(data):\n",
    "#     with open(file_path, \"w\", newline=\"\", encoding=\"utf-8\") as file:\n",
    "#         writer = csv.writer(file)\n",
    "#         writer.writerow([\"date\", \"username\", \"user_location\", \"tweet\", \"num_of_like\", \"num_of_retweet\",\n",
    "#                          \"num_of_followers\", \"num_of_reply\"])  # Write the header\n",
    "#         writer.writerows(data)  # Write the rows\n",
    "\n",
    "# # Define query\n",
    "# query1 = \"(#globalwarming OR 'global warming') lang:en -filter:retweets since:2023-04-01 until:2023-05-01\"\n",
    "\n",
    "# # Call the function to scrape tweets\n",
    "# tweets1 = scrape_tweets(query1)\n",
    "\n",
    "# # Save the final scraped data\n",
    "# save_data(tweets1)\n",
    "# print(\"Data saved successfully.\")"
   ]
  },
  {
   "cell_type": "code",
   "execution_count": 3,
   "id": "1e92592e",
   "metadata": {},
   "outputs": [],
   "source": [
    "# Use pandas library to briefly check the raw data. Same as below.\n",
    "import pandas as pd"
   ]
  },
  {
   "cell_type": "code",
   "execution_count": 4,
   "id": "c763e0b1",
   "metadata": {},
   "outputs": [],
   "source": [
    "df1 = pd.read_csv(\"global warming tweets_1.csv\")"
   ]
  },
  {
   "cell_type": "code",
   "execution_count": 6,
   "id": "a3b15ecf",
   "metadata": {},
   "outputs": [
    {
     "data": {
      "text/plain": [
       "(60000, 8)"
      ]
     },
     "execution_count": 6,
     "metadata": {},
     "output_type": "execute_result"
    }
   ],
   "source": [
    "df1.shape"
   ]
  },
  {
   "cell_type": "code",
   "execution_count": 5,
   "id": "1d6c4598",
   "metadata": {},
   "outputs": [
    {
     "data": {
      "text/plain": [
       "1"
      ]
     },
     "execution_count": 5,
     "metadata": {},
     "output_type": "execute_result"
    }
   ],
   "source": [
    "df1.duplicated().sum()"
   ]
  },
  {
   "cell_type": "code",
   "execution_count": null,
   "id": "4a3a7fbc",
   "metadata": {},
   "outputs": [
    {
     "name": "stdout",
     "output_type": "stream",
     "text": [
      "Data saved. Total tweets: 100\n",
      "Data saved. Total tweets: 200\n",
      "Data saved. Total tweets: 300\n",
      "Data saved. Total tweets: 400\n"
     ]
    },
    {
     "name": "stderr",
     "output_type": "stream",
     "text": [
      "Unavailable user in card on tweet 1641882780333232129\n",
      "Unavailable user in card on tweet 1641882780333232129\n",
      "User 1203690121373069312 not found in user refs in card on tweet 1641882780333232129\n",
      "User 1203690121373069312 not found in user refs in card on tweet 1641882780333232129\n",
      "Unavailable user in card on tweet 1641882773207105536\n",
      "Unavailable user in card on tweet 1641882773207105536\n",
      "User 1203690121373069312 not found in user refs in card on tweet 1641882773207105536\n",
      "User 1203690121373069312 not found in user refs in card on tweet 1641882773207105536\n",
      "Unavailable user in card on tweet 1641882706735771652\n",
      "Unavailable user in card on tweet 1641882706735771652\n",
      "User 1203690121373069312 not found in user refs in card on tweet 1641882706735771652\n",
      "User 1203690121373069312 not found in user refs in card on tweet 1641882706735771652\n",
      "Unavailable user in card on tweet 1641882697982267400\n",
      "Unavailable user in card on tweet 1641882697982267400\n",
      "User 1203690121373069312 not found in user refs in card on tweet 1641882697982267400\n",
      "User 1203690121373069312 not found in user refs in card on tweet 1641882697982267400\n",
      "Unavailable user in card on tweet 1641880654471127043\n",
      "Unavailable user in card on tweet 1641880654471127043\n",
      "User 1203690121373069312 not found in user refs in card on tweet 1641880654471127043\n",
      "User 1203690121373069312 not found in user refs in card on tweet 1641880654471127043\n",
      "Unavailable user in card on tweet 1641880646065836033\n",
      "Unavailable user in card on tweet 1641880646065836033\n",
      "User 1203690121373069312 not found in user refs in card on tweet 1641880646065836033\n",
      "User 1203690121373069312 not found in user refs in card on tweet 1641880646065836033\n"
     ]
    },
    {
     "name": "stdout",
     "output_type": "stream",
     "text": [
      "Data saved. Total tweets: 500\n",
      "Data saved. Total tweets: 600\n",
      "Data saved. Total tweets: 700\n"
     ]
    },
    {
     "name": "stderr",
     "output_type": "stream",
     "text": [
      "Could not translate t.co card URL on tweet 1641838744696127496\n"
     ]
    },
    {
     "name": "stdout",
     "output_type": "stream",
     "text": [
      "Data saved. Total tweets: 800\n"
     ]
    },
    {
     "name": "stderr",
     "output_type": "stream",
     "text": [
      "Unavailable user in card on tweet 1641831615067222019\n",
      "User 14204245 not found in user refs in card on tweet 1641831615067222019\n"
     ]
    },
    {
     "name": "stdout",
     "output_type": "stream",
     "text": [
      "Data saved. Total tweets: 900\n",
      "Data saved. Total tweets: 1000\n",
      "Data saved. Total tweets: 1100\n",
      "Data saved. Total tweets: 1200\n",
      "Data saved. Total tweets: 1300\n",
      "Data saved. Total tweets: 1400\n"
     ]
    },
    {
     "name": "stderr",
     "output_type": "stream",
     "text": [
      "Unavailable user in card on tweet 1641744752675794944\n",
      "User 14204245 not found in user refs in card on tweet 1641744752675794944\n",
      "Could not translate t.co card URL on tweet 1641730488028086273\n"
     ]
    },
    {
     "name": "stdout",
     "output_type": "stream",
     "text": [
      "Data saved. Total tweets: 1500\n",
      "Data saved. Total tweets: 1600\n"
     ]
    },
    {
     "name": "stderr",
     "output_type": "stream",
     "text": [
      "Could not translate t.co card URL on tweet 1641704876211073024\n",
      "Could not translate t.co card URL on tweet 1641704689044451328\n"
     ]
    },
    {
     "name": "stdout",
     "output_type": "stream",
     "text": [
      "Data saved. Total tweets: 1700\n",
      "Data saved. Total tweets: 1800\n",
      "Data saved. Total tweets: 1900\n",
      "Data saved. Total tweets: 2000\n",
      "Data saved. Total tweets: 2100\n",
      "Data saved. Total tweets: 2200\n",
      "Data saved. Total tweets: 2300\n",
      "Data saved. Total tweets: 2400\n",
      "Data saved. Total tweets: 2500\n"
     ]
    },
    {
     "name": "stderr",
     "output_type": "stream",
     "text": [
      "Could not translate t.co card URL on tweet 1641491307427246104\n",
      "Unavailable user in card on tweet 1641534312502665227\n",
      "Unavailable user in card on tweet 1641534312502665227\n",
      "User 1203690121373069312 not found in user refs in card on tweet 1641534312502665227\n",
      "User 1203690121373069312 not found in user refs in card on tweet 1641534312502665227\n",
      "Unavailable user in card on tweet 1641534240184475650\n",
      "Unavailable user in card on tweet 1641534240184475650\n",
      "User 1203690121373069312 not found in user refs in card on tweet 1641534240184475650\n",
      "User 1203690121373069312 not found in user refs in card on tweet 1641534240184475650\n",
      "Unavailable user in card on tweet 1641533505011085312\n",
      "Unavailable user in card on tweet 1641533505011085312\n",
      "User 1203690121373069312 not found in user refs in card on tweet 1641533505011085312\n",
      "User 1203690121373069312 not found in user refs in card on tweet 1641533505011085312\n",
      "Unavailable user in card on tweet 1641529830586851336\n",
      "Unavailable user in card on tweet 1641529830586851336\n",
      "User 1203690121373069312 not found in user refs in card on tweet 1641529830586851336\n",
      "User 1203690121373069312 not found in user refs in card on tweet 1641529830586851336\n",
      "Unavailable user in card on tweet 1641529823058075660\n",
      "Unavailable user in card on tweet 1641529823058075660\n",
      "User 1203690121373069312 not found in user refs in card on tweet 1641529823058075660\n",
      "User 1203690121373069312 not found in user refs in card on tweet 1641529823058075660\n"
     ]
    },
    {
     "name": "stdout",
     "output_type": "stream",
     "text": [
      "Data saved. Total tweets: 2600\n"
     ]
    },
    {
     "name": "stderr",
     "output_type": "stream",
     "text": [
      "Unavailable user in card on tweet 1641513854088667152\n",
      "Unavailable user in card on tweet 1641513854088667152\n",
      "User 1203690121373069312 not found in user refs in card on tweet 1641513854088667152\n",
      "User 1203690121373069312 not found in user refs in card on tweet 1641513854088667152\n"
     ]
    },
    {
     "name": "stdout",
     "output_type": "stream",
     "text": [
      "Data saved. Total tweets: 2700\n",
      "Data saved. Total tweets: 2800\n",
      "Data saved. Total tweets: 2900\n",
      "Data saved. Total tweets: 3000\n",
      "Data saved. Total tweets: 3100\n"
     ]
    },
    {
     "name": "stderr",
     "output_type": "stream",
     "text": [
      "Unavailable user in card on tweet 1641460601242148866\n",
      "Unavailable user in card on tweet 1641460601242148866\n",
      "User 1203690121373069312 not found in user refs in card on tweet 1641460601242148866\n",
      "User 1203690121373069312 not found in user refs in card on tweet 1641460601242148866\n",
      "Unavailable user in card on tweet 1641460594023735296\n",
      "Unavailable user in card on tweet 1641460594023735296\n",
      "User 1203690121373069312 not found in user refs in card on tweet 1641460594023735296\n",
      "User 1203690121373069312 not found in user refs in card on tweet 1641460594023735296\n"
     ]
    },
    {
     "name": "stdout",
     "output_type": "stream",
     "text": [
      "Data saved. Total tweets: 3200\n",
      "Data saved. Total tweets: 3300\n"
     ]
    },
    {
     "name": "stderr",
     "output_type": "stream",
     "text": [
      "Could not translate t.co card URL on tweet 1641434805538639874\n"
     ]
    },
    {
     "name": "stdout",
     "output_type": "stream",
     "text": [
      "Data saved. Total tweets: 3400\n"
     ]
    },
    {
     "name": "stderr",
     "output_type": "stream",
     "text": [
      "Could not translate t.co card URL on tweet 1641417629905846275\n"
     ]
    },
    {
     "name": "stdout",
     "output_type": "stream",
     "text": [
      "Data saved. Total tweets: 3500\n",
      "Data saved. Total tweets: 3600\n",
      "Data saved. Total tweets: 3700\n"
     ]
    },
    {
     "name": "stderr",
     "output_type": "stream",
     "text": [
      "Unavailable user in card on tweet 1641371099052007424\n",
      "Unavailable user in card on tweet 1641371099052007424\n",
      "User 1203690121373069312 not found in user refs in card on tweet 1641371099052007424\n",
      "User 1203690121373069312 not found in user refs in card on tweet 1641371099052007424\n",
      "Unavailable user in card on tweet 1641371091510730753\n",
      "Unavailable user in card on tweet 1641371091510730753\n",
      "User 1203690121373069312 not found in user refs in card on tweet 1641371091510730753\n",
      "User 1203690121373069312 not found in user refs in card on tweet 1641371091510730753\n"
     ]
    },
    {
     "name": "stdout",
     "output_type": "stream",
     "text": [
      "Data saved. Total tweets: 3800\n"
     ]
    },
    {
     "name": "stderr",
     "output_type": "stream",
     "text": [
      "Unavailable user in card on tweet 1641366098934218754\n",
      "Unavailable user in card on tweet 1641366098934218754\n",
      "User 1203690121373069312 not found in user refs in card on tweet 1641366098934218754\n",
      "User 1203690121373069312 not found in user refs in card on tweet 1641366098934218754\n",
      "Unavailable user in card on tweet 1641366088502984705\n",
      "Unavailable user in card on tweet 1641366088502984705\n",
      "User 1203690121373069312 not found in user refs in card on tweet 1641366088502984705\n",
      "User 1203690121373069312 not found in user refs in card on tweet 1641366088502984705\n"
     ]
    },
    {
     "name": "stdout",
     "output_type": "stream",
     "text": [
      "Data saved. Total tweets: 3900\n",
      "Data saved. Total tweets: 4000\n",
      "Data saved. Total tweets: 4100\n",
      "Data saved. Total tweets: 4200\n"
     ]
    },
    {
     "name": "stderr",
     "output_type": "stream",
     "text": [
      "Unavailable user in card on tweet 1641277062672711688\n",
      "User 14204245 not found in user refs in card on tweet 1641277062672711688\n"
     ]
    },
    {
     "name": "stdout",
     "output_type": "stream",
     "text": [
      "Data saved. Total tweets: 4300\n",
      "Data saved. Total tweets: 4400\n"
     ]
    },
    {
     "name": "stderr",
     "output_type": "stream",
     "text": [
      "Unavailable user in card on tweet 1641247851304067072\n",
      "User 14204245 not found in user refs in card on tweet 1641247851304067072\n"
     ]
    },
    {
     "name": "stdout",
     "output_type": "stream",
     "text": [
      "Data saved. Total tweets: 4500\n",
      "Data saved. Total tweets: 4600\n",
      "Data saved. Total tweets: 4700\n"
     ]
    },
    {
     "name": "stderr",
     "output_type": "stream",
     "text": [
      "Unavailable user in card on tweet 1641209721918222337\n",
      "User 14204245 not found in user refs in card on tweet 1641209721918222337\n"
     ]
    },
    {
     "name": "stdout",
     "output_type": "stream",
     "text": [
      "Data saved. Total tweets: 4800\n",
      "Data saved. Total tweets: 4900\n",
      "Data saved. Total tweets: 5000\n"
     ]
    },
    {
     "name": "stderr",
     "output_type": "stream",
     "text": [
      "Unavailable user in card on tweet 1641173273361764356\n",
      "Unavailable user in card on tweet 1641173273361764356\n",
      "User 1203690121373069312 not found in user refs in card on tweet 1641173273361764356\n",
      "User 1203690121373069312 not found in user refs in card on tweet 1641173273361764356\n"
     ]
    },
    {
     "name": "stdout",
     "output_type": "stream",
     "text": [
      "Data saved. Total tweets: 5100\n"
     ]
    },
    {
     "name": "stderr",
     "output_type": "stream",
     "text": [
      "Unavailable user in card on tweet 1641165372832243713\n",
      "Unavailable user in card on tweet 1641165372832243713\n",
      "User 1203690121373069312 not found in user refs in card on tweet 1641165372832243713\n",
      "User 1203690121373069312 not found in user refs in card on tweet 1641165372832243713\n",
      "Unavailable user in card on tweet 1641165365228056581\n",
      "Unavailable user in card on tweet 1641165365228056581\n",
      "User 1203690121373069312 not found in user refs in card on tweet 1641165365228056581\n",
      "User 1203690121373069312 not found in user refs in card on tweet 1641165365228056581\n"
     ]
    },
    {
     "name": "stdout",
     "output_type": "stream",
     "text": [
      "Data saved. Total tweets: 5200\n"
     ]
    },
    {
     "name": "stderr",
     "output_type": "stream",
     "text": [
      "Could not translate t.co card URL on tweet 1641142736936894471\n"
     ]
    },
    {
     "name": "stdout",
     "output_type": "stream",
     "text": [
      "Data saved. Total tweets: 5300\n",
      "Data saved. Total tweets: 5400\n",
      "Data saved. Total tweets: 5500\n",
      "Data saved. Total tweets: 5600\n",
      "Data saved. Total tweets: 5700\n",
      "Data saved. Total tweets: 5800\n",
      "Data saved. Total tweets: 5900\n",
      "Data saved. Total tweets: 6000\n"
     ]
    },
    {
     "name": "stderr",
     "output_type": "stream",
     "text": [
      "Could not translate t.co card URL on tweet 1640743091257872385\n"
     ]
    },
    {
     "name": "stdout",
     "output_type": "stream",
     "text": [
      "Data saved. Total tweets: 6100\n",
      "Data saved. Total tweets: 6200\n"
     ]
    },
    {
     "name": "stderr",
     "output_type": "stream",
     "text": [
      "Unavailable user in card on tweet 1641030601963626497\n",
      "Unavailable user in card on tweet 1641030601963626497\n",
      "User 1203690121373069312 not found in user refs in card on tweet 1641030601963626497\n",
      "User 1203690121373069312 not found in user refs in card on tweet 1641030601963626497\n",
      "Unavailable user in card on tweet 1641030594686533632\n",
      "Unavailable user in card on tweet 1641030594686533632\n",
      "User 1203690121373069312 not found in user refs in card on tweet 1641030594686533632\n",
      "User 1203690121373069312 not found in user refs in card on tweet 1641030594686533632\n"
     ]
    },
    {
     "name": "stdout",
     "output_type": "stream",
     "text": [
      "Data saved. Total tweets: 6300\n",
      "Data saved. Total tweets: 6400\n",
      "Data saved. Total tweets: 6500\n",
      "Data saved. Total tweets: 6600\n",
      "Data saved. Total tweets: 6700\n"
     ]
    },
    {
     "name": "stderr",
     "output_type": "stream",
     "text": [
      "Unavailable user in card on tweet 1640912246644838400\n",
      "User 14204245 not found in user refs in card on tweet 1640912246644838400\n"
     ]
    },
    {
     "name": "stdout",
     "output_type": "stream",
     "text": [
      "Data saved. Total tweets: 6800\n",
      "Data saved. Total tweets: 6900\n"
     ]
    },
    {
     "name": "stderr",
     "output_type": "stream",
     "text": [
      "Unavailable user in card on tweet 1640873821908418561\n",
      "User 14204245 not found in user refs in card on tweet 1640873821908418561\n"
     ]
    },
    {
     "name": "stdout",
     "output_type": "stream",
     "text": [
      "Data saved. Total tweets: 7000\n"
     ]
    },
    {
     "name": "stderr",
     "output_type": "stream",
     "text": [
      "Could not translate t.co card URL on tweet 1640849994373644294\n"
     ]
    },
    {
     "name": "stdout",
     "output_type": "stream",
     "text": [
      "Data saved. Total tweets: 7100\n",
      "Data saved. Total tweets: 7200\n",
      "Data saved. Total tweets: 7300\n",
      "Data saved. Total tweets: 7400\n",
      "Data saved. Total tweets: 7500\n",
      "Data saved. Total tweets: 7600\n"
     ]
    },
    {
     "name": "stderr",
     "output_type": "stream",
     "text": [
      "Could not translate t.co card URL on tweet 1640285109202083841\n"
     ]
    },
    {
     "name": "stdout",
     "output_type": "stream",
     "text": [
      "Data saved. Total tweets: 7700\n",
      "Data saved. Total tweets: 7800\n",
      "Data saved. Total tweets: 7900\n",
      "Data saved. Total tweets: 8000\n",
      "Data saved. Total tweets: 8100\n",
      "Data saved. Total tweets: 8200\n"
     ]
    },
    {
     "name": "stderr",
     "output_type": "stream",
     "text": [
      "Could not translate t.co card URL on tweet 1640678440113168391\n"
     ]
    },
    {
     "name": "stdout",
     "output_type": "stream",
     "text": [
      "Data saved. Total tweets: 8300\n",
      "Data saved. Total tweets: 8400\n",
      "Data saved. Total tweets: 8500\n",
      "Data saved. Total tweets: 8600\n",
      "Data saved. Total tweets: 8700\n",
      "Data saved. Total tweets: 8800\n",
      "Data saved. Total tweets: 8900\n",
      "Data saved. Total tweets: 9000\n",
      "Data saved. Total tweets: 9100\n",
      "Data saved. Total tweets: 9200\n",
      "Data saved. Total tweets: 9300\n"
     ]
    },
    {
     "name": "stderr",
     "output_type": "stream",
     "text": [
      "Could not translate t.co card URL on tweet 1640465143929921536\n"
     ]
    },
    {
     "name": "stdout",
     "output_type": "stream",
     "text": [
      "Data saved. Total tweets: 9400\n",
      "Data saved. Total tweets: 9500\n",
      "Data saved. Total tweets: 9600\n"
     ]
    },
    {
     "name": "stderr",
     "output_type": "stream",
     "text": [
      "Unavailable user in card on tweet 1640433913653805058\n",
      "Unavailable user in card on tweet 1640433913653805058\n",
      "User 1203690121373069312 not found in user refs in card on tweet 1640433913653805058\n",
      "User 1203690121373069312 not found in user refs in card on tweet 1640433913653805058\n",
      "Unavailable user in card on tweet 1640433906192199681\n",
      "Unavailable user in card on tweet 1640433906192199681\n",
      "User 1203690121373069312 not found in user refs in card on tweet 1640433906192199681\n",
      "User 1203690121373069312 not found in user refs in card on tweet 1640433906192199681\n"
     ]
    },
    {
     "name": "stdout",
     "output_type": "stream",
     "text": [
      "Data saved. Total tweets: 9700\n"
     ]
    },
    {
     "name": "stderr",
     "output_type": "stream",
     "text": [
      "Could not translate t.co card URL on tweet 1640425474030706688\n",
      "Could not translate t.co card URL on tweet 1640422424167735298\n"
     ]
    },
    {
     "name": "stdout",
     "output_type": "stream",
     "text": [
      "Data saved. Total tweets: 9800\n",
      "Data saved. Total tweets: 9900\n",
      "Data saved. Total tweets: 10000\n"
     ]
    },
    {
     "name": "stderr",
     "output_type": "stream",
     "text": [
      "Could not translate t.co card URL on tweet 1640386625384464384\n"
     ]
    },
    {
     "name": "stdout",
     "output_type": "stream",
     "text": [
      "Data saved. Total tweets: 10100\n",
      "Data saved. Total tweets: 10200\n",
      "Data saved. Total tweets: 10300\n",
      "Data saved. Total tweets: 10400\n",
      "Data saved. Total tweets: 10500\n",
      "Data saved. Total tweets: 10600\n",
      "Data saved. Total tweets: 10700\n"
     ]
    },
    {
     "name": "stderr",
     "output_type": "stream",
     "text": [
      "Could not translate t.co card URL on tweet 1640316021562281985\n"
     ]
    },
    {
     "name": "stdout",
     "output_type": "stream",
     "text": [
      "Data saved. Total tweets: 10800\n",
      "Data saved. Total tweets: 10900\n",
      "Data saved. Total tweets: 11000\n",
      "Data saved. Total tweets: 11100\n",
      "Data saved. Total tweets: 11200\n",
      "Data saved. Total tweets: 11300\n",
      "Data saved. Total tweets: 11400\n",
      "Data saved. Total tweets: 11500\n",
      "Data saved. Total tweets: 11600\n",
      "Data saved. Total tweets: 11700\n",
      "Data saved. Total tweets: 11800\n",
      "Data saved. Total tweets: 11900\n",
      "Data saved. Total tweets: 12000\n"
     ]
    },
    {
     "name": "stderr",
     "output_type": "stream",
     "text": [
      "Unavailable user in card on tweet 1640087919300947971\n",
      "Unavailable user in card on tweet 1640087919300947971\n",
      "User 1203690121373069312 not found in user refs in card on tweet 1640087919300947971\n",
      "User 1203690121373069312 not found in user refs in card on tweet 1640087919300947971\n"
     ]
    },
    {
     "name": "stdout",
     "output_type": "stream",
     "text": [
      "Data saved. Total tweets: 12100\n"
     ]
    },
    {
     "name": "stderr",
     "output_type": "stream",
     "text": [
      "Could not translate t.co card URL on tweet 1640070772747280386\n"
     ]
    },
    {
     "name": "stdout",
     "output_type": "stream",
     "text": [
      "Data saved. Total tweets: 12200\n",
      "Data saved. Total tweets: 12300\n"
     ]
    },
    {
     "name": "stderr",
     "output_type": "stream",
     "text": [
      "Unavailable user in card on tweet 1640057761454071808\n",
      "Unavailable user in card on tweet 1640057761454071808\n",
      "User 1203690121373069312 not found in user refs in card on tweet 1640057761454071808\n",
      "User 1203690121373069312 not found in user refs in card on tweet 1640057761454071808\n",
      "Unavailable user in card on tweet 1640057752570454020\n",
      "Unavailable user in card on tweet 1640057752570454020\n",
      "User 1203690121373069312 not found in user refs in card on tweet 1640057752570454020\n",
      "User 1203690121373069312 not found in user refs in card on tweet 1640057752570454020\n"
     ]
    },
    {
     "name": "stdout",
     "output_type": "stream",
     "text": [
      "Data saved. Total tweets: 12400\n",
      "Data saved. Total tweets: 12500\n",
      "Data saved. Total tweets: 12600\n",
      "Data saved. Total tweets: 12700\n",
      "Data saved. Total tweets: 12800\n",
      "Data saved. Total tweets: 12900\n",
      "Data saved. Total tweets: 13000\n",
      "Data saved. Total tweets: 13100\n",
      "Data saved. Total tweets: 13200\n",
      "Data saved. Total tweets: 13300\n",
      "Data saved. Total tweets: 13400\n"
     ]
    },
    {
     "name": "stderr",
     "output_type": "stream",
     "text": [
      "Unavailable user in card on tweet 1639818238862213121\n",
      "Unavailable user in card on tweet 1639818238862213121\n",
      "User 1062915983294300160 not found in user refs in card on tweet 1639818238862213121\n",
      "User 1062915983294300160 not found in user refs in card on tweet 1639818238862213121\n"
     ]
    },
    {
     "name": "stdout",
     "output_type": "stream",
     "text": [
      "Data saved. Total tweets: 13500\n",
      "Data saved. Total tweets: 13600\n",
      "Data saved. Total tweets: 13700\n"
     ]
    },
    {
     "name": "stderr",
     "output_type": "stream",
     "text": [
      "Unavailable user in card on tweet 1639832957648269312\n",
      "User 14204245 not found in user refs in card on tweet 1639832957648269312\n"
     ]
    },
    {
     "name": "stdout",
     "output_type": "stream",
     "text": [
      "Data saved. Total tweets: 13800\n",
      "Data saved. Total tweets: 13900\n"
     ]
    },
    {
     "name": "stderr",
     "output_type": "stream",
     "text": [
      "Empty user ref object in card on tweet 1639791273937600513\n",
      "User 3386716163 not found in user refs in card on tweet 1639791273937600513\n"
     ]
    },
    {
     "name": "stdout",
     "output_type": "stream",
     "text": [
      "Data saved. Total tweets: 14000\n",
      "Data saved. Total tweets: 14100\n",
      "Data saved. Total tweets: 14200\n",
      "Data saved. Total tweets: 14300\n",
      "Data saved. Total tweets: 14400\n",
      "Data saved. Total tweets: 14500\n",
      "Data saved. Total tweets: 14600\n",
      "Data saved. Total tweets: 14700\n",
      "Data saved. Total tweets: 14800\n",
      "Data saved. Total tweets: 14900\n",
      "Data saved. Total tweets: 15000\n",
      "Data saved. Total tweets: 15100\n",
      "Data saved. Total tweets: 15200\n",
      "Data saved. Total tweets: 15300\n",
      "Data saved. Total tweets: 15400\n"
     ]
    },
    {
     "name": "stderr",
     "output_type": "stream",
     "text": [
      "Unavailable user in card on tweet 1639641442682322945\n",
      "Unavailable user in card on tweet 1639641442682322945\n",
      "User 1062915983294300160 not found in user refs in card on tweet 1639641442682322945\n",
      "User 1062915983294300160 not found in user refs in card on tweet 1639641442682322945\n",
      "Unavailable user in card on tweet 1639641036661362689\n",
      "Unavailable user in card on tweet 1639641036661362689\n",
      "User 1062915983294300160 not found in user refs in card on tweet 1639641036661362689\n",
      "User 1062915983294300160 not found in user refs in card on tweet 1639641036661362689\n"
     ]
    },
    {
     "name": "stdout",
     "output_type": "stream",
     "text": [
      "Data saved. Total tweets: 15500\n"
     ]
    },
    {
     "name": "stderr",
     "output_type": "stream",
     "text": [
      "Could not translate t.co card URL on tweet 1639626261122416643\n"
     ]
    },
    {
     "name": "stdout",
     "output_type": "stream",
     "text": [
      "Data saved. Total tweets: 15600\n",
      "Data saved. Total tweets: 15700\n",
      "Data saved. Total tweets: 15800\n"
     ]
    },
    {
     "name": "stderr",
     "output_type": "stream",
     "text": [
      "Could not translate t.co card URL on tweet 1639582140928073729\n"
     ]
    },
    {
     "name": "stdout",
     "output_type": "stream",
     "text": [
      "Data saved. Total tweets: 15900\n",
      "Data saved. Total tweets: 16000\n",
      "Data saved. Total tweets: 16100\n",
      "Data saved. Total tweets: 16200\n",
      "Data saved. Total tweets: 16300\n"
     ]
    },
    {
     "name": "stderr",
     "output_type": "stream",
     "text": [
      "Unavailable user in card on tweet 1639487133382574082\n",
      "Unavailable user in card on tweet 1639487133382574082\n",
      "User 1062915983294300160 not found in user refs in card on tweet 1639487133382574082\n",
      "User 1062915983294300160 not found in user refs in card on tweet 1639487133382574082\n"
     ]
    },
    {
     "name": "stdout",
     "output_type": "stream",
     "text": [
      "Data saved. Total tweets: 16400\n",
      "Data saved. Total tweets: 16500\n"
     ]
    },
    {
     "name": "stderr",
     "output_type": "stream",
     "text": [
      "Unavailable user in card on tweet 1639452515988295682\n",
      "User 14204245 not found in user refs in card on tweet 1639452515988295682\n",
      "Unavailable user in card on tweet 1639447632719532032\n",
      "User 14204245 not found in user refs in card on tweet 1639447632719532032\n",
      "Unavailable user in card on tweet 1639447487013584896\n",
      "User 14204245 not found in user refs in card on tweet 1639447487013584896\n"
     ]
    },
    {
     "name": "stdout",
     "output_type": "stream",
     "text": [
      "Data saved. Total tweets: 16600\n",
      "Data saved. Total tweets: 16700\n"
     ]
    },
    {
     "name": "stderr",
     "output_type": "stream",
     "text": [
      "Unavailable user in card on tweet 1639418716537405441\n",
      "Unavailable user in card on tweet 1639418716537405441\n",
      "User 1062915983294300160 not found in user refs in card on tweet 1639418716537405441\n",
      "User 1062915983294300160 not found in user refs in card on tweet 1639418716537405441\n"
     ]
    },
    {
     "name": "stdout",
     "output_type": "stream",
     "text": [
      "Data saved. Total tweets: 16800\n",
      "Data saved. Total tweets: 16900\n",
      "Data saved. Total tweets: 17000\n",
      "Data saved. Total tweets: 17100\n",
      "Data saved. Total tweets: 17200\n",
      "Data saved. Total tweets: 17300\n",
      "Data saved. Total tweets: 17400\n",
      "Data saved. Total tweets: 17500\n"
     ]
    },
    {
     "name": "stderr",
     "output_type": "stream",
     "text": [
      "Unavailable user in card on tweet 1639339167753842689\n",
      "Unavailable user in card on tweet 1639339167753842689\n",
      "User 1062915983294300160 not found in user refs in card on tweet 1639339167753842689\n",
      "User 1062915983294300160 not found in user refs in card on tweet 1639339167753842689\n"
     ]
    },
    {
     "name": "stdout",
     "output_type": "stream",
     "text": [
      "Data saved. Total tweets: 17600\n"
     ]
    },
    {
     "name": "stderr",
     "output_type": "stream",
     "text": [
      "Unavailable user in card on tweet 1639331610964131844\n",
      "Unavailable user in card on tweet 1639331610964131844\n",
      "User 1062915983294300160 not found in user refs in card on tweet 1639331610964131844\n",
      "User 1062915983294300160 not found in user refs in card on tweet 1639331610964131844\n",
      "Could not translate t.co card URL on tweet 1639331512767086596\n"
     ]
    },
    {
     "name": "stdout",
     "output_type": "stream",
     "text": [
      "Data saved. Total tweets: 17700\n",
      "Data saved. Total tweets: 17800\n",
      "Data saved. Total tweets: 17900\n",
      "Data saved. Total tweets: 18000\n"
     ]
    },
    {
     "name": "stderr",
     "output_type": "stream",
     "text": [
      "Unavailable user in card on tweet 1639297885987815424\n",
      "Unavailable user in card on tweet 1639297885987815424\n",
      "User 1062915983294300160 not found in user refs in card on tweet 1639297885987815424\n",
      "User 1062915983294300160 not found in user refs in card on tweet 1639297885987815424\n"
     ]
    },
    {
     "name": "stdout",
     "output_type": "stream",
     "text": [
      "Data saved. Total tweets: 18100\n",
      "Data saved. Total tweets: 18200\n",
      "Data saved. Total tweets: 18300\n",
      "Data saved. Total tweets: 18400\n",
      "Data saved. Total tweets: 18500\n"
     ]
    },
    {
     "name": "stderr",
     "output_type": "stream",
     "text": [
      "Could not translate t.co card URL on tweet 1639262494156808192\n"
     ]
    },
    {
     "name": "stdout",
     "output_type": "stream",
     "text": [
      "Data saved. Total tweets: 18600\n",
      "Data saved. Total tweets: 18700\n"
     ]
    },
    {
     "name": "stderr",
     "output_type": "stream",
     "text": [
      "Unavailable user in card on tweet 1639247822758240257\n",
      "Unavailable user in card on tweet 1639247822758240257\n",
      "User 1062915983294300160 not found in user refs in card on tweet 1639247822758240257\n",
      "User 1062915983294300160 not found in user refs in card on tweet 1639247822758240257\n",
      "Unavailable user in card on tweet 1639245677996941315\n",
      "Unavailable user in card on tweet 1639245677996941315\n",
      "User 1062915983294300160 not found in user refs in card on tweet 1639245677996941315\n",
      "User 1062915983294300160 not found in user refs in card on tweet 1639245677996941315\n"
     ]
    },
    {
     "name": "stdout",
     "output_type": "stream",
     "text": [
      "Data saved. Total tweets: 18800\n"
     ]
    },
    {
     "name": "stderr",
     "output_type": "stream",
     "text": [
      "Unavailable user in card on tweet 1639239181250756614\n",
      "Unavailable user in card on tweet 1639239181250756614\n",
      "User 1062915983294300160 not found in user refs in card on tweet 1639239181250756614\n",
      "User 1062915983294300160 not found in user refs in card on tweet 1639239181250756614\n"
     ]
    },
    {
     "name": "stdout",
     "output_type": "stream",
     "text": [
      "Data saved. Total tweets: 18900\n"
     ]
    },
    {
     "name": "stderr",
     "output_type": "stream",
     "text": [
      "Unavailable user in card on tweet 1639228516565946368\n",
      "Unavailable user in card on tweet 1639228516565946368\n",
      "User 1062915983294300160 not found in user refs in card on tweet 1639228516565946368\n",
      "User 1062915983294300160 not found in user refs in card on tweet 1639228516565946368\n",
      "Unavailable user in card on tweet 1639228325339213824\n",
      "Unavailable user in card on tweet 1639228325339213824\n",
      "User 1062915983294300160 not found in user refs in card on tweet 1639228325339213824\n",
      "User 1062915983294300160 not found in user refs in card on tweet 1639228325339213824\n",
      "Unavailable user in card on tweet 1639227097507061765\n",
      "Unavailable user in card on tweet 1639227097507061765\n",
      "User 1062915983294300160 not found in user refs in card on tweet 1639227097507061765\n",
      "User 1062915983294300160 not found in user refs in card on tweet 1639227097507061765\n",
      "Unavailable user in card on tweet 1639226824260751360\n",
      "Unavailable user in card on tweet 1639226824260751360\n",
      "User 1062915983294300160 not found in user refs in card on tweet 1639226824260751360\n",
      "User 1062915983294300160 not found in user refs in card on tweet 1639226824260751360\n"
     ]
    },
    {
     "name": "stdout",
     "output_type": "stream",
     "text": [
      "Data saved. Total tweets: 19000\n",
      "Data saved. Total tweets: 19100\n"
     ]
    },
    {
     "name": "stderr",
     "output_type": "stream",
     "text": [
      "Empty user ref object in card on tweet 1639194849894334465\n",
      "User 899733078641225728 not found in user refs in card on tweet 1639194849894334465\n"
     ]
    },
    {
     "name": "stdout",
     "output_type": "stream",
     "text": [
      "Data saved. Total tweets: 19200\n",
      "Data saved. Total tweets: 19300\n",
      "Data saved. Total tweets: 19400\n",
      "Data saved. Total tweets: 19500\n"
     ]
    },
    {
     "name": "stderr",
     "output_type": "stream",
     "text": [
      "Unavailable user in card on tweet 1639110772453425155\n",
      "User 14204245 not found in user refs in card on tweet 1639110772453425155\n"
     ]
    },
    {
     "name": "stdout",
     "output_type": "stream",
     "text": [
      "Data saved. Total tweets: 19600\n",
      "Data saved. Total tweets: 19700\n",
      "Data saved. Total tweets: 19800\n",
      "Data saved. Total tweets: 19900\n",
      "Data saved. Total tweets: 20000\n",
      "Data saved. Total tweets: 20100\n",
      "Data saved. Total tweets: 20200\n"
     ]
    },
    {
     "name": "stderr",
     "output_type": "stream",
     "text": [
      "Could not translate t.co card URL on tweet 1638710104093589504\n",
      "Unavailable user in card on tweet 1639049580045283334\n",
      "User 522038426 not found in user refs in card on tweet 1639049580045283334\n"
     ]
    },
    {
     "name": "stdout",
     "output_type": "stream",
     "text": [
      "Data saved. Total tweets: 20300\n",
      "Data saved. Total tweets: 20400\n",
      "Data saved. Total tweets: 20500\n",
      "Data saved. Total tweets: 20600\n",
      "Data saved. Total tweets: 20700\n",
      "Data saved. Total tweets: 20800\n",
      "Data saved. Total tweets: 20900\n",
      "Data saved. Total tweets: 21000\n",
      "Data saved. Total tweets: 21100\n",
      "Data saved. Total tweets: 21200\n",
      "Data saved. Total tweets: 21300\n",
      "Data saved. Total tweets: 21400\n",
      "Data saved. Total tweets: 21500\n"
     ]
    },
    {
     "name": "stderr",
     "output_type": "stream",
     "text": [
      "Unavailable user in card on tweet 1638897040028729345\n",
      "User 14204245 not found in user refs in card on tweet 1638897040028729345\n"
     ]
    },
    {
     "name": "stdout",
     "output_type": "stream",
     "text": [
      "Data saved. Total tweets: 21600\n",
      "Data saved. Total tweets: 21700\n",
      "Data saved. Total tweets: 21800\n",
      "Data saved. Total tweets: 21900\n"
     ]
    },
    {
     "name": "stderr",
     "output_type": "stream",
     "text": [
      "Unavailable user in card on tweet 1638849480035557376\n",
      "User 14204245 not found in user refs in card on tweet 1638849480035557376\n",
      "Could not translate t.co card URL on tweet 1638847431461707778\n"
     ]
    },
    {
     "name": "stdout",
     "output_type": "stream",
     "text": [
      "Data saved. Total tweets: 22000\n",
      "Data saved. Total tweets: 22100\n"
     ]
    },
    {
     "name": "stderr",
     "output_type": "stream",
     "text": [
      "Could not translate t.co card URL on tweet 1638823251689504768\n"
     ]
    },
    {
     "name": "stdout",
     "output_type": "stream",
     "text": [
      "Data saved. Total tweets: 22200\n",
      "Data saved. Total tweets: 22300\n",
      "Data saved. Total tweets: 22400\n",
      "Data saved. Total tweets: 22500\n"
     ]
    },
    {
     "name": "stderr",
     "output_type": "stream",
     "text": [
      "Unavailable user in card on tweet 1638748530977431552\n",
      "User 14204245 not found in user refs in card on tweet 1638748530977431552\n",
      "Unavailable user in card on tweet 1638748530960646145\n",
      "User 14204245 not found in user refs in card on tweet 1638748530960646145\n",
      "Could not translate t.co card URL on tweet 1638746104060862466\n",
      "Could not translate t.co card URL on tweet 1638740289023082497\n"
     ]
    },
    {
     "name": "stdout",
     "output_type": "stream",
     "text": [
      "Data saved. Total tweets: 22600\n",
      "Data saved. Total tweets: 22700\n",
      "Data saved. Total tweets: 22800\n",
      "Data saved. Total tweets: 22900\n",
      "Data saved. Total tweets: 23000\n",
      "Data saved. Total tweets: 23100\n",
      "Data saved. Total tweets: 23200\n",
      "Data saved. Total tweets: 23300\n",
      "Data saved. Total tweets: 23400\n",
      "Data saved. Total tweets: 23500\n",
      "Data saved. Total tweets: 23600\n",
      "Data saved. Total tweets: 23700\n",
      "Data saved. Total tweets: 23800\n",
      "Data saved. Total tweets: 23900\n",
      "Data saved. Total tweets: 24000\n"
     ]
    },
    {
     "name": "stderr",
     "output_type": "stream",
     "text": [
      "Could not translate t.co card URL on tweet 1638573876253954050\n"
     ]
    },
    {
     "name": "stdout",
     "output_type": "stream",
     "text": [
      "Data saved. Total tweets: 24100\n"
     ]
    },
    {
     "name": "stderr",
     "output_type": "stream",
     "text": [
      "Unavailable user in card on tweet 1638573549785952256\n",
      "User 14204245 not found in user refs in card on tweet 1638573549785952256\n"
     ]
    },
    {
     "name": "stdout",
     "output_type": "stream",
     "text": [
      "Data saved. Total tweets: 24200\n"
     ]
    },
    {
     "name": "stderr",
     "output_type": "stream",
     "text": [
      "Could not translate t.co card URL on tweet 1638558757721448450\n"
     ]
    },
    {
     "name": "stdout",
     "output_type": "stream",
     "text": [
      "Data saved. Total tweets: 24300\n",
      "Data saved. Total tweets: 24400\n",
      "Data saved. Total tweets: 24500\n",
      "Data saved. Total tweets: 24600\n",
      "Data saved. Total tweets: 24700\n",
      "Data saved. Total tweets: 24800\n",
      "Data saved. Total tweets: 24900\n",
      "Data saved. Total tweets: 25000\n",
      "Data saved. Total tweets: 25100\n",
      "Data saved. Total tweets: 25200\n",
      "Data saved. Total tweets: 25300\n",
      "Data saved. Total tweets: 25400\n",
      "Data saved. Total tweets: 25500\n"
     ]
    },
    {
     "name": "stderr",
     "output_type": "stream",
     "text": [
      "Could not translate t.co card URL on tweet 1638394515554996226\n"
     ]
    },
    {
     "name": "stdout",
     "output_type": "stream",
     "text": [
      "Data saved. Total tweets: 25600\n",
      "Data saved. Total tweets: 25700\n"
     ]
    },
    {
     "name": "stderr",
     "output_type": "stream",
     "text": [
      "Unavailable user in card on tweet 1638373666479280130\n",
      "User 14204245 not found in user refs in card on tweet 1638373666479280130\n"
     ]
    },
    {
     "name": "stdout",
     "output_type": "stream",
     "text": [
      "Data saved. Total tweets: 25800\n",
      "Data saved. Total tweets: 25900\n",
      "Data saved. Total tweets: 26000\n",
      "Data saved. Total tweets: 26100\n",
      "Data saved. Total tweets: 26200\n",
      "Data saved. Total tweets: 26300\n",
      "Data saved. Total tweets: 26400\n",
      "Data saved. Total tweets: 26500\n",
      "Data saved. Total tweets: 26600\n",
      "Data saved. Total tweets: 26700\n",
      "Data saved. Total tweets: 26800\n",
      "Data saved. Total tweets: 26900\n",
      "Data saved. Total tweets: 27000\n"
     ]
    },
    {
     "name": "stderr",
     "output_type": "stream",
     "text": [
      "Could not translate t.co card URL on tweet 1638262657919733763\n",
      "Could not translate t.co card URL on tweet 1638261318904864768\n"
     ]
    },
    {
     "name": "stdout",
     "output_type": "stream",
     "text": [
      "Data saved. Total tweets: 27100\n",
      "Data saved. Total tweets: 27200\n",
      "Data saved. Total tweets: 27300\n",
      "Data saved. Total tweets: 27400\n",
      "Data saved. Total tweets: 27500\n",
      "Data saved. Total tweets: 27600\n",
      "Data saved. Total tweets: 27700\n",
      "Data saved. Total tweets: 27800\n",
      "Data saved. Total tweets: 27900\n",
      "Data saved. Total tweets: 28000\n",
      "Data saved. Total tweets: 28100\n",
      "Data saved. Total tweets: 28200\n",
      "Data saved. Total tweets: 28300\n",
      "Data saved. Total tweets: 28400\n",
      "Data saved. Total tweets: 28500\n",
      "Data saved. Total tweets: 28600\n",
      "Data saved. Total tweets: 28700\n",
      "Data saved. Total tweets: 28800\n",
      "Data saved. Total tweets: 28900\n",
      "Data saved. Total tweets: 29000\n",
      "Data saved. Total tweets: 29100\n"
     ]
    },
    {
     "name": "stderr",
     "output_type": "stream",
     "text": [
      "Could not translate t.co card URL on tweet 1638101626715095040\n",
      "Could not translate t.co card URL on tweet 1638095834998001665\n"
     ]
    },
    {
     "name": "stdout",
     "output_type": "stream",
     "text": [
      "Data saved. Total tweets: 29200\n",
      "Data saved. Total tweets: 29300\n",
      "Data saved. Total tweets: 29400\n"
     ]
    },
    {
     "name": "stderr",
     "output_type": "stream",
     "text": [
      "Could not translate t.co card URL on tweet 1638055699681796097\n"
     ]
    },
    {
     "name": "stdout",
     "output_type": "stream",
     "text": [
      "Data saved. Total tweets: 29500\n"
     ]
    },
    {
     "name": "stderr",
     "output_type": "stream",
     "text": [
      "Could not translate t.co card URL on tweet 1638037769174896640\n"
     ]
    },
    {
     "name": "stdout",
     "output_type": "stream",
     "text": [
      "Data saved. Total tweets: 29600\n"
     ]
    },
    {
     "name": "stderr",
     "output_type": "stream",
     "text": [
      "Could not translate t.co card URL on tweet 1637778280865738753\n"
     ]
    },
    {
     "name": "stdout",
     "output_type": "stream",
     "text": [
      "Data saved. Total tweets: 29700\n"
     ]
    },
    {
     "name": "stderr",
     "output_type": "stream",
     "text": [
      "Unavailable user in card on tweet 1638025344409059328\n",
      "Unavailable user in card on tweet 1638025344409059328\n",
      "User 160497158 not found in user refs in card on tweet 1638025344409059328\n",
      "User 160497158 not found in user refs in card on tweet 1638025344409059328\n"
     ]
    },
    {
     "name": "stdout",
     "output_type": "stream",
     "text": [
      "Data saved. Total tweets: 29800\n",
      "Data saved. Total tweets: 29900\n",
      "Data saved. Total tweets: 30000\n"
     ]
    },
    {
     "name": "stderr",
     "output_type": "stream",
     "text": [
      "Empty user ref object in card on tweet 1637994052187717633\n",
      "Empty user ref object in card on tweet 1637994052187717633\n",
      "User 993910175856713728 not found in user refs in card on tweet 1637994052187717633\n",
      "User 993910175856713728 not found in user refs in card on tweet 1637994052187717633\n"
     ]
    },
    {
     "name": "stdout",
     "output_type": "stream",
     "text": [
      "Data saved. Total tweets: 30100\n",
      "Data saved. Total tweets: 30200\n",
      "Data saved. Total tweets: 30300\n",
      "Data saved. Total tweets: 30400\n",
      "Data saved. Total tweets: 30500\n",
      "Data saved. Total tweets: 30600\n",
      "Data saved. Total tweets: 30700\n",
      "Data saved. Total tweets: 30800\n",
      "Data saved. Total tweets: 30900\n",
      "Data saved. Total tweets: 31000\n",
      "Data saved. Total tweets: 31100\n",
      "Data saved. Total tweets: 31200\n",
      "Data saved. Total tweets: 31300\n",
      "Data saved. Total tweets: 31400\n",
      "Data saved. Total tweets: 31500\n",
      "Data saved. Total tweets: 31600\n",
      "Data saved. Total tweets: 31700\n",
      "Data saved. Total tweets: 31800\n",
      "Data saved. Total tweets: 31900\n",
      "Data saved. Total tweets: 32000\n",
      "Data saved. Total tweets: 32100\n",
      "Data saved. Total tweets: 32200\n",
      "Data saved. Total tweets: 32300\n",
      "Data saved. Total tweets: 32400\n",
      "Data saved. Total tweets: 32500\n",
      "Data saved. Total tweets: 32600\n"
     ]
    },
    {
     "name": "stderr",
     "output_type": "stream",
     "text": [
      "Could not translate t.co card URL on tweet 1637827243870150656\n"
     ]
    },
    {
     "name": "stdout",
     "output_type": "stream",
     "text": [
      "Data saved. Total tweets: 32700\n",
      "Data saved. Total tweets: 32800\n",
      "Data saved. Total tweets: 32900\n",
      "Data saved. Total tweets: 33000\n",
      "Data saved. Total tweets: 33100\n",
      "Data saved. Total tweets: 33200\n",
      "Data saved. Total tweets: 33300\n",
      "Data saved. Total tweets: 33400\n"
     ]
    },
    {
     "name": "stderr",
     "output_type": "stream",
     "text": [
      "Could not translate t.co card URL on tweet 1637758404084273152\n",
      "Unavailable user in card on tweet 1637744538583171074\n",
      "User 17639527 not found in user refs in card on tweet 1637744538583171074\n"
     ]
    },
    {
     "name": "stdout",
     "output_type": "stream",
     "text": [
      "Data saved. Total tweets: 33500\n",
      "Data saved. Total tweets: 33600\n",
      "Data saved. Total tweets: 33700\n",
      "Data saved. Total tweets: 33800\n",
      "Data saved. Total tweets: 33900\n",
      "Data saved. Total tweets: 34000\n",
      "Data saved. Total tweets: 34100\n",
      "Data saved. Total tweets: 34200\n"
     ]
    },
    {
     "name": "stderr",
     "output_type": "stream",
     "text": [
      "Unavailable user in card on tweet 1637571459366400000\n",
      "User 14204245 not found in user refs in card on tweet 1637571459366400000\n"
     ]
    },
    {
     "name": "stdout",
     "output_type": "stream",
     "text": [
      "Data saved. Total tweets: 34300\n",
      "Data saved. Total tweets: 34400\n",
      "Data saved. Total tweets: 34500\n",
      "Data saved. Total tweets: 34600\n",
      "Data saved. Total tweets: 34700\n",
      "Data saved. Total tweets: 34800\n"
     ]
    },
    {
     "name": "stderr",
     "output_type": "stream",
     "text": [
      "Unavailable user in card on tweet 1637476006553612288\n",
      "User 14204245 not found in user refs in card on tweet 1637476006553612288\n",
      "Unavailable user in card on tweet 1637476004217384961\n",
      "User 14204245 not found in user refs in card on tweet 1637476004217384961\n"
     ]
    },
    {
     "name": "stdout",
     "output_type": "stream",
     "text": [
      "Data saved. Total tweets: 34900\n",
      "Data saved. Total tweets: 35000\n",
      "Data saved. Total tweets: 35100\n",
      "Data saved. Total tweets: 35200\n"
     ]
    },
    {
     "name": "stderr",
     "output_type": "stream",
     "text": [
      "Stopping after 20 empty pages\n"
     ]
    },
    {
     "name": "stdout",
     "output_type": "stream",
     "text": [
      "Data saved. Total tweets: 35300\n",
      "Data saved. Total tweets: 35400\n",
      "Data saved. Total tweets: 35500\n",
      "Data saved. Total tweets: 35600\n",
      "Data saved. Total tweets: 35700\n"
     ]
    },
    {
     "name": "stderr",
     "output_type": "stream",
     "text": [
      "Unavailable user in card on tweet 1641882780333232129\n",
      "Unavailable user in card on tweet 1641882780333232129\n",
      "User 1203690121373069312 not found in user refs in card on tweet 1641882780333232129\n",
      "User 1203690121373069312 not found in user refs in card on tweet 1641882780333232129\n",
      "Unavailable user in card on tweet 1641882773207105536\n",
      "Unavailable user in card on tweet 1641882773207105536\n",
      "User 1203690121373069312 not found in user refs in card on tweet 1641882773207105536\n",
      "User 1203690121373069312 not found in user refs in card on tweet 1641882773207105536\n",
      "Unavailable user in card on tweet 1641882706735771652\n",
      "Unavailable user in card on tweet 1641882706735771652\n",
      "User 1203690121373069312 not found in user refs in card on tweet 1641882706735771652\n",
      "User 1203690121373069312 not found in user refs in card on tweet 1641882706735771652\n",
      "Unavailable user in card on tweet 1641882697982267400\n",
      "Unavailable user in card on tweet 1641882697982267400\n",
      "User 1203690121373069312 not found in user refs in card on tweet 1641882697982267400\n",
      "User 1203690121373069312 not found in user refs in card on tweet 1641882697982267400\n",
      "Unavailable user in card on tweet 1641880654471127043\n",
      "Unavailable user in card on tweet 1641880654471127043\n",
      "User 1203690121373069312 not found in user refs in card on tweet 1641880654471127043\n",
      "User 1203690121373069312 not found in user refs in card on tweet 1641880654471127043\n",
      "Unavailable user in card on tweet 1641880646065836033\n",
      "Unavailable user in card on tweet 1641880646065836033\n",
      "User 1203690121373069312 not found in user refs in card on tweet 1641880646065836033\n",
      "User 1203690121373069312 not found in user refs in card on tweet 1641880646065836033\n"
     ]
    },
    {
     "name": "stdout",
     "output_type": "stream",
     "text": [
      "Data saved. Total tweets: 35800\n",
      "Data saved. Total tweets: 35900\n",
      "Data saved. Total tweets: 36000\n"
     ]
    },
    {
     "name": "stderr",
     "output_type": "stream",
     "text": [
      "Could not translate t.co card URL on tweet 1641838744696127496\n"
     ]
    },
    {
     "name": "stdout",
     "output_type": "stream",
     "text": [
      "Data saved. Total tweets: 36100\n"
     ]
    },
    {
     "name": "stderr",
     "output_type": "stream",
     "text": [
      "Unavailable user in card on tweet 1641831615067222019\n",
      "User 14204245 not found in user refs in card on tweet 1641831615067222019\n"
     ]
    },
    {
     "name": "stdout",
     "output_type": "stream",
     "text": [
      "Data saved. Total tweets: 36200\n",
      "Data saved. Total tweets: 36300\n",
      "Data saved. Total tweets: 36400\n",
      "Data saved. Total tweets: 36500\n",
      "Data saved. Total tweets: 36600\n",
      "Data saved. Total tweets: 36700\n"
     ]
    },
    {
     "name": "stderr",
     "output_type": "stream",
     "text": [
      "Unavailable user in card on tweet 1641744752675794944\n",
      "User 14204245 not found in user refs in card on tweet 1641744752675794944\n",
      "Could not translate t.co card URL on tweet 1641730488028086273\n"
     ]
    },
    {
     "name": "stdout",
     "output_type": "stream",
     "text": [
      "Data saved. Total tweets: 36800\n"
     ]
    },
    {
     "name": "stderr",
     "output_type": "stream",
     "text": [
      "Could not translate t.co card URL on tweet 1641704876211073024\n",
      "Could not translate t.co card URL on tweet 1641704689044451328\n"
     ]
    },
    {
     "name": "stdout",
     "output_type": "stream",
     "text": [
      "Data saved. Total tweets: 36900\n",
      "Data saved. Total tweets: 37000\n",
      "Data saved. Total tweets: 37100\n",
      "Data saved. Total tweets: 37200\n",
      "Data saved. Total tweets: 37300\n",
      "Data saved. Total tweets: 37400\n",
      "Data saved. Total tweets: 37500\n",
      "Data saved. Total tweets: 37600\n",
      "Data saved. Total tweets: 37700\n"
     ]
    },
    {
     "name": "stderr",
     "output_type": "stream",
     "text": [
      "Could not translate t.co card URL on tweet 1641491307427246104\n",
      "Unavailable user in card on tweet 1641534312502665227\n",
      "Unavailable user in card on tweet 1641534312502665227\n",
      "User 1203690121373069312 not found in user refs in card on tweet 1641534312502665227\n",
      "User 1203690121373069312 not found in user refs in card on tweet 1641534312502665227\n"
     ]
    },
    {
     "name": "stdout",
     "output_type": "stream",
     "text": [
      "Data saved. Total tweets: 37800\n"
     ]
    },
    {
     "name": "stderr",
     "output_type": "stream",
     "text": [
      "Unavailable user in card on tweet 1641534240184475650\n",
      "Unavailable user in card on tweet 1641534240184475650\n",
      "User 1203690121373069312 not found in user refs in card on tweet 1641534240184475650\n",
      "User 1203690121373069312 not found in user refs in card on tweet 1641534240184475650\n",
      "Unavailable user in card on tweet 1641533505011085312\n",
      "Unavailable user in card on tweet 1641533505011085312\n",
      "User 1203690121373069312 not found in user refs in card on tweet 1641533505011085312\n",
      "User 1203690121373069312 not found in user refs in card on tweet 1641533505011085312\n",
      "Unavailable user in card on tweet 1641529830586851336\n",
      "Unavailable user in card on tweet 1641529830586851336\n",
      "User 1203690121373069312 not found in user refs in card on tweet 1641529830586851336\n",
      "User 1203690121373069312 not found in user refs in card on tweet 1641529830586851336\n",
      "Unavailable user in card on tweet 1641529823058075660\n",
      "Unavailable user in card on tweet 1641529823058075660\n",
      "User 1203690121373069312 not found in user refs in card on tweet 1641529823058075660\n",
      "User 1203690121373069312 not found in user refs in card on tweet 1641529823058075660\n"
     ]
    },
    {
     "name": "stdout",
     "output_type": "stream",
     "text": [
      "Data saved. Total tweets: 37900\n"
     ]
    },
    {
     "name": "stderr",
     "output_type": "stream",
     "text": [
      "Unavailable user in card on tweet 1641513854088667152\n",
      "Unavailable user in card on tweet 1641513854088667152\n",
      "User 1203690121373069312 not found in user refs in card on tweet 1641513854088667152\n",
      "User 1203690121373069312 not found in user refs in card on tweet 1641513854088667152\n"
     ]
    },
    {
     "name": "stdout",
     "output_type": "stream",
     "text": [
      "Data saved. Total tweets: 38000\n",
      "Data saved. Total tweets: 38100\n",
      "Data saved. Total tweets: 38200\n",
      "Data saved. Total tweets: 38300\n",
      "Data saved. Total tweets: 38400\n"
     ]
    },
    {
     "name": "stderr",
     "output_type": "stream",
     "text": [
      "Unavailable user in card on tweet 1641460601242148866\n",
      "Unavailable user in card on tweet 1641460601242148866\n",
      "User 1203690121373069312 not found in user refs in card on tweet 1641460601242148866\n",
      "User 1203690121373069312 not found in user refs in card on tweet 1641460601242148866\n",
      "Unavailable user in card on tweet 1641460594023735296\n",
      "Unavailable user in card on tweet 1641460594023735296\n",
      "User 1203690121373069312 not found in user refs in card on tweet 1641460594023735296\n",
      "User 1203690121373069312 not found in user refs in card on tweet 1641460594023735296\n"
     ]
    },
    {
     "name": "stdout",
     "output_type": "stream",
     "text": [
      "Data saved. Total tweets: 38500\n",
      "Data saved. Total tweets: 38600\n"
     ]
    },
    {
     "name": "stderr",
     "output_type": "stream",
     "text": [
      "Could not translate t.co card URL on tweet 1641434805538639874\n"
     ]
    },
    {
     "name": "stdout",
     "output_type": "stream",
     "text": [
      "Data saved. Total tweets: 38700\n"
     ]
    },
    {
     "name": "stderr",
     "output_type": "stream",
     "text": [
      "Could not translate t.co card URL on tweet 1641417629905846275\n"
     ]
    },
    {
     "name": "stdout",
     "output_type": "stream",
     "text": [
      "Data saved. Total tweets: 38800\n",
      "Data saved. Total tweets: 38900\n",
      "Data saved. Total tweets: 39000\n"
     ]
    },
    {
     "name": "stderr",
     "output_type": "stream",
     "text": [
      "Unavailable user in card on tweet 1641371099052007424\n",
      "Unavailable user in card on tweet 1641371099052007424\n",
      "User 1203690121373069312 not found in user refs in card on tweet 1641371099052007424\n",
      "User 1203690121373069312 not found in user refs in card on tweet 1641371099052007424\n",
      "Unavailable user in card on tweet 1641371091510730753\n",
      "Unavailable user in card on tweet 1641371091510730753\n",
      "User 1203690121373069312 not found in user refs in card on tweet 1641371091510730753\n",
      "User 1203690121373069312 not found in user refs in card on tweet 1641371091510730753\n",
      "Unavailable user in card on tweet 1641366098934218754\n",
      "Unavailable user in card on tweet 1641366098934218754\n",
      "User 1203690121373069312 not found in user refs in card on tweet 1641366098934218754\n",
      "User 1203690121373069312 not found in user refs in card on tweet 1641366098934218754\n",
      "Unavailable user in card on tweet 1641366088502984705\n",
      "Unavailable user in card on tweet 1641366088502984705\n",
      "User 1203690121373069312 not found in user refs in card on tweet 1641366088502984705\n",
      "User 1203690121373069312 not found in user refs in card on tweet 1641366088502984705\n"
     ]
    },
    {
     "name": "stdout",
     "output_type": "stream",
     "text": [
      "Data saved. Total tweets: 39100\n",
      "Data saved. Total tweets: 39200\n",
      "Data saved. Total tweets: 39300\n",
      "Data saved. Total tweets: 39400\n",
      "Data saved. Total tweets: 39500\n"
     ]
    },
    {
     "name": "stderr",
     "output_type": "stream",
     "text": [
      "Unavailable user in card on tweet 1641277062672711688\n",
      "User 14204245 not found in user refs in card on tweet 1641277062672711688\n"
     ]
    },
    {
     "name": "stdout",
     "output_type": "stream",
     "text": [
      "Data saved. Total tweets: 39600\n",
      "Data saved. Total tweets: 39700\n"
     ]
    },
    {
     "name": "stderr",
     "output_type": "stream",
     "text": [
      "Unavailable user in card on tweet 1641247851304067072\n",
      "User 14204245 not found in user refs in card on tweet 1641247851304067072\n"
     ]
    },
    {
     "name": "stdout",
     "output_type": "stream",
     "text": [
      "Data saved. Total tweets: 39800\n",
      "Data saved. Total tweets: 39900\n",
      "Data saved. Total tweets: 40000\n"
     ]
    },
    {
     "name": "stderr",
     "output_type": "stream",
     "text": [
      "Unavailable user in card on tweet 1641209721918222337\n",
      "User 14204245 not found in user refs in card on tweet 1641209721918222337\n"
     ]
    },
    {
     "name": "stdout",
     "output_type": "stream",
     "text": [
      "Data saved. Total tweets: 40100\n",
      "Data saved. Total tweets: 40200\n",
      "Data saved. Total tweets: 40300\n"
     ]
    },
    {
     "name": "stderr",
     "output_type": "stream",
     "text": [
      "Unavailable user in card on tweet 1641173273361764356\n",
      "Unavailable user in card on tweet 1641173273361764356\n",
      "User 1203690121373069312 not found in user refs in card on tweet 1641173273361764356\n",
      "User 1203690121373069312 not found in user refs in card on tweet 1641173273361764356\n",
      "Unavailable user in card on tweet 1641165372832243713\n",
      "Unavailable user in card on tweet 1641165372832243713\n",
      "User 1203690121373069312 not found in user refs in card on tweet 1641165372832243713\n",
      "User 1203690121373069312 not found in user refs in card on tweet 1641165372832243713\n",
      "Unavailable user in card on tweet 1641165365228056581\n",
      "Unavailable user in card on tweet 1641165365228056581\n",
      "User 1203690121373069312 not found in user refs in card on tweet 1641165365228056581\n",
      "User 1203690121373069312 not found in user refs in card on tweet 1641165365228056581\n"
     ]
    },
    {
     "name": "stdout",
     "output_type": "stream",
     "text": [
      "Data saved. Total tweets: 40400\n",
      "Data saved. Total tweets: 40500\n"
     ]
    },
    {
     "name": "stderr",
     "output_type": "stream",
     "text": [
      "Could not translate t.co card URL on tweet 1641142736936894471\n"
     ]
    }
   ],
   "source": [
    "# Define the file path for saving the data\n",
    "file_path = \"global warming tweets_2.csv\"\n",
    "\n",
    "# Define the condition to stop the scraping process\n",
    "max_tweets = 80000  # Stop after collecting 80000 tweets\n",
    "\n",
    "# Define the interval for saving the data\n",
    "save_interval = 100  # Save every 100 tweets\n",
    "\n",
    "# Define your query\n",
    "query2 = \"(#globalwarming OR 'global warming') lang:en -filter:retweets since:2023-03-01 until:2023-04-01\"\n",
    "\n",
    "# Call the function to scrape tweets\n",
    "tweets2 = scrape_tweets(query2)\n",
    "\n",
    "# Save the final scraped data\n",
    "save_data(tweets2)\n",
    "print(\"Data saved successfully.\")"
   ]
  },
  {
   "cell_type": "code",
   "execution_count": null,
   "id": "6060d1a2",
   "metadata": {},
   "outputs": [],
   "source": [
    "df2 = pd.read_csv(\"global warming tweets_2.csv\")"
   ]
  },
  {
   "cell_type": "code",
   "execution_count": null,
   "id": "9874a69d",
   "metadata": {},
   "outputs": [],
   "source": [
    "df2.shape"
   ]
  },
  {
   "cell_type": "code",
   "execution_count": null,
   "id": "c6269f83",
   "metadata": {},
   "outputs": [],
   "source": [
    "df2.duplicated().sum()"
   ]
  },
  {
   "cell_type": "code",
   "execution_count": null,
   "id": "cdef86d7",
   "metadata": {},
   "outputs": [],
   "source": []
  }
 ],
 "metadata": {
  "kernelspec": {
   "display_name": "Python 3 (ipykernel)",
   "language": "python",
   "name": "python3"
  },
  "language_info": {
   "codemirror_mode": {
    "name": "ipython",
    "version": 3
   },
   "file_extension": ".py",
   "mimetype": "text/x-python",
   "name": "python",
   "nbconvert_exporter": "python",
   "pygments_lexer": "ipython3",
   "version": "3.10.9"
  }
 },
 "nbformat": 4,
 "nbformat_minor": 5
}
