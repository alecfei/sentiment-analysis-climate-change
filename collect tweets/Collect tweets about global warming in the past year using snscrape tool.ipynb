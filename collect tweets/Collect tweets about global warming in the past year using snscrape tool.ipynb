{
 "cells": [
  {
   "cell_type": "markdown",
   "id": "9e3e3bd0",
   "metadata": {},
   "source": [
    "- **Install snscrape library to help collecting tweets**"
   ]
  },
  {
   "cell_type": "code",
   "execution_count": null,
   "id": "dddfa9f2",
   "metadata": {},
   "outputs": [],
   "source": [
    "#!pip3 install --upgrade git+https://github.com/JustAnotherArchivist/snscrape.git"
   ]
  },
  {
   "cell_type": "markdown",
   "id": "ac68629c",
   "metadata": {},
   "source": [
    "- **Install pymongo library to connect to mongodb and upload data into**"
   ]
  },
  {
   "cell_type": "code",
   "execution_count": 1,
   "id": "be1cd16d",
   "metadata": {},
   "outputs": [
    {
     "name": "stdout",
     "output_type": "stream",
     "text": [
      "Collecting pymongo\n",
      "  Downloading pymongo-4.3.3-cp310-cp310-manylinux_2_17_x86_64.manylinux2014_x86_64.whl (492 kB)\n",
      "\u001b[2K     \u001b[38;2;114;156;31m━━━━━━━━━━━━━━━━━━━━━━━━━━━━━━━━━━━━━━━\u001b[0m \u001b[32m492.9/492.9 kB\u001b[0m \u001b[31m2.8 MB/s\u001b[0m eta \u001b[36m0:00:00\u001b[0mm eta \u001b[36m0:00:01\u001b[0m0:01\u001b[0m:01\u001b[0m\n",
      "\u001b[?25hCollecting dnspython<3.0.0,>=1.16.0\n",
      "  Downloading dnspython-2.3.0-py3-none-any.whl (283 kB)\n",
      "\u001b[2K     \u001b[38;2;114;156;31m━━━━━━━━━━━━━━━━━━━━━━━━━━━━━━━━━━━━━━━\u001b[0m \u001b[32m283.7/283.7 kB\u001b[0m \u001b[31m1.2 MB/s\u001b[0m eta \u001b[36m0:00:00\u001b[0m[36m0:00:01\u001b[0mm eta \u001b[36m0:00:01\u001b[0m\n",
      "\u001b[?25hInstalling collected packages: dnspython, pymongo\n",
      "Successfully installed dnspython-2.3.0 pymongo-4.3.3\n"
     ]
    }
   ],
   "source": [
    "#!pip3 install pymongo"
   ]
  },
  {
   "cell_type": "code",
   "execution_count": 2,
   "id": "aedafba7",
   "metadata": {},
   "outputs": [],
   "source": [
    "# Import essential libraries\n",
    "import csv\n",
    "import time\n",
    "import snscrape.modules.twitter as sntwitter\n",
    "from pymongo import MongoClient"
   ]
  },
  {
   "cell_type": "code",
   "execution_count": null,
   "id": "d4e66885",
   "metadata": {},
   "outputs": [
    {
     "name": "stdout",
     "output_type": "stream",
     "text": [
      "Data saved. Total tweets: 100\n",
      "Data saved. Total tweets: 200\n"
     ]
    },
    {
     "name": "stderr",
     "output_type": "stream",
     "text": [
      "Unavailable user in card on tweet 1652775512702431233\n",
      "User 14204245 not found in user refs in card on tweet 1652775512702431233\n"
     ]
    },
    {
     "name": "stdout",
     "output_type": "stream",
     "text": [
      "Data saved. Total tweets: 300\n",
      "Data saved. Total tweets: 400\n",
      "Data saved. Total tweets: 500\n",
      "Data saved. Total tweets: 600\n",
      "Data saved. Total tweets: 700\n",
      "Data saved. Total tweets: 800\n",
      "Data saved. Total tweets: 900\n",
      "Data saved. Total tweets: 1000\n",
      "Data saved. Total tweets: 1100\n",
      "Data saved. Total tweets: 1200\n",
      "Data saved. Total tweets: 1300\n",
      "Data saved. Total tweets: 1400\n",
      "Data saved. Total tweets: 1500\n",
      "Data saved. Total tweets: 1600\n",
      "Data saved. Total tweets: 1700\n",
      "Data saved. Total tweets: 1800\n",
      "Data saved. Total tweets: 1900\n",
      "Data saved. Total tweets: 2000\n",
      "Data saved. Total tweets: 2100\n",
      "Data saved. Total tweets: 2200\n"
     ]
    },
    {
     "name": "stderr",
     "output_type": "stream",
     "text": [
      "Unavailable user in card on tweet 1652412394063163392\n",
      "Unavailable user in card on tweet 1652412394063163392\n",
      "User 1203690121373069312 not found in user refs in card on tweet 1652412394063163392\n",
      "User 1203690121373069312 not found in user refs in card on tweet 1652412394063163392\n"
     ]
    },
    {
     "name": "stdout",
     "output_type": "stream",
     "text": [
      "Data saved. Total tweets: 2300\n",
      "Data saved. Total tweets: 2400\n",
      "Data saved. Total tweets: 2500\n",
      "Data saved. Total tweets: 2600\n",
      "Data saved. Total tweets: 2700\n",
      "Data saved. Total tweets: 2800\n",
      "Data saved. Total tweets: 2900\n",
      "Data saved. Total tweets: 3000\n",
      "Data saved. Total tweets: 3100\n",
      "Data saved. Total tweets: 3200\n",
      "Data saved. Total tweets: 3300\n",
      "Data saved. Total tweets: 3400\n",
      "Data saved. Total tweets: 3500\n",
      "Data saved. Total tweets: 3600\n",
      "Data saved. Total tweets: 3700\n",
      "Data saved. Total tweets: 3800\n",
      "Data saved. Total tweets: 3900\n",
      "Data saved. Total tweets: 4000\n"
     ]
    },
    {
     "name": "stderr",
     "output_type": "stream",
     "text": [
      "Unavailable user in card on tweet 1652083991930089472\n",
      "User 14204245 not found in user refs in card on tweet 1652083991930089472\n"
     ]
    },
    {
     "name": "stdout",
     "output_type": "stream",
     "text": [
      "Data saved. Total tweets: 4100\n",
      "Data saved. Total tweets: 4200\n"
     ]
    },
    {
     "name": "stderr",
     "output_type": "stream",
     "text": [
      "Unavailable user in card on tweet 1652067591496581120\n",
      "User 28550209 not found in user refs in card on tweet 1652067591496581120\n"
     ]
    },
    {
     "name": "stdout",
     "output_type": "stream",
     "text": [
      "Data saved. Total tweets: 4300\n",
      "Data saved. Total tweets: 4400\n"
     ]
    },
    {
     "name": "stderr",
     "output_type": "stream",
     "text": [
      "Could not translate t.co card URL on tweet 1652036197722497042\n",
      "Unavailable user in card on tweet 1652031947697278976\n",
      "User 14204245 not found in user refs in card on tweet 1652031947697278976\n"
     ]
    },
    {
     "name": "stdout",
     "output_type": "stream",
     "text": [
      "Data saved. Total tweets: 4500\n",
      "Data saved. Total tweets: 4600\n",
      "Data saved. Total tweets: 4700\n",
      "Data saved. Total tweets: 4800\n",
      "Data saved. Total tweets: 4900\n",
      "Data saved. Total tweets: 5000\n",
      "Data saved. Total tweets: 5100\n"
     ]
    },
    {
     "name": "stderr",
     "output_type": "stream",
     "text": [
      "Could not translate t.co card URL on tweet 1651953634748317697\n"
     ]
    },
    {
     "name": "stdout",
     "output_type": "stream",
     "text": [
      "Data saved. Total tweets: 5200\n",
      "Data saved. Total tweets: 5300\n",
      "Data saved. Total tweets: 5400\n"
     ]
    },
    {
     "name": "stderr",
     "output_type": "stream",
     "text": [
      "Unavailable user in card on tweet 1651913038956511236\n",
      "User 14204245 not found in user refs in card on tweet 1651913038956511236\n"
     ]
    },
    {
     "name": "stdout",
     "output_type": "stream",
     "text": [
      "Data saved. Total tweets: 5500\n"
     ]
    },
    {
     "name": "stderr",
     "output_type": "stream",
     "text": [
      "Could not translate t.co card URL on tweet 1651898092931923970\n"
     ]
    },
    {
     "name": "stdout",
     "output_type": "stream",
     "text": [
      "Data saved. Total tweets: 5600\n",
      "Data saved. Total tweets: 5700\n",
      "Data saved. Total tweets: 5800\n",
      "Data saved. Total tweets: 5900\n"
     ]
    },
    {
     "name": "stderr",
     "output_type": "stream",
     "text": [
      "Unavailable user in card on tweet 1651805648315875328\n",
      "User 14204245 not found in user refs in card on tweet 1651805648315875328\n"
     ]
    },
    {
     "name": "stdout",
     "output_type": "stream",
     "text": [
      "Data saved. Total tweets: 6000\n",
      "Data saved. Total tweets: 6100\n",
      "Data saved. Total tweets: 6200\n",
      "Data saved. Total tweets: 6300\n",
      "Data saved. Total tweets: 6400\n",
      "Data saved. Total tweets: 6500\n",
      "Data saved. Total tweets: 6600\n"
     ]
    },
    {
     "name": "stderr",
     "output_type": "stream",
     "text": [
      "Unavailable user in card on tweet 1651685091293163557\n",
      "Unavailable user in card on tweet 1651685091293163557\n",
      "User 1203690121373069312 not found in user refs in card on tweet 1651685091293163557\n",
      "User 1203690121373069312 not found in user refs in card on tweet 1651685091293163557\n"
     ]
    },
    {
     "name": "stdout",
     "output_type": "stream",
     "text": [
      "Data saved. Total tweets: 6700\n"
     ]
    },
    {
     "name": "stderr",
     "output_type": "stream",
     "text": [
      "Unavailable user in card on tweet 1651684602983903242\n",
      "Unavailable user in card on tweet 1651684602983903242\n",
      "User 1203690121373069312 not found in user refs in card on tweet 1651684602983903242\n",
      "User 1203690121373069312 not found in user refs in card on tweet 1651684602983903242\n",
      "Unavailable user in card on tweet 1651683075670298625\n",
      "Unavailable user in card on tweet 1651683075670298625\n",
      "User 1203690121373069312 not found in user refs in card on tweet 1651683075670298625\n",
      "User 1203690121373069312 not found in user refs in card on tweet 1651683075670298625\n",
      "Unavailable user in card on tweet 1651682452648128517\n",
      "Unavailable user in card on tweet 1651682452648128517\n",
      "User 1203690121373069312 not found in user refs in card on tweet 1651682452648128517\n",
      "User 1203690121373069312 not found in user refs in card on tweet 1651682452648128517\n",
      "Unavailable user in card on tweet 1651682304656326656\n",
      "Unavailable user in card on tweet 1651682304656326656\n",
      "User 1203690121373069312 not found in user refs in card on tweet 1651682304656326656\n",
      "User 1203690121373069312 not found in user refs in card on tweet 1651682304656326656\n"
     ]
    },
    {
     "name": "stdout",
     "output_type": "stream",
     "text": [
      "Data saved. Total tweets: 6800\n"
     ]
    },
    {
     "name": "stderr",
     "output_type": "stream",
     "text": [
      "Unavailable user in card on tweet 1651670450936639497\n",
      "User 14204245 not found in user refs in card on tweet 1651670450936639497\n"
     ]
    },
    {
     "name": "stdout",
     "output_type": "stream",
     "text": [
      "Data saved. Total tweets: 6900\n",
      "Data saved. Total tweets: 7000\n",
      "Data saved. Total tweets: 7100\n",
      "Data saved. Total tweets: 7200\n"
     ]
    },
    {
     "name": "stderr",
     "output_type": "stream",
     "text": [
      "Unavailable user in card on tweet 1651629223340064770\n",
      "User 14204245 not found in user refs in card on tweet 1651629223340064770\n"
     ]
    },
    {
     "name": "stdout",
     "output_type": "stream",
     "text": [
      "Data saved. Total tweets: 7300\n",
      "Data saved. Total tweets: 7400\n",
      "Data saved. Total tweets: 7500\n",
      "Data saved. Total tweets: 7600\n",
      "Data saved. Total tweets: 7700\n"
     ]
    },
    {
     "name": "stderr",
     "output_type": "stream",
     "text": [
      "Could not translate t.co card URL on tweet 1651582815283326977\n",
      "Could not translate t.co card URL on tweet 1651582543333060608\n",
      "Could not translate t.co card URL on tweet 1651578334147670017\n",
      "Could not translate t.co card URL on tweet 1651578266585804800\n",
      "Could not translate t.co card URL on tweet 1651577846933094400\n",
      "Could not translate t.co card URL on tweet 1651577783192256514\n",
      "Could not translate t.co card URL on tweet 1651574395280986112\n",
      "Could not translate t.co card URL on tweet 1651573825019199489\n"
     ]
    },
    {
     "name": "stdout",
     "output_type": "stream",
     "text": [
      "Data saved. Total tweets: 7800\n"
     ]
    },
    {
     "name": "stderr",
     "output_type": "stream",
     "text": [
      "Could not translate t.co card URL on tweet 1651572725490806784\n",
      "Could not translate t.co card URL on tweet 1651571289763749888\n",
      "Could not translate t.co card URL on tweet 1651569984886411264\n",
      "Could not translate t.co card URL on tweet 1651569743630045184\n",
      "Could not translate t.co card URL on tweet 1651569176782450688\n",
      "Could not translate t.co card URL on tweet 1651569125947498497\n",
      "Could not translate t.co card URL on tweet 1651568052553789440\n",
      "Could not translate t.co card URL on tweet 1651568001496518657\n"
     ]
    },
    {
     "name": "stdout",
     "output_type": "stream",
     "text": [
      "Data saved. Total tweets: 7900\n",
      "Data saved. Total tweets: 8000\n",
      "Data saved. Total tweets: 8100\n",
      "Data saved. Total tweets: 8200\n",
      "Data saved. Total tweets: 8300\n",
      "Data saved. Total tweets: 8400\n",
      "Data saved. Total tweets: 8500\n",
      "Data saved. Total tweets: 8600\n",
      "Data saved. Total tweets: 8700\n",
      "Data saved. Total tweets: 8800\n",
      "Data saved. Total tweets: 8900\n",
      "Data saved. Total tweets: 9000\n",
      "Data saved. Total tweets: 9100\n",
      "Data saved. Total tweets: 9200\n",
      "Data saved. Total tweets: 9300\n",
      "Data saved. Total tweets: 9400\n",
      "Data saved. Total tweets: 9500\n",
      "Data saved. Total tweets: 9600\n",
      "Data saved. Total tweets: 9700\n",
      "Data saved. Total tweets: 9800\n",
      "Data saved. Total tweets: 9900\n",
      "Data saved. Total tweets: 10000\n",
      "Data saved. Total tweets: 10100\n",
      "Data saved. Total tweets: 10200\n",
      "Data saved. Total tweets: 10300\n",
      "Data saved. Total tweets: 10400\n",
      "Data saved. Total tweets: 10500\n",
      "Data saved. Total tweets: 10600\n"
     ]
    },
    {
     "name": "stderr",
     "output_type": "stream",
     "text": [
      "Could not translate t.co card URL on tweet 1651203395854938112\n"
     ]
    },
    {
     "name": "stdout",
     "output_type": "stream",
     "text": [
      "Data saved. Total tweets: 10700\n",
      "Data saved. Total tweets: 10800\n",
      "Data saved. Total tweets: 10900\n",
      "Data saved. Total tweets: 11000\n",
      "Data saved. Total tweets: 11100\n",
      "Data saved. Total tweets: 11200\n",
      "Data saved. Total tweets: 11300\n",
      "Data saved. Total tweets: 11400\n",
      "Data saved. Total tweets: 11500\n",
      "Data saved. Total tweets: 11600\n",
      "Data saved. Total tweets: 11700\n",
      "Data saved. Total tweets: 11800\n",
      "Data saved. Total tweets: 11900\n",
      "Data saved. Total tweets: 12000\n",
      "Data saved. Total tweets: 12100\n",
      "Data saved. Total tweets: 12200\n",
      "Data saved. Total tweets: 12300\n",
      "Data saved. Total tweets: 12400\n",
      "Data saved. Total tweets: 12500\n",
      "Data saved. Total tweets: 12600\n",
      "Data saved. Total tweets: 12700\n",
      "Data saved. Total tweets: 12800\n",
      "Data saved. Total tweets: 12900\n",
      "Data saved. Total tweets: 13000\n",
      "Data saved. Total tweets: 13100\n",
      "Data saved. Total tweets: 13200\n",
      "Data saved. Total tweets: 13300\n",
      "Data saved. Total tweets: 13400\n",
      "Data saved. Total tweets: 13500\n",
      "Data saved. Total tweets: 13600\n",
      "Data saved. Total tweets: 13700\n",
      "Data saved. Total tweets: 13800\n",
      "Data saved. Total tweets: 13900\n",
      "Data saved. Total tweets: 14000\n",
      "Data saved. Total tweets: 14100\n",
      "Data saved. Total tweets: 14200\n"
     ]
    },
    {
     "name": "stderr",
     "output_type": "stream",
     "text": [
      "Could not translate t.co card URL on tweet 1650639140285997057\n"
     ]
    },
    {
     "name": "stdout",
     "output_type": "stream",
     "text": [
      "Data saved. Total tweets: 14300\n",
      "Data saved. Total tweets: 14400\n"
     ]
    },
    {
     "name": "stderr",
     "output_type": "stream",
     "text": [
      "Could not translate t.co card URL on tweet 1650615987341864965\n"
     ]
    },
    {
     "name": "stdout",
     "output_type": "stream",
     "text": [
      "Data saved. Total tweets: 14500\n",
      "Data saved. Total tweets: 14600\n",
      "Data saved. Total tweets: 14700\n",
      "Data saved. Total tweets: 14800\n",
      "Data saved. Total tweets: 14900\n",
      "Data saved. Total tweets: 15000\n",
      "Data saved. Total tweets: 15100\n",
      "Data saved. Total tweets: 15200\n",
      "Data saved. Total tweets: 15300\n",
      "Data saved. Total tweets: 15400\n",
      "Data saved. Total tweets: 15500\n",
      "Data saved. Total tweets: 15600\n",
      "Data saved. Total tweets: 15700\n",
      "Data saved. Total tweets: 15800\n",
      "Data saved. Total tweets: 15900\n",
      "Data saved. Total tweets: 16000\n",
      "Data saved. Total tweets: 16100\n",
      "Data saved. Total tweets: 16200\n",
      "Data saved. Total tweets: 16300\n",
      "Data saved. Total tweets: 16400\n",
      "Data saved. Total tweets: 16500\n",
      "Data saved. Total tweets: 16600\n",
      "Data saved. Total tweets: 16700\n",
      "Data saved. Total tweets: 16800\n",
      "Data saved. Total tweets: 16900\n",
      "Data saved. Total tweets: 17000\n",
      "Data saved. Total tweets: 17100\n",
      "Data saved. Total tweets: 17200\n",
      "Data saved. Total tweets: 17300\n",
      "Data saved. Total tweets: 17400\n",
      "Data saved. Total tweets: 17500\n",
      "Data saved. Total tweets: 17600\n",
      "Data saved. Total tweets: 17700\n",
      "Data saved. Total tweets: 17800\n",
      "Data saved. Total tweets: 17900\n",
      "Data saved. Total tweets: 18000\n",
      "Data saved. Total tweets: 18100\n",
      "Data saved. Total tweets: 18200\n",
      "Data saved. Total tweets: 18300\n",
      "Data saved. Total tweets: 18400\n",
      "Data saved. Total tweets: 18500\n",
      "Data saved. Total tweets: 18600\n",
      "Data saved. Total tweets: 18700\n",
      "Data saved. Total tweets: 18800\n",
      "Data saved. Total tweets: 18900\n",
      "Data saved. Total tweets: 19000\n",
      "Data saved. Total tweets: 19100\n"
     ]
    },
    {
     "name": "stderr",
     "output_type": "stream",
     "text": [
      "Unavailable user in card on tweet 1650056594510544896\n",
      "Unavailable user in card on tweet 1650056594510544896\n",
      "User 41566187 not found in user refs in card on tweet 1650056594510544896\n",
      "User 41566187 not found in user refs in card on tweet 1650056594510544896\n"
     ]
    },
    {
     "name": "stdout",
     "output_type": "stream",
     "text": [
      "Data saved. Total tweets: 19200\n",
      "Data saved. Total tweets: 19300\n",
      "Data saved. Total tweets: 19400\n",
      "Data saved. Total tweets: 19500\n",
      "Data saved. Total tweets: 19600\n"
     ]
    },
    {
     "name": "stderr",
     "output_type": "stream",
     "text": [
      "Unavailable user in card on tweet 1649989822654603266\n",
      "Unavailable user in card on tweet 1649989822654603266\n",
      "User 15843059 not found in user refs in card on tweet 1649989822654603266\n",
      "User 15843059 not found in user refs in card on tweet 1649989822654603266\n"
     ]
    },
    {
     "name": "stdout",
     "output_type": "stream",
     "text": [
      "Data saved. Total tweets: 19700\n",
      "Data saved. Total tweets: 19800\n",
      "Data saved. Total tweets: 19900\n",
      "Data saved. Total tweets: 20000\n",
      "Data saved. Total tweets: 20100\n",
      "Data saved. Total tweets: 20200\n",
      "Data saved. Total tweets: 20300\n",
      "Data saved. Total tweets: 20400\n",
      "Data saved. Total tweets: 20500\n"
     ]
    },
    {
     "name": "stderr",
     "output_type": "stream",
     "text": [
      "Could not translate t.co card URL on tweet 1649895667765063682\n"
     ]
    },
    {
     "name": "stdout",
     "output_type": "stream",
     "text": [
      "Data saved. Total tweets: 20600\n",
      "Data saved. Total tweets: 20700\n",
      "Data saved. Total tweets: 20800\n"
     ]
    },
    {
     "name": "stderr",
     "output_type": "stream",
     "text": [
      "Could not translate t.co card URL on tweet 1649868199410671617\n",
      "Unavailable user in card on tweet 1649861599442657280\n",
      "Unavailable user in card on tweet 1649861599442657280\n",
      "User 1203690121373069312 not found in user refs in card on tweet 1649861599442657280\n",
      "User 1203690121373069312 not found in user refs in card on tweet 1649861599442657280\n"
     ]
    },
    {
     "name": "stdout",
     "output_type": "stream",
     "text": [
      "Data saved. Total tweets: 20900\n"
     ]
    },
    {
     "name": "stderr",
     "output_type": "stream",
     "text": [
      "Unavailable user in card on tweet 1649854419985391618\n",
      "Unavailable user in card on tweet 1649854419985391618\n",
      "User 1203690121373069312 not found in user refs in card on tweet 1649854419985391618\n",
      "User 1203690121373069312 not found in user refs in card on tweet 1649854419985391618\n"
     ]
    },
    {
     "name": "stdout",
     "output_type": "stream",
     "text": [
      "Data saved. Total tweets: 21000\n",
      "Data saved. Total tweets: 21100\n",
      "Data saved. Total tweets: 21200\n",
      "Data saved. Total tweets: 21300\n",
      "Data saved. Total tweets: 21400\n",
      "Data saved. Total tweets: 21500\n",
      "Data saved. Total tweets: 21600\n"
     ]
    },
    {
     "name": "stderr",
     "output_type": "stream",
     "text": [
      "Unavailable user in card on tweet 1649804709815787523\n",
      "Unavailable user in card on tweet 1649804709815787523\n",
      "User 15843059 not found in user refs in card on tweet 1649804709815787523\n",
      "User 15843059 not found in user refs in card on tweet 1649804709815787523\n"
     ]
    },
    {
     "name": "stdout",
     "output_type": "stream",
     "text": [
      "Data saved. Total tweets: 21700\n",
      "Data saved. Total tweets: 21800\n"
     ]
    },
    {
     "name": "stderr",
     "output_type": "stream",
     "text": [
      "Could not translate t.co card URL on tweet 1649798274629488640\n"
     ]
    },
    {
     "name": "stdout",
     "output_type": "stream",
     "text": [
      "Data saved. Total tweets: 21900\n"
     ]
    },
    {
     "name": "stderr",
     "output_type": "stream",
     "text": [
      "Could not translate t.co card URL on tweet 1649790864762482690\n"
     ]
    },
    {
     "name": "stdout",
     "output_type": "stream",
     "text": [
      "Data saved. Total tweets: 22000\n",
      "Data saved. Total tweets: 22100\n",
      "Data saved. Total tweets: 22200\n",
      "Data saved. Total tweets: 22300\n",
      "Data saved. Total tweets: 22400\n",
      "Data saved. Total tweets: 22500\n",
      "Data saved. Total tweets: 22600\n",
      "Data saved. Total tweets: 22700\n",
      "Data saved. Total tweets: 22800\n",
      "Data saved. Total tweets: 22900\n",
      "Data saved. Total tweets: 23000\n",
      "Data saved. Total tweets: 23100\n",
      "Data saved. Total tweets: 23200\n",
      "Data saved. Total tweets: 23300\n",
      "Data saved. Total tweets: 23400\n",
      "Data saved. Total tweets: 23500\n",
      "Data saved. Total tweets: 23600\n",
      "Data saved. Total tweets: 23700\n",
      "Data saved. Total tweets: 23800\n",
      "Data saved. Total tweets: 23900\n",
      "Data saved. Total tweets: 24000\n"
     ]
    },
    {
     "name": "stderr",
     "output_type": "stream",
     "text": [
      "Could not translate t.co card URL on tweet 1649522548831395841\n"
     ]
    },
    {
     "name": "stdout",
     "output_type": "stream",
     "text": [
      "Data saved. Total tweets: 24100\n",
      "Data saved. Total tweets: 24200\n"
     ]
    },
    {
     "name": "stderr",
     "output_type": "stream",
     "text": [
      "Unavailable user in card on tweet 1649494142706241547\n",
      "Unavailable user in card on tweet 1649494142706241547\n",
      "User 1203690121373069312 not found in user refs in card on tweet 1649494142706241547\n",
      "User 1203690121373069312 not found in user refs in card on tweet 1649494142706241547\n"
     ]
    },
    {
     "name": "stdout",
     "output_type": "stream",
     "text": [
      "Data saved. Total tweets: 24300\n",
      "Data saved. Total tweets: 24400\n",
      "Data saved. Total tweets: 24500\n",
      "Data saved. Total tweets: 24600\n"
     ]
    },
    {
     "name": "stderr",
     "output_type": "stream",
     "text": [
      "Unavailable user in card on tweet 1649447576352030723\n",
      "Unavailable user in card on tweet 1649447576352030723\n",
      "User 15843059 not found in user refs in card on tweet 1649447576352030723\n",
      "User 15843059 not found in user refs in card on tweet 1649447576352030723\n"
     ]
    },
    {
     "name": "stdout",
     "output_type": "stream",
     "text": [
      "Data saved. Total tweets: 24700\n"
     ]
    },
    {
     "name": "stderr",
     "output_type": "stream",
     "text": [
      "Unavailable user in card on tweet 1649440654437515264\n",
      "User 1580286049057742858 not found in user refs in card on tweet 1649440654437515264\n"
     ]
    },
    {
     "name": "stdout",
     "output_type": "stream",
     "text": [
      "Data saved. Total tweets: 24800\n"
     ]
    },
    {
     "name": "stderr",
     "output_type": "stream",
     "text": [
      "Could not translate t.co card URL on tweet 1649426902723993608\n"
     ]
    },
    {
     "name": "stdout",
     "output_type": "stream",
     "text": [
      "Data saved. Total tweets: 24900\n",
      "Data saved. Total tweets: 25000\n",
      "Data saved. Total tweets: 25100\n",
      "Data saved. Total tweets: 25200\n",
      "Data saved. Total tweets: 25300\n",
      "Data saved. Total tweets: 25400\n",
      "Data saved. Total tweets: 25500\n",
      "Data saved. Total tweets: 25600\n",
      "Data saved. Total tweets: 25700\n",
      "Data saved. Total tweets: 25800\n"
     ]
    },
    {
     "name": "stderr",
     "output_type": "stream",
     "text": [
      "Unavailable user in card on tweet 1649295986118864898\n",
      "Unavailable user in card on tweet 1649295986118864898\n",
      "User 1203690121373069312 not found in user refs in card on tweet 1649295986118864898\n",
      "User 1203690121373069312 not found in user refs in card on tweet 1649295986118864898\n"
     ]
    },
    {
     "name": "stdout",
     "output_type": "stream",
     "text": [
      "Data saved. Total tweets: 25900\n",
      "Data saved. Total tweets: 26000\n",
      "Data saved. Total tweets: 26100\n",
      "Data saved. Total tweets: 26200\n",
      "Data saved. Total tweets: 26300\n",
      "Data saved. Total tweets: 26400\n",
      "Data saved. Total tweets: 26500\n",
      "Data saved. Total tweets: 26600\n"
     ]
    },
    {
     "name": "stderr",
     "output_type": "stream",
     "text": [
      "Tweet 1623649048522809344 contains an app icon medium key '4_1658728258936946695' on app 'android_app'/'com.zzkko', but the corresponding medium is missing; dropping\n",
      "Tweet 1623649048522809344 contains an app icon medium key '4_1658675695365545984' on app 'iphone_app'/'878577184', but the corresponding medium is missing; dropping\n",
      "Tweet 1623649048522809344 contains an app icon medium key '4_1658675695365545984' on app 'ipad_app'/'878577184', but the corresponding medium is missing; dropping\n"
     ]
    },
    {
     "name": "stdout",
     "output_type": "stream",
     "text": [
      "Data saved. Total tweets: 26700\n",
      "Data saved. Total tweets: 26800\n",
      "Data saved. Total tweets: 26900\n",
      "Data saved. Total tweets: 27000\n",
      "Data saved. Total tweets: 27100\n",
      "Data saved. Total tweets: 27200\n",
      "Data saved. Total tweets: 27300\n",
      "Data saved. Total tweets: 27400\n",
      "Data saved. Total tweets: 27500\n"
     ]
    },
    {
     "name": "stderr",
     "output_type": "stream",
     "text": [
      "Could not translate t.co card URL on tweet 1649096823200698372\n"
     ]
    },
    {
     "name": "stdout",
     "output_type": "stream",
     "text": [
      "Data saved. Total tweets: 27600\n",
      "Data saved. Total tweets: 27700\n",
      "Data saved. Total tweets: 27800\n",
      "Data saved. Total tweets: 27900\n"
     ]
    },
    {
     "name": "stderr",
     "output_type": "stream",
     "text": [
      "Could not translate t.co card URL on tweet 1649068095993171969\n"
     ]
    },
    {
     "name": "stdout",
     "output_type": "stream",
     "text": [
      "Data saved. Total tweets: 28000\n",
      "Data saved. Total tweets: 28100\n",
      "Data saved. Total tweets: 28200\n"
     ]
    },
    {
     "name": "stderr",
     "output_type": "stream",
     "text": [
      "Could not translate t.co card URL on tweet 1649041994709082113\n"
     ]
    },
    {
     "name": "stdout",
     "output_type": "stream",
     "text": [
      "Data saved. Total tweets: 28300\n",
      "Data saved. Total tweets: 28400\n",
      "Data saved. Total tweets: 28500\n",
      "Data saved. Total tweets: 28600\n",
      "Data saved. Total tweets: 28700\n",
      "Data saved. Total tweets: 28800\n"
     ]
    },
    {
     "name": "stderr",
     "output_type": "stream",
     "text": [
      "Could not translate t.co card URL on tweet 1648756867500236816\n"
     ]
    },
    {
     "name": "stdout",
     "output_type": "stream",
     "text": [
      "Data saved. Total tweets: 28900\n",
      "Data saved. Total tweets: 29000\n",
      "Data saved. Total tweets: 29100\n",
      "Data saved. Total tweets: 29200\n",
      "Data saved. Total tweets: 29300\n",
      "Data saved. Total tweets: 29400\n",
      "Data saved. Total tweets: 29500\n",
      "Data saved. Total tweets: 29600\n",
      "Data saved. Total tweets: 29700\n",
      "Data saved. Total tweets: 29800\n",
      "Data saved. Total tweets: 29900\n",
      "Data saved. Total tweets: 30000\n",
      "Data saved. Total tweets: 30100\n",
      "Data saved. Total tweets: 30200\n",
      "Data saved. Total tweets: 30300\n",
      "Data saved. Total tweets: 30400\n"
     ]
    },
    {
     "name": "stderr",
     "output_type": "stream",
     "text": [
      "Unavailable user in card on tweet 1648482445472444416\n",
      "Unavailable user in card on tweet 1648482445472444416\n",
      "User 1062915983294300160 not found in user refs in card on tweet 1648482445472444416\n",
      "User 1062915983294300160 not found in user refs in card on tweet 1648482445472444416\n"
     ]
    },
    {
     "name": "stdout",
     "output_type": "stream",
     "text": [
      "Data saved. Total tweets: 30500\n",
      "Data saved. Total tweets: 30600\n",
      "Data saved. Total tweets: 30700\n",
      "Data saved. Total tweets: 30800\n",
      "Data saved. Total tweets: 30900\n"
     ]
    },
    {
     "name": "stderr",
     "output_type": "stream",
     "text": [
      "Could not translate t.co card URL on tweet 1648610434289745922\n"
     ]
    },
    {
     "name": "stdout",
     "output_type": "stream",
     "text": [
      "Data saved. Total tweets: 31000\n",
      "Data saved. Total tweets: 31100\n",
      "Data saved. Total tweets: 31200\n",
      "Data saved. Total tweets: 31300\n",
      "Data saved. Total tweets: 31400\n",
      "Data saved. Total tweets: 31500\n",
      "Data saved. Total tweets: 31600\n",
      "Data saved. Total tweets: 31700\n",
      "Data saved. Total tweets: 31800\n",
      "Data saved. Total tweets: 31900\n",
      "Data saved. Total tweets: 32000\n"
     ]
    },
    {
     "name": "stderr",
     "output_type": "stream",
     "text": [
      "Could not translate t.co card URL on tweet 1648665208607391744\n"
     ]
    },
    {
     "name": "stdout",
     "output_type": "stream",
     "text": [
      "Data saved. Total tweets: 32100\n",
      "Data saved. Total tweets: 32200\n",
      "Data saved. Total tweets: 32300\n"
     ]
    },
    {
     "name": "stderr",
     "output_type": "stream",
     "text": [
      "Could not translate t.co card URL on tweet 1648610434289745922\n"
     ]
    },
    {
     "name": "stdout",
     "output_type": "stream",
     "text": [
      "Data saved. Total tweets: 32400\n",
      "Data saved. Total tweets: 32500\n",
      "Data saved. Total tweets: 32600\n",
      "Data saved. Total tweets: 32700\n"
     ]
    },
    {
     "name": "stderr",
     "output_type": "stream",
     "text": [
      "Unavailable user in card on tweet 1648514804922068993\n",
      "User 14204245 not found in user refs in card on tweet 1648514804922068993\n"
     ]
    },
    {
     "name": "stdout",
     "output_type": "stream",
     "text": [
      "Data saved. Total tweets: 32800\n",
      "Data saved. Total tweets: 32900\n",
      "Data saved. Total tweets: 33000\n",
      "Data saved. Total tweets: 33100\n",
      "Data saved. Total tweets: 33200\n",
      "Data saved. Total tweets: 33300\n",
      "Data saved. Total tweets: 33400\n",
      "Data saved. Total tweets: 33500\n",
      "Data saved. Total tweets: 33600\n"
     ]
    },
    {
     "name": "stderr",
     "output_type": "stream",
     "text": [
      "Could not translate t.co card URL on tweet 1648342694505361408\n"
     ]
    },
    {
     "name": "stdout",
     "output_type": "stream",
     "text": [
      "Data saved. Total tweets: 33700\n",
      "Data saved. Total tweets: 33800\n"
     ]
    },
    {
     "name": "stderr",
     "output_type": "stream",
     "text": [
      "Unavailable user in card on tweet 1648364791763804162\n",
      "User 14204245 not found in user refs in card on tweet 1648364791763804162\n"
     ]
    },
    {
     "name": "stdout",
     "output_type": "stream",
     "text": [
      "Data saved. Total tweets: 33900\n",
      "Data saved. Total tweets: 34000\n"
     ]
    },
    {
     "name": "stderr",
     "output_type": "stream",
     "text": [
      "Could not translate t.co card URL on tweet 1648342694505361408\n"
     ]
    },
    {
     "name": "stdout",
     "output_type": "stream",
     "text": [
      "Data saved. Total tweets: 34100\n",
      "Data saved. Total tweets: 34200\n"
     ]
    },
    {
     "name": "stderr",
     "output_type": "stream",
     "text": [
      "Unavailable user in card on tweet 1648326176358662148\n",
      "User 14204245 not found in user refs in card on tweet 1648326176358662148\n"
     ]
    },
    {
     "name": "stdout",
     "output_type": "stream",
     "text": [
      "Data saved. Total tweets: 34300\n",
      "Data saved. Total tweets: 34400\n"
     ]
    },
    {
     "name": "stderr",
     "output_type": "stream",
     "text": [
      "Could not translate t.co card URL on tweet 1648304510375436289\n"
     ]
    },
    {
     "name": "stdout",
     "output_type": "stream",
     "text": [
      "Data saved. Total tweets: 34500\n"
     ]
    },
    {
     "name": "stderr",
     "output_type": "stream",
     "text": [
      "Unavailable user in card on tweet 1648290815419068416\n",
      "User 14204245 not found in user refs in card on tweet 1648290815419068416\n"
     ]
    },
    {
     "name": "stdout",
     "output_type": "stream",
     "text": [
      "Data saved. Total tweets: 34600\n",
      "Data saved. Total tweets: 34700\n",
      "Data saved. Total tweets: 34800\n",
      "Data saved. Total tweets: 34900\n",
      "Data saved. Total tweets: 35000\n",
      "Data saved. Total tweets: 35100\n",
      "Data saved. Total tweets: 35200\n",
      "Data saved. Total tweets: 35300\n",
      "Data saved. Total tweets: 35400\n",
      "Data saved. Total tweets: 35500\n",
      "Data saved. Total tweets: 35600\n",
      "Data saved. Total tweets: 35700\n",
      "Data saved. Total tweets: 35800\n",
      "Data saved. Total tweets: 35900\n"
     ]
    },
    {
     "name": "stderr",
     "output_type": "stream",
     "text": [
      "Unavailable user in card on tweet 1648065288481525761\n",
      "Unavailable user in card on tweet 1648065288481525761\n",
      "User 1203690121373069312 not found in user refs in card on tweet 1648065288481525761\n",
      "User 1203690121373069312 not found in user refs in card on tweet 1648065288481525761\n"
     ]
    },
    {
     "name": "stdout",
     "output_type": "stream",
     "text": [
      "Data saved. Total tweets: 36000\n",
      "Data saved. Total tweets: 36100\n"
     ]
    },
    {
     "name": "stderr",
     "output_type": "stream",
     "text": [
      "Unavailable user in card on tweet 1648049074426503169\n",
      "User 14204245 not found in user refs in card on tweet 1648049074426503169\n",
      "Unavailable user in card on tweet 1648047696689737729\n",
      "Unavailable user in card on tweet 1648047696689737729\n",
      "User 1203690121373069312 not found in user refs in card on tweet 1648047696689737729\n",
      "User 1203690121373069312 not found in user refs in card on tweet 1648047696689737729\n",
      "Unavailable user in card on tweet 1648046897406398473\n",
      "Unavailable user in card on tweet 1648046897406398473\n",
      "User 1203690121373069312 not found in user refs in card on tweet 1648046897406398473\n",
      "User 1203690121373069312 not found in user refs in card on tweet 1648046897406398473\n"
     ]
    },
    {
     "name": "stdout",
     "output_type": "stream",
     "text": [
      "Data saved. Total tweets: 36200\n",
      "Data saved. Total tweets: 36300\n",
      "Data saved. Total tweets: 36400\n",
      "Data saved. Total tweets: 36500\n",
      "Data saved. Total tweets: 36600\n"
     ]
    },
    {
     "name": "stderr",
     "output_type": "stream",
     "text": [
      "Could not translate t.co card URL on tweet 1647988319920476160\n"
     ]
    },
    {
     "name": "stdout",
     "output_type": "stream",
     "text": [
      "Data saved. Total tweets: 36700\n",
      "Data saved. Total tweets: 36800\n",
      "Data saved. Total tweets: 36900\n",
      "Data saved. Total tweets: 37000\n",
      "Data saved. Total tweets: 37100\n",
      "Data saved. Total tweets: 37200\n",
      "Data saved. Total tweets: 37300\n",
      "Data saved. Total tweets: 37400\n",
      "Data saved. Total tweets: 37500\n",
      "Data saved. Total tweets: 37600\n",
      "Data saved. Total tweets: 37700\n",
      "Data saved. Total tweets: 37800\n",
      "Data saved. Total tweets: 37900\n",
      "Data saved. Total tweets: 38000\n",
      "Data saved. Total tweets: 38100\n",
      "Data saved. Total tweets: 38200\n",
      "Data saved. Total tweets: 38300\n",
      "Data saved. Total tweets: 38400\n",
      "Data saved. Total tweets: 38500\n"
     ]
    },
    {
     "name": "stderr",
     "output_type": "stream",
     "text": [
      "Unavailable user in card on tweet 1647708901633130496\n",
      "User 14204245 not found in user refs in card on tweet 1647708901633130496\n"
     ]
    },
    {
     "name": "stdout",
     "output_type": "stream",
     "text": [
      "Data saved. Total tweets: 38600\n",
      "Data saved. Total tweets: 38700\n"
     ]
    },
    {
     "name": "stderr",
     "output_type": "stream",
     "text": [
      "Unavailable user in card on tweet 1647687716740517888\n",
      "Unavailable user in card on tweet 1647687716740517888\n",
      "User 1203690121373069312 not found in user refs in card on tweet 1647687716740517888\n",
      "User 1203690121373069312 not found in user refs in card on tweet 1647687716740517888\n",
      "Unavailable user in card on tweet 1647686992317038592\n",
      "Unavailable user in card on tweet 1647686992317038592\n",
      "User 1203690121373069312 not found in user refs in card on tweet 1647686992317038592\n",
      "User 1203690121373069312 not found in user refs in card on tweet 1647686992317038592\n",
      "Unavailable user in card on tweet 1647686958125031424\n",
      "Unavailable user in card on tweet 1647686958125031424\n",
      "User 1203690121373069312 not found in user refs in card on tweet 1647686958125031424\n",
      "User 1203690121373069312 not found in user refs in card on tweet 1647686958125031424\n",
      "Unavailable user in card on tweet 1647685526277746693\n",
      "Unavailable user in card on tweet 1647685526277746693\n",
      "User 1203690121373069312 not found in user refs in card on tweet 1647685526277746693\n",
      "User 1203690121373069312 not found in user refs in card on tweet 1647685526277746693\n",
      "Unavailable user in card on tweet 1647684633989971970\n",
      "Unavailable user in card on tweet 1647684633989971970\n",
      "User 1203690121373069312 not found in user refs in card on tweet 1647684633989971970\n",
      "User 1203690121373069312 not found in user refs in card on tweet 1647684633989971970\n"
     ]
    },
    {
     "name": "stdout",
     "output_type": "stream",
     "text": [
      "Data saved. Total tweets: 38800\n",
      "Data saved. Total tweets: 38900\n"
     ]
    },
    {
     "name": "stderr",
     "output_type": "stream",
     "text": [
      "Unavailable user in card on tweet 1647602135570305026\n",
      "Unavailable user in card on tweet 1647602135570305026\n",
      "User 1062915983294300160 not found in user refs in card on tweet 1647602135570305026\n",
      "User 1062915983294300160 not found in user refs in card on tweet 1647602135570305026\n"
     ]
    },
    {
     "name": "stdout",
     "output_type": "stream",
     "text": [
      "Data saved. Total tweets: 39000\n"
     ]
    },
    {
     "name": "stderr",
     "output_type": "stream",
     "text": [
      "Could not translate t.co card URL on tweet 1647652756939853828\n"
     ]
    },
    {
     "name": "stdout",
     "output_type": "stream",
     "text": [
      "Data saved. Total tweets: 39100\n",
      "Data saved. Total tweets: 39200\n",
      "Data saved. Total tweets: 39300\n",
      "Data saved. Total tweets: 39400\n",
      "Data saved. Total tweets: 39500\n",
      "Data saved. Total tweets: 39600\n",
      "Data saved. Total tweets: 39700\n",
      "Data saved. Total tweets: 39800\n",
      "Data saved. Total tweets: 39900\n"
     ]
    },
    {
     "name": "stderr",
     "output_type": "stream",
     "text": [
      "Could not translate t.co card URL on tweet 1647534217377591296\n"
     ]
    },
    {
     "name": "stdout",
     "output_type": "stream",
     "text": [
      "Data saved. Total tweets: 40000\n",
      "Data saved. Total tweets: 40100\n",
      "Data saved. Total tweets: 40200\n",
      "Data saved. Total tweets: 40300\n",
      "Data saved. Total tweets: 40400\n",
      "Data saved. Total tweets: 40500\n",
      "Data saved. Total tweets: 40600\n",
      "Data saved. Total tweets: 40700\n",
      "Data saved. Total tweets: 40800\n"
     ]
    },
    {
     "name": "stderr",
     "output_type": "stream",
     "text": [
      "Unavailable user in card on tweet 1647349404595277825\n",
      "Unavailable user in card on tweet 1647349404595277825\n",
      "User 1062915983294300160 not found in user refs in card on tweet 1647349404595277825\n",
      "User 1062915983294300160 not found in user refs in card on tweet 1647349404595277825\n"
     ]
    },
    {
     "name": "stdout",
     "output_type": "stream",
     "text": [
      "Data saved. Total tweets: 40900\n",
      "Data saved. Total tweets: 41000\n"
     ]
    },
    {
     "name": "stderr",
     "output_type": "stream",
     "text": [
      "Unavailable user in card on tweet 1647326924048576517\n",
      "Unavailable user in card on tweet 1647326924048576517\n",
      "User 1203690121373069312 not found in user refs in card on tweet 1647326924048576517\n",
      "User 1203690121373069312 not found in user refs in card on tweet 1647326924048576517\n"
     ]
    },
    {
     "name": "stdout",
     "output_type": "stream",
     "text": [
      "Data saved. Total tweets: 41100\n",
      "Data saved. Total tweets: 41200\n",
      "Data saved. Total tweets: 41300\n",
      "Data saved. Total tweets: 41400\n",
      "Data saved. Total tweets: 41500\n",
      "Data saved. Total tweets: 41600\n",
      "Data saved. Total tweets: 41700\n",
      "Data saved. Total tweets: 41800\n",
      "Data saved. Total tweets: 41900\n",
      "Data saved. Total tweets: 42000\n",
      "Data saved. Total tweets: 42100\n",
      "Data saved. Total tweets: 42200\n"
     ]
    },
    {
     "name": "stderr",
     "output_type": "stream",
     "text": [
      "Unavailable user in card on tweet 1647157737388920833\n",
      "Unavailable user in card on tweet 1647157737388920833\n",
      "User 1203690121373069312 not found in user refs in card on tweet 1647157737388920833\n",
      "User 1203690121373069312 not found in user refs in card on tweet 1647157737388920833\n",
      "Unavailable user in card on tweet 1647157370945163265\n",
      "Unavailable user in card on tweet 1647157370945163265\n",
      "User 1203690121373069312 not found in user refs in card on tweet 1647157370945163265\n",
      "User 1203690121373069312 not found in user refs in card on tweet 1647157370945163265\n"
     ]
    },
    {
     "name": "stdout",
     "output_type": "stream",
     "text": [
      "Data saved. Total tweets: 42300\n",
      "Data saved. Total tweets: 42400\n"
     ]
    },
    {
     "name": "stderr",
     "output_type": "stream",
     "text": [
      "Unavailable user in card on tweet 1647096947377946629\n",
      "User 592110789 not found in user refs in card on tweet 1647096947377946629\n"
     ]
    },
    {
     "name": "stdout",
     "output_type": "stream",
     "text": [
      "Data saved. Total tweets: 42500\n",
      "Data saved. Total tweets: 42600\n",
      "Data saved. Total tweets: 42700\n",
      "Data saved. Total tweets: 42800\n",
      "Data saved. Total tweets: 42900\n",
      "Data saved. Total tweets: 43000\n",
      "Data saved. Total tweets: 43100\n",
      "Data saved. Total tweets: 43200\n"
     ]
    },
    {
     "name": "stderr",
     "output_type": "stream",
     "text": [
      "Unavailable user in card on tweet 1646978269365911554\n",
      "Unavailable user in card on tweet 1646978269365911554\n",
      "User 1203690121373069312 not found in user refs in card on tweet 1646978269365911554\n",
      "User 1203690121373069312 not found in user refs in card on tweet 1646978269365911554\n"
     ]
    },
    {
     "name": "stdout",
     "output_type": "stream",
     "text": [
      "Data saved. Total tweets: 43300\n",
      "Data saved. Total tweets: 43400\n"
     ]
    },
    {
     "name": "stderr",
     "output_type": "stream",
     "text": [
      "Unavailable user in card on tweet 1646936703058448385\n",
      "Unavailable user in card on tweet 1646936703058448385\n",
      "User 41566187 not found in user refs in card on tweet 1646936703058448385\n",
      "User 41566187 not found in user refs in card on tweet 1646936703058448385\n",
      "Unavailable user in card on tweet 1646936703058448385\n",
      "Unavailable user in card on tweet 1646936703058448385\n",
      "User 41566187 not found in user refs in card on tweet 1646936703058448385\n",
      "User 41566187 not found in user refs in card on tweet 1646936703058448385\n"
     ]
    },
    {
     "name": "stdout",
     "output_type": "stream",
     "text": [
      "Data saved. Total tweets: 43500\n",
      "Data saved. Total tweets: 43600\n",
      "Data saved. Total tweets: 43700\n",
      "Data saved. Total tweets: 43800\n",
      "Data saved. Total tweets: 43900\n",
      "Data saved. Total tweets: 44000\n",
      "Data saved. Total tweets: 44100\n",
      "Data saved. Total tweets: 44200\n",
      "Data saved. Total tweets: 44300\n",
      "Data saved. Total tweets: 44400\n",
      "Data saved. Total tweets: 44500\n",
      "Data saved. Total tweets: 44600\n",
      "Data saved. Total tweets: 44700\n",
      "Data saved. Total tweets: 44800\n"
     ]
    },
    {
     "name": "stderr",
     "output_type": "stream",
     "text": [
      "Could not translate t.co card URL on tweet 1646811097004126210\n"
     ]
    },
    {
     "name": "stdout",
     "output_type": "stream",
     "text": [
      "Data saved. Total tweets: 44900\n",
      "Data saved. Total tweets: 45000\n",
      "Data saved. Total tweets: 45100\n",
      "Data saved. Total tweets: 45200\n",
      "Data saved. Total tweets: 45300\n",
      "Data saved. Total tweets: 45400\n",
      "Data saved. Total tweets: 45500\n",
      "Data saved. Total tweets: 45600\n",
      "Data saved. Total tweets: 45700\n",
      "Data saved. Total tweets: 45800\n",
      "Data saved. Total tweets: 45900\n",
      "Data saved. Total tweets: 46000\n",
      "Data saved. Total tweets: 46100\n",
      "Data saved. Total tweets: 46200\n"
     ]
    },
    {
     "name": "stderr",
     "output_type": "stream",
     "text": [
      "Unavailable user in card on tweet 1646617289683349505\n",
      "Unavailable user in card on tweet 1646617289683349505\n",
      "User 1203690121373069312 not found in user refs in card on tweet 1646617289683349505\n",
      "User 1203690121373069312 not found in user refs in card on tweet 1646617289683349505\n",
      "Unavailable user in card on tweet 1646616551095689219\n",
      "Unavailable user in card on tweet 1646616551095689219\n",
      "User 1203690121373069312 not found in user refs in card on tweet 1646616551095689219\n",
      "User 1203690121373069312 not found in user refs in card on tweet 1646616551095689219\n"
     ]
    },
    {
     "name": "stdout",
     "output_type": "stream",
     "text": [
      "Data saved. Total tweets: 46300\n",
      "Data saved. Total tweets: 46400\n",
      "Data saved. Total tweets: 46500\n"
     ]
    },
    {
     "name": "stderr",
     "output_type": "stream",
     "text": [
      "Could not translate t.co card URL on tweet 1646596127054241792\n"
     ]
    },
    {
     "name": "stdout",
     "output_type": "stream",
     "text": [
      "Data saved. Total tweets: 46600\n",
      "Data saved. Total tweets: 46700\n",
      "Data saved. Total tweets: 46800\n",
      "Data saved. Total tweets: 46900\n",
      "Data saved. Total tweets: 47000\n",
      "Data saved. Total tweets: 47100\n",
      "Data saved. Total tweets: 47200\n",
      "Data saved. Total tweets: 47300\n",
      "Data saved. Total tweets: 47400\n",
      "Data saved. Total tweets: 47500\n",
      "Data saved. Total tweets: 47600\n"
     ]
    },
    {
     "name": "stderr",
     "output_type": "stream",
     "text": [
      "Unavailable user in card on tweet 1646525936240857097\n",
      "User 14204245 not found in user refs in card on tweet 1646525936240857097\n"
     ]
    },
    {
     "name": "stdout",
     "output_type": "stream",
     "text": [
      "Data saved. Total tweets: 47700\n",
      "Data saved. Total tweets: 47800\n",
      "Data saved. Total tweets: 47900\n",
      "Data saved. Total tweets: 48000\n",
      "Data saved. Total tweets: 48100\n",
      "Data saved. Total tweets: 48200\n",
      "Data saved. Total tweets: 48300\n",
      "Data saved. Total tweets: 48400\n",
      "Data saved. Total tweets: 48500\n",
      "Data saved. Total tweets: 48600\n",
      "Data saved. Total tweets: 48700\n",
      "Data saved. Total tweets: 48800\n",
      "Data saved. Total tweets: 48900\n",
      "Data saved. Total tweets: 49000\n",
      "Data saved. Total tweets: 49100\n",
      "Data saved. Total tweets: 49200\n",
      "Data saved. Total tweets: 49300\n",
      "Data saved. Total tweets: 49400\n",
      "Data saved. Total tweets: 49500\n",
      "Data saved. Total tweets: 49600\n"
     ]
    },
    {
     "name": "stderr",
     "output_type": "stream",
     "text": [
      "Unavailable user in card on tweet 1646240275801440260\n",
      "Unavailable user in card on tweet 1646240275801440260\n",
      "User 1203690121373069312 not found in user refs in card on tweet 1646240275801440260\n",
      "User 1203690121373069312 not found in user refs in card on tweet 1646240275801440260\n"
     ]
    },
    {
     "name": "stdout",
     "output_type": "stream",
     "text": [
      "Data saved. Total tweets: 49700\n"
     ]
    },
    {
     "name": "stderr",
     "output_type": "stream",
     "text": [
      "Unavailable user in card on tweet 1646239014775668736\n",
      "Unavailable user in card on tweet 1646239014775668736\n",
      "User 1203690121373069312 not found in user refs in card on tweet 1646239014775668736\n",
      "User 1203690121373069312 not found in user refs in card on tweet 1646239014775668736\n"
     ]
    },
    {
     "name": "stdout",
     "output_type": "stream",
     "text": [
      "Data saved. Total tweets: 49800\n",
      "Data saved. Total tweets: 49900\n",
      "Data saved. Total tweets: 50000\n",
      "Data saved. Total tweets: 50100\n",
      "Data saved. Total tweets: 50200\n",
      "Data saved. Total tweets: 50300\n",
      "Data saved. Total tweets: 50400\n",
      "Data saved. Total tweets: 50500\n",
      "Data saved. Total tweets: 50600\n",
      "Data saved. Total tweets: 50700\n",
      "Data saved. Total tweets: 50800\n",
      "Data saved. Total tweets: 50900\n",
      "Data saved. Total tweets: 51000\n",
      "Data saved. Total tweets: 51100\n"
     ]
    },
    {
     "name": "stderr",
     "output_type": "stream",
     "text": [
      "Unavailable user in card on tweet 1646087464212221953\n",
      "Unavailable user in card on tweet 1646087464212221953\n",
      "User 41566187 not found in user refs in card on tweet 1646087464212221953\n",
      "User 41566187 not found in user refs in card on tweet 1646087464212221953\n",
      "Could not translate t.co card URL on tweet 1646072034114297858\n"
     ]
    },
    {
     "name": "stdout",
     "output_type": "stream",
     "text": [
      "Data saved. Total tweets: 51200\n",
      "Data saved. Total tweets: 51300\n",
      "Data saved. Total tweets: 51400\n",
      "Data saved. Total tweets: 51500\n",
      "Data saved. Total tweets: 51600\n",
      "Data saved. Total tweets: 51700\n",
      "Data saved. Total tweets: 51800\n",
      "Data saved. Total tweets: 51900\n",
      "Data saved. Total tweets: 52000\n",
      "Data saved. Total tweets: 52100\n",
      "Data saved. Total tweets: 52200\n",
      "Data saved. Total tweets: 52300\n",
      "Data saved. Total tweets: 52400\n",
      "Data saved. Total tweets: 52500\n"
     ]
    },
    {
     "name": "stderr",
     "output_type": "stream",
     "text": [
      "Unavailable user in card on tweet 1645865995825827857\n",
      "Unavailable user in card on tweet 1645865995825827857\n",
      "User 1203690121373069312 not found in user refs in card on tweet 1645865995825827857\n",
      "User 1203690121373069312 not found in user refs in card on tweet 1645865995825827857\n"
     ]
    },
    {
     "name": "stdout",
     "output_type": "stream",
     "text": [
      "Data saved. Total tweets: 52600\n",
      "Data saved. Total tweets: 52700\n",
      "Data saved. Total tweets: 52800\n",
      "Data saved. Total tweets: 52900\n",
      "Data saved. Total tweets: 53000\n",
      "Data saved. Total tweets: 53100\n",
      "Data saved. Total tweets: 53200\n"
     ]
    },
    {
     "name": "stderr",
     "output_type": "stream",
     "text": [
      "Unavailable user in card on tweet 1645767009517330436\n",
      "Unavailable user in card on tweet 1645767009517330436\n",
      "User 1203690121373069312 not found in user refs in card on tweet 1645767009517330436\n",
      "User 1203690121373069312 not found in user refs in card on tweet 1645767009517330436\n"
     ]
    },
    {
     "name": "stdout",
     "output_type": "stream",
     "text": [
      "Data saved. Total tweets: 53300\n",
      "Data saved. Total tweets: 53400\n",
      "Data saved. Total tweets: 53500\n",
      "Data saved. Total tweets: 53600\n",
      "Data saved. Total tweets: 53700\n",
      "Data saved. Total tweets: 53800\n",
      "Data saved. Total tweets: 53900\n",
      "Data saved. Total tweets: 54000\n",
      "Data saved. Total tweets: 54100\n",
      "Data saved. Total tweets: 54200\n"
     ]
    },
    {
     "name": "stderr",
     "output_type": "stream",
     "text": [
      "Could not translate t.co card URL on tweet 1645524203540545543\n"
     ]
    },
    {
     "name": "stdout",
     "output_type": "stream",
     "text": [
      "Data saved. Total tweets: 54300\n",
      "Data saved. Total tweets: 54400\n"
     ]
    },
    {
     "name": "stderr",
     "output_type": "stream",
     "text": [
      "Unavailable user in card on tweet 1645496930003296256\n",
      "Unavailable user in card on tweet 1645496930003296256\n",
      "User 1203690121373069312 not found in user refs in card on tweet 1645496930003296256\n",
      "User 1203690121373069312 not found in user refs in card on tweet 1645496930003296256\n",
      "Unavailable user in card on tweet 1645496423943741452\n",
      "Unavailable user in card on tweet 1645496423943741452\n",
      "User 1203690121373069312 not found in user refs in card on tweet 1645496423943741452\n",
      "User 1203690121373069312 not found in user refs in card on tweet 1645496423943741452\n"
     ]
    },
    {
     "name": "stdout",
     "output_type": "stream",
     "text": [
      "Data saved. Total tweets: 54500\n"
     ]
    },
    {
     "name": "stderr",
     "output_type": "stream",
     "text": [
      "Unavailable user in card on tweet 1645485609761353731\n",
      "Unavailable user in card on tweet 1645485609761353731\n",
      "User 1203690121373069312 not found in user refs in card on tweet 1645485609761353731\n",
      "User 1203690121373069312 not found in user refs in card on tweet 1645485609761353731\n",
      "Could not translate t.co card URL on tweet 1645482177721929735\n"
     ]
    },
    {
     "name": "stdout",
     "output_type": "stream",
     "text": [
      "Data saved. Total tweets: 54600\n",
      "Data saved. Total tweets: 54700\n",
      "Data saved. Total tweets: 54800\n",
      "Data saved. Total tweets: 54900\n",
      "Data saved. Total tweets: 55000\n",
      "Data saved. Total tweets: 55100\n",
      "Data saved. Total tweets: 55200\n",
      "Data saved. Total tweets: 55300\n",
      "Data saved. Total tweets: 55400\n"
     ]
    },
    {
     "name": "stderr",
     "output_type": "stream",
     "text": [
      "Unavailable user in card on tweet 1645361705487048704\n",
      "Unavailable user in card on tweet 1645361705487048704\n",
      "User 15843059 not found in user refs in card on tweet 1645361705487048704\n",
      "User 15843059 not found in user refs in card on tweet 1645361705487048704\n"
     ]
    },
    {
     "name": "stdout",
     "output_type": "stream",
     "text": [
      "Data saved. Total tweets: 55500\n",
      "Data saved. Total tweets: 55600\n",
      "Data saved. Total tweets: 55700\n",
      "Data saved. Total tweets: 55800\n",
      "Data saved. Total tweets: 55900\n",
      "Data saved. Total tweets: 56000\n",
      "Data saved. Total tweets: 56100\n",
      "Data saved. Total tweets: 56200\n",
      "Data saved. Total tweets: 56300\n"
     ]
    },
    {
     "name": "stderr",
     "output_type": "stream",
     "text": [
      "Unavailable user in card on tweet 1645145757001842688\n",
      "Unavailable user in card on tweet 1645145757001842688\n",
      "User 1203690121373069312 not found in user refs in card on tweet 1645145757001842688\n",
      "User 1203690121373069312 not found in user refs in card on tweet 1645145757001842688\n",
      "Unavailable user in card on tweet 1645145402579075073\n",
      "Unavailable user in card on tweet 1645145402579075073\n",
      "User 1203690121373069312 not found in user refs in card on tweet 1645145402579075073\n",
      "User 1203690121373069312 not found in user refs in card on tweet 1645145402579075073\n"
     ]
    },
    {
     "name": "stdout",
     "output_type": "stream",
     "text": [
      "Data saved. Total tweets: 56400\n",
      "Data saved. Total tweets: 56500\n",
      "Data saved. Total tweets: 56600\n"
     ]
    },
    {
     "name": "stderr",
     "output_type": "stream",
     "text": [
      "Unavailable user in card on tweet 1645093063469965315\n",
      "Unavailable user in card on tweet 1645093063469965315\n",
      "User 15843059 not found in user refs in card on tweet 1645093063469965315\n",
      "User 15843059 not found in user refs in card on tweet 1645093063469965315\n"
     ]
    },
    {
     "name": "stdout",
     "output_type": "stream",
     "text": [
      "Data saved. Total tweets: 56700\n",
      "Data saved. Total tweets: 56800\n",
      "Data saved. Total tweets: 56900\n",
      "Data saved. Total tweets: 57000\n",
      "Data saved. Total tweets: 57100\n",
      "Data saved. Total tweets: 57200\n",
      "Data saved. Total tweets: 57300\n"
     ]
    },
    {
     "name": "stderr",
     "output_type": "stream",
     "text": [
      "Unavailable user in card on tweet 1644929730922299395\n",
      "User 14204245 not found in user refs in card on tweet 1644929730922299395\n"
     ]
    },
    {
     "name": "stdout",
     "output_type": "stream",
     "text": [
      "Data saved. Total tweets: 57400\n",
      "Data saved. Total tweets: 57500\n",
      "Data saved. Total tweets: 57600\n",
      "Data saved. Total tweets: 57700\n",
      "Data saved. Total tweets: 57800\n",
      "Data saved. Total tweets: 57900\n",
      "Data saved. Total tweets: 58000\n",
      "Data saved. Total tweets: 58100\n"
     ]
    },
    {
     "name": "stderr",
     "output_type": "stream",
     "text": [
      "Unavailable user in card on tweet 1644780025487708160\n",
      "Unavailable user in card on tweet 1644780025487708160\n",
      "User 1203690121373069312 not found in user refs in card on tweet 1644780025487708160\n",
      "User 1203690121373069312 not found in user refs in card on tweet 1644780025487708160\n",
      "Unavailable user in card on tweet 1644775029773594633\n",
      "Unavailable user in card on tweet 1644775029773594633\n",
      "User 1203690121373069312 not found in user refs in card on tweet 1644775029773594633\n",
      "User 1203690121373069312 not found in user refs in card on tweet 1644775029773594633\n",
      "Unavailable user in card on tweet 1644774763594645504\n",
      "Unavailable user in card on tweet 1644774763594645504\n",
      "User 1203690121373069312 not found in user refs in card on tweet 1644774763594645504\n",
      "User 1203690121373069312 not found in user refs in card on tweet 1644774763594645504\n"
     ]
    },
    {
     "name": "stdout",
     "output_type": "stream",
     "text": [
      "Data saved. Total tweets: 58200\n"
     ]
    },
    {
     "name": "stderr",
     "output_type": "stream",
     "text": [
      "Could not translate t.co card URL on tweet 1644752666399055879\n"
     ]
    },
    {
     "name": "stdout",
     "output_type": "stream",
     "text": [
      "Data saved. Total tweets: 58300\n",
      "Data saved. Total tweets: 58400\n",
      "Data saved. Total tweets: 58500\n",
      "Data saved. Total tweets: 58600\n",
      "Data saved. Total tweets: 58700\n",
      "Data saved. Total tweets: 58800\n",
      "Data saved. Total tweets: 58900\n",
      "Data saved. Total tweets: 59000\n"
     ]
    },
    {
     "name": "stderr",
     "output_type": "stream",
     "text": [
      "Could not translate t.co card URL on tweet 1644624878404882433\n"
     ]
    },
    {
     "name": "stdout",
     "output_type": "stream",
     "text": [
      "Data saved. Total tweets: 59100\n",
      "Data saved. Total tweets: 59200\n",
      "Data saved. Total tweets: 59300\n",
      "Data saved. Total tweets: 59400\n",
      "Data saved. Total tweets: 59500\n",
      "Data saved. Total tweets: 59600\n",
      "Data saved. Total tweets: 59700\n",
      "Data saved. Total tweets: 59800\n",
      "Data saved. Total tweets: 59900\n",
      "Data saved. Total tweets: 60000\n",
      "Data saved. Total tweets: 60100\n",
      "Data saved. Total tweets: 60200\n",
      "Data saved. Total tweets: 60300\n",
      "Data saved. Total tweets: 60400\n",
      "Data saved. Total tweets: 60500\n",
      "Data saved. Total tweets: 60600\n"
     ]
    },
    {
     "name": "stderr",
     "output_type": "stream",
     "text": [
      "Unavailable user in card on tweet 1644344305484697600\n",
      "Unavailable user in card on tweet 1644344305484697600\n",
      "User 1595609128453275648 not found in user refs in card on tweet 1644344305484697600\n",
      "User 1595609128453275648 not found in user refs in card on tweet 1644344305484697600\n"
     ]
    },
    {
     "name": "stdout",
     "output_type": "stream",
     "text": [
      "Data saved. Total tweets: 60700\n"
     ]
    },
    {
     "name": "stderr",
     "output_type": "stream",
     "text": [
      "Unavailable user in card on tweet 1644326061465911297\n",
      "Unavailable user in card on tweet 1644326061465911297\n",
      "User 1203690121373069312 not found in user refs in card on tweet 1644326061465911297\n",
      "User 1203690121373069312 not found in user refs in card on tweet 1644326061465911297\n",
      "Unavailable user in card on tweet 1644315739577520128\n",
      "User 990982557423423488 not found in user refs in card on tweet 1644315739577520128\n"
     ]
    },
    {
     "name": "stdout",
     "output_type": "stream",
     "text": [
      "Data saved. Total tweets: 60800\n",
      "Data saved. Total tweets: 60900\n"
     ]
    },
    {
     "name": "stderr",
     "output_type": "stream",
     "text": [
      "Unavailable user in card on tweet 1644272785835819013\n",
      "Unavailable user in card on tweet 1644272785835819013\n",
      "User 1203690121373069312 not found in user refs in card on tweet 1644272785835819013\n",
      "User 1203690121373069312 not found in user refs in card on tweet 1644272785835819013\n"
     ]
    },
    {
     "name": "stdout",
     "output_type": "stream",
     "text": [
      "Data saved. Total tweets: 61000\n",
      "Data saved. Total tweets: 61100\n"
     ]
    },
    {
     "name": "stderr",
     "output_type": "stream",
     "text": [
      "Unavailable user in card on tweet 1644220107629920257\n",
      "Unavailable user in card on tweet 1644220107629920257\n",
      "User 15843059 not found in user refs in card on tweet 1644220107629920257\n",
      "User 15843059 not found in user refs in card on tweet 1644220107629920257\n"
     ]
    },
    {
     "name": "stdout",
     "output_type": "stream",
     "text": [
      "Data saved. Total tweets: 61200\n",
      "Data saved. Total tweets: 61300\n",
      "Data saved. Total tweets: 61400\n",
      "Data saved. Total tweets: 61500\n",
      "Data saved. Total tweets: 61600\n",
      "Data saved. Total tweets: 61700\n",
      "Data saved. Total tweets: 61800\n",
      "Data saved. Total tweets: 61900\n",
      "Data saved. Total tweets: 62000\n",
      "Data saved. Total tweets: 62100\n",
      "Data saved. Total tweets: 62200\n",
      "Data saved. Total tweets: 62300\n",
      "Data saved. Total tweets: 62400\n",
      "Data saved. Total tweets: 62500\n",
      "Data saved. Total tweets: 62600\n"
     ]
    },
    {
     "name": "stderr",
     "output_type": "stream",
     "text": [
      "Unavailable user in card on tweet 1643960995763613702\n",
      "Unavailable user in card on tweet 1643960995763613702\n",
      "User 1203690121373069312 not found in user refs in card on tweet 1643960995763613702\n",
      "User 1203690121373069312 not found in user refs in card on tweet 1643960995763613702\n"
     ]
    },
    {
     "name": "stdout",
     "output_type": "stream",
     "text": [
      "Data saved. Total tweets: 62700\n"
     ]
    },
    {
     "name": "stderr",
     "output_type": "stream",
     "text": [
      "Could not translate t.co card URL on tweet 1643956601261531137\n"
     ]
    },
    {
     "name": "stdout",
     "output_type": "stream",
     "text": [
      "Data saved. Total tweets: 62800\n",
      "Data saved. Total tweets: 62900\n",
      "Data saved. Total tweets: 63000\n",
      "Data saved. Total tweets: 63100\n",
      "Data saved. Total tweets: 63200\n",
      "Data saved. Total tweets: 63300\n",
      "Data saved. Total tweets: 63400\n",
      "Data saved. Total tweets: 63500\n",
      "Data saved. Total tweets: 63600\n",
      "Data saved. Total tweets: 63700\n",
      "Data saved. Total tweets: 63800\n",
      "Data saved. Total tweets: 63900\n",
      "Data saved. Total tweets: 64000\n",
      "Data saved. Total tweets: 64100\n",
      "Data saved. Total tweets: 64200\n",
      "Data saved. Total tweets: 64300\n",
      "Data saved. Total tweets: 64400\n",
      "Data saved. Total tweets: 64500\n",
      "Data saved. Total tweets: 64600\n",
      "Data saved. Total tweets: 64700\n",
      "Data saved. Total tweets: 64800\n",
      "Data saved. Total tweets: 64900\n"
     ]
    },
    {
     "name": "stderr",
     "output_type": "stream",
     "text": [
      "Unavailable user in card on tweet 1643292486071115783\n",
      "Unavailable user in card on tweet 1643292486071115783\n",
      "User 1062915983294300160 not found in user refs in card on tweet 1643292486071115783\n",
      "User 1062915983294300160 not found in user refs in card on tweet 1643292486071115783\n"
     ]
    },
    {
     "name": "stdout",
     "output_type": "stream",
     "text": [
      "Data saved. Total tweets: 65000\n"
     ]
    },
    {
     "name": "stderr",
     "output_type": "stream",
     "text": [
      "Stopping after 20 empty pages\n",
      "Twitter responded with an error: InternalServerError: ServiceUnavailable: Unspecified, InternalServerError: ServiceUnavailable: Unspecified, InternalServerError: ServiceUnavailable: Unspecified, InternalServerError: ServiceUnavailable: Unspecified, InternalServerError: ServiceUnavailable: Unspecified, InternalServerError: ServiceUnavailable: Unspecified, InternalServerError: ServiceUnavailable: Unspecified, InternalServerError: ServiceUnavailable: Unspecified, InternalServerError: ServiceUnavailable: Unspecified, InternalServerError: ServiceUnavailable: Unspecified, InternalServerError: ServiceUnavailable: Unspecified\n"
     ]
    },
    {
     "name": "stdout",
     "output_type": "stream",
     "text": [
      "Data saved. Total tweets: 65100\n",
      "Data saved. Total tweets: 65200\n"
     ]
    },
    {
     "name": "stderr",
     "output_type": "stream",
     "text": [
      "Unavailable user in card on tweet 1652775512702431233\n",
      "User 14204245 not found in user refs in card on tweet 1652775512702431233\n"
     ]
    },
    {
     "name": "stdout",
     "output_type": "stream",
     "text": [
      "Data saved. Total tweets: 65300\n",
      "Data saved. Total tweets: 65400\n",
      "Data saved. Total tweets: 65500\n",
      "Data saved. Total tweets: 65600\n",
      "Data saved. Total tweets: 65700\n",
      "Data saved. Total tweets: 65800\n",
      "Data saved. Total tweets: 65900\n",
      "Data saved. Total tweets: 66000\n",
      "Data saved. Total tweets: 66100\n",
      "Data saved. Total tweets: 66200\n",
      "Data saved. Total tweets: 66300\n",
      "Data saved. Total tweets: 66400\n",
      "Data saved. Total tweets: 66500\n",
      "Data saved. Total tweets: 66600\n",
      "Data saved. Total tweets: 66700\n",
      "Data saved. Total tweets: 66800\n",
      "Data saved. Total tweets: 66900\n",
      "Data saved. Total tweets: 67000\n",
      "Data saved. Total tweets: 67100\n",
      "Data saved. Total tweets: 67200\n"
     ]
    },
    {
     "name": "stderr",
     "output_type": "stream",
     "text": [
      "Unavailable user in card on tweet 1652412394063163392\n",
      "Unavailable user in card on tweet 1652412394063163392\n",
      "User 1203690121373069312 not found in user refs in card on tweet 1652412394063163392\n",
      "User 1203690121373069312 not found in user refs in card on tweet 1652412394063163392\n"
     ]
    },
    {
     "name": "stdout",
     "output_type": "stream",
     "text": [
      "Data saved. Total tweets: 67300\n",
      "Data saved. Total tweets: 67400\n",
      "Data saved. Total tweets: 67500\n",
      "Data saved. Total tweets: 67600\n",
      "Data saved. Total tweets: 67700\n",
      "Data saved. Total tweets: 67800\n",
      "Data saved. Total tweets: 67900\n",
      "Data saved. Total tweets: 68000\n",
      "Data saved. Total tweets: 68100\n",
      "Data saved. Total tweets: 68200\n",
      "Data saved. Total tweets: 68300\n",
      "Data saved. Total tweets: 68400\n",
      "Data saved. Total tweets: 68500\n"
     ]
    },
    {
     "name": "stderr",
     "output_type": "stream",
     "text": [
      "Twitter responded with an error: InternalServerError: ServiceUnavailable: Unspecified\n"
     ]
    },
    {
     "name": "stdout",
     "output_type": "stream",
     "text": [
      "Data saved. Total tweets: 68600\n",
      "Data saved. Total tweets: 68700\n",
      "Data saved. Total tweets: 68800\n",
      "Data saved. Total tweets: 68900\n",
      "Data saved. Total tweets: 69000\n",
      "Data saved. Total tweets: 69100\n"
     ]
    },
    {
     "name": "stderr",
     "output_type": "stream",
     "text": [
      "Unavailable user in card on tweet 1652083991930089472\n",
      "User 14204245 not found in user refs in card on tweet 1652083991930089472\n"
     ]
    },
    {
     "name": "stdout",
     "output_type": "stream",
     "text": [
      "Data saved. Total tweets: 69200\n"
     ]
    },
    {
     "name": "stderr",
     "output_type": "stream",
     "text": [
      "Unavailable user in card on tweet 1652067591496581120\n",
      "User 28550209 not found in user refs in card on tweet 1652067591496581120\n"
     ]
    },
    {
     "name": "stdout",
     "output_type": "stream",
     "text": [
      "Data saved. Total tweets: 69300\n",
      "Data saved. Total tweets: 69400\n"
     ]
    },
    {
     "name": "stderr",
     "output_type": "stream",
     "text": [
      "Could not translate t.co card URL on tweet 1652036197722497042\n",
      "Unavailable user in card on tweet 1652031947697278976\n",
      "User 14204245 not found in user refs in card on tweet 1652031947697278976\n"
     ]
    },
    {
     "name": "stdout",
     "output_type": "stream",
     "text": [
      "Data saved. Total tweets: 69500\n",
      "Data saved. Total tweets: 69600\n",
      "Data saved. Total tweets: 69700\n",
      "Data saved. Total tweets: 69800\n",
      "Data saved. Total tweets: 69900\n",
      "Data saved. Total tweets: 70000\n",
      "Data saved. Total tweets: 70100\n"
     ]
    },
    {
     "name": "stderr",
     "output_type": "stream",
     "text": [
      "Could not translate t.co card URL on tweet 1651953634748317697\n"
     ]
    },
    {
     "name": "stdout",
     "output_type": "stream",
     "text": [
      "Data saved. Total tweets: 70200\n",
      "Data saved. Total tweets: 70300\n",
      "Data saved. Total tweets: 70400\n"
     ]
    },
    {
     "name": "stderr",
     "output_type": "stream",
     "text": [
      "Unavailable user in card on tweet 1651913038956511236\n",
      "User 14204245 not found in user refs in card on tweet 1651913038956511236\n"
     ]
    },
    {
     "name": "stdout",
     "output_type": "stream",
     "text": [
      "Data saved. Total tweets: 70500\n"
     ]
    },
    {
     "name": "stderr",
     "output_type": "stream",
     "text": [
      "Could not translate t.co card URL on tweet 1651898092931923970\n"
     ]
    },
    {
     "name": "stdout",
     "output_type": "stream",
     "text": [
      "Data saved. Total tweets: 70600\n",
      "Data saved. Total tweets: 70700\n",
      "Data saved. Total tweets: 70800\n",
      "Data saved. Total tweets: 70900\n",
      "Data saved. Total tweets: 71000\n"
     ]
    },
    {
     "name": "stderr",
     "output_type": "stream",
     "text": [
      "Unavailable user in card on tweet 1651805648315875328\n",
      "User 14204245 not found in user refs in card on tweet 1651805648315875328\n"
     ]
    },
    {
     "name": "stdout",
     "output_type": "stream",
     "text": [
      "Data saved. Total tweets: 71100\n",
      "Data saved. Total tweets: 71200\n",
      "Data saved. Total tweets: 71300\n",
      "Data saved. Total tweets: 71400\n",
      "Data saved. Total tweets: 71500\n",
      "Data saved. Total tweets: 71600\n",
      "Data saved. Total tweets: 71700\n"
     ]
    },
    {
     "name": "stderr",
     "output_type": "stream",
     "text": [
      "Unavailable user in card on tweet 1651685091293163557\n",
      "Unavailable user in card on tweet 1651685091293163557\n",
      "User 1203690121373069312 not found in user refs in card on tweet 1651685091293163557\n",
      "User 1203690121373069312 not found in user refs in card on tweet 1651685091293163557\n",
      "Unavailable user in card on tweet 1651684602983903242\n",
      "Unavailable user in card on tweet 1651684602983903242\n",
      "User 1203690121373069312 not found in user refs in card on tweet 1651684602983903242\n",
      "User 1203690121373069312 not found in user refs in card on tweet 1651684602983903242\n",
      "Unavailable user in card on tweet 1651683075670298625\n",
      "Unavailable user in card on tweet 1651683075670298625\n",
      "User 1203690121373069312 not found in user refs in card on tweet 1651683075670298625\n",
      "User 1203690121373069312 not found in user refs in card on tweet 1651683075670298625\n",
      "Unavailable user in card on tweet 1651682452648128517\n",
      "Unavailable user in card on tweet 1651682452648128517\n",
      "User 1203690121373069312 not found in user refs in card on tweet 1651682452648128517\n",
      "User 1203690121373069312 not found in user refs in card on tweet 1651682452648128517\n",
      "Unavailable user in card on tweet 1651682304656326656\n",
      "Unavailable user in card on tweet 1651682304656326656\n",
      "User 1203690121373069312 not found in user refs in card on tweet 1651682304656326656\n",
      "User 1203690121373069312 not found in user refs in card on tweet 1651682304656326656\n"
     ]
    },
    {
     "name": "stdout",
     "output_type": "stream",
     "text": [
      "Data saved. Total tweets: 71800\n"
     ]
    },
    {
     "name": "stderr",
     "output_type": "stream",
     "text": [
      "Unavailable user in card on tweet 1651670450936639497\n",
      "User 14204245 not found in user refs in card on tweet 1651670450936639497\n"
     ]
    },
    {
     "name": "stdout",
     "output_type": "stream",
     "text": [
      "Data saved. Total tweets: 71900\n",
      "Data saved. Total tweets: 72000\n",
      "Data saved. Total tweets: 72100\n",
      "Data saved. Total tweets: 72200\n"
     ]
    },
    {
     "name": "stderr",
     "output_type": "stream",
     "text": [
      "Unavailable user in card on tweet 1651629223340064770\n",
      "User 14204245 not found in user refs in card on tweet 1651629223340064770\n"
     ]
    },
    {
     "name": "stdout",
     "output_type": "stream",
     "text": [
      "Data saved. Total tweets: 72300\n",
      "Data saved. Total tweets: 72400\n",
      "Data saved. Total tweets: 72500\n",
      "Data saved. Total tweets: 72600\n",
      "Data saved. Total tweets: 72700\n"
     ]
    },
    {
     "name": "stderr",
     "output_type": "stream",
     "text": [
      "Could not translate t.co card URL on tweet 1651582815283326977\n",
      "Could not translate t.co card URL on tweet 1651582543333060608\n",
      "Could not translate t.co card URL on tweet 1651578334147670017\n",
      "Could not translate t.co card URL on tweet 1651578266585804800\n",
      "Could not translate t.co card URL on tweet 1651577846933094400\n",
      "Could not translate t.co card URL on tweet 1651577783192256514\n"
     ]
    },
    {
     "name": "stdout",
     "output_type": "stream",
     "text": [
      "Data saved. Total tweets: 72800\n"
     ]
    },
    {
     "name": "stderr",
     "output_type": "stream",
     "text": [
      "Could not translate t.co card URL on tweet 1651574395280986112\n",
      "Could not translate t.co card URL on tweet 1651573825019199489\n",
      "Could not translate t.co card URL on tweet 1651572725490806784\n",
      "Could not translate t.co card URL on tweet 1651571289763749888\n",
      "Could not translate t.co card URL on tweet 1651569984886411264\n",
      "Could not translate t.co card URL on tweet 1651569743630045184\n",
      "Could not translate t.co card URL on tweet 1651569176782450688\n",
      "Could not translate t.co card URL on tweet 1651569125947498497\n",
      "Could not translate t.co card URL on tweet 1651568052553789440\n",
      "Could not translate t.co card URL on tweet 1651568001496518657\n"
     ]
    },
    {
     "name": "stdout",
     "output_type": "stream",
     "text": [
      "Data saved. Total tweets: 72900\n",
      "Data saved. Total tweets: 73000\n",
      "Data saved. Total tweets: 73100\n",
      "Data saved. Total tweets: 73200\n",
      "Data saved. Total tweets: 73300\n",
      "Data saved. Total tweets: 73400\n",
      "Data saved. Total tweets: 73500\n",
      "Data saved. Total tweets: 73600\n",
      "Data saved. Total tweets: 73700\n",
      "Data saved. Total tweets: 73800\n",
      "Data saved. Total tweets: 73900\n",
      "Data saved. Total tweets: 74000\n",
      "Data saved. Total tweets: 74100\n",
      "Data saved. Total tweets: 74200\n",
      "Data saved. Total tweets: 74300\n",
      "Data saved. Total tweets: 74400\n",
      "Data saved. Total tweets: 74500\n",
      "Data saved. Total tweets: 74600\n",
      "Data saved. Total tweets: 74700\n",
      "Data saved. Total tweets: 74800\n",
      "Data saved. Total tweets: 74900\n",
      "Data saved. Total tweets: 75000\n",
      "Data saved. Total tweets: 75100\n",
      "Data saved. Total tweets: 75200\n",
      "Data saved. Total tweets: 75300\n",
      "Data saved. Total tweets: 75400\n",
      "Data saved. Total tweets: 75500\n",
      "Data saved. Total tweets: 75600\n"
     ]
    },
    {
     "name": "stderr",
     "output_type": "stream",
     "text": [
      "Could not translate t.co card URL on tweet 1651203395854938112\n"
     ]
    },
    {
     "name": "stdout",
     "output_type": "stream",
     "text": [
      "Data saved. Total tweets: 75700\n",
      "Data saved. Total tweets: 75800\n",
      "Data saved. Total tweets: 75900\n",
      "Data saved. Total tweets: 76000\n",
      "Data saved. Total tweets: 76100\n",
      "Data saved. Total tweets: 76200\n",
      "Data saved. Total tweets: 76300\n",
      "Data saved. Total tweets: 76400\n",
      "Data saved. Total tweets: 76500\n",
      "Data saved. Total tweets: 76600\n",
      "Data saved. Total tweets: 76700\n",
      "Data saved. Total tweets: 76800\n",
      "Data saved. Total tweets: 76900\n",
      "Data saved. Total tweets: 77000\n",
      "Data saved. Total tweets: 77100\n",
      "Data saved. Total tweets: 77200\n",
      "Data saved. Total tweets: 77300\n",
      "Data saved. Total tweets: 77400\n",
      "Data saved. Total tweets: 77500\n",
      "Data saved. Total tweets: 77600\n",
      "Data saved. Total tweets: 77700\n",
      "Data saved. Total tweets: 77800\n",
      "Data saved. Total tweets: 77900\n",
      "Data saved. Total tweets: 78000\n",
      "Data saved. Total tweets: 78100\n",
      "Data saved. Total tweets: 78200\n",
      "Data saved. Total tweets: 78300\n",
      "Data saved. Total tweets: 78400\n",
      "Data saved. Total tweets: 78500\n",
      "Data saved. Total tweets: 78600\n",
      "Data saved. Total tweets: 78700\n",
      "Data saved. Total tweets: 78800\n"
     ]
    }
   ],
   "source": [
    "# Define the file path for saving the data\n",
    "file_path = \"global warming tweets.csv\"\n",
    "\n",
    "# Define the condition to stop the scraping process\n",
    "stop_condition = 1000000  # Stop after collecting 1 million tweets\n",
    "\n",
    "# Define the interval for saving the data\n",
    "save_interval = 100  # Save every 100 tweets\n",
    "\n",
    "# Function to scrape tweets based on a given query\n",
    "def scrape_tweets(query):\n",
    "    # Initialize the list to store the scraped data\n",
    "    tweets = []\n",
    "    tweet_count = 0  # Counter for the number of tweets collected\n",
    "\n",
    "    while tweet_count < stop_condition:\n",
    "        try:\n",
    "            # Scrape tweets\n",
    "            scraper = sntwitter.TwitterSearchScraper(query)\n",
    "            for i, tweet in enumerate(scraper.get_items()):\n",
    "                tweets.append([tweet.date, tweet.user.username, tweet.user.location, \n",
    "                               tweet.rawContent, tweet.likeCount, tweet.retweetCount, \n",
    "                               tweet.user.followersCount, tweet.replyCount])\n",
    "                tweet_count += 1\n",
    "\n",
    "                # Check if it's time to save the data\n",
    "                if tweet_count % save_interval == 0:\n",
    "                    save_data(tweets)\n",
    "                    print(f\"Data saved. Total tweets: {tweet_count}\")\n",
    "\n",
    "        except Exception as e:\n",
    "            print(f\"Error occurred: {str(e)}. Retrying in 5 seconds...\")\n",
    "            time.sleep(5)  # Wait for 5 seconds before retrying\n",
    "\n",
    "    return tweets\n",
    "\n",
    "# Function to save the data to a CSV file\n",
    "def save_data(data):\n",
    "    with open(file_path, \"w\", newline=\"\", encoding=\"utf-8\") as file:\n",
    "        writer = csv.writer(file)\n",
    "        writer.writerow([\"date\", \"username\", \"user_location\", \"tweet\", \"num_of_like\", \"num_of_retweet\",\n",
    "                         \"num_of_followers\", \"num_of_reply\"])  # Write the header\n",
    "        writer.writerows(data)  # Write the rows\n",
    "\n",
    "# Define your query\n",
    "query = \"(#globalwarming OR 'global warming') lang:en since:2022-05-01 until:2023-05-01\"\n",
    "\n",
    "# Call the function to scrape tweets\n",
    "tweets = scrape_tweets(query)\n",
    "\n",
    "# Save the final scraped data\n",
    "save_data(tweets)\n",
    "\n",
    "print(\"Data saved successfully.\")\n"
   ]
  },
  {
   "cell_type": "code",
   "execution_count": null,
   "id": "13f11921",
   "metadata": {},
   "outputs": [],
   "source": [
    "# MongoDB connection settings\n",
    "mongo_url = \"mongodb://localhost:27017/\"\n",
    "database_name = \"twitter_data\"\n",
    "collection_name = \"tweets\"\n",
    "\n",
    "# Define the condition to stop the scraping process\n",
    "stop_condition = 1000000  # Stop after collecting 1 million tweets\n",
    "\n",
    "# Function to scrape tweets based on a given query and save to MongoDB\n",
    "def scrape_tweets_and_save_to_mongodb(query):\n",
    "    # Initialize the MongoDB client\n",
    "    client = MongoClient(mongo_url)\n",
    "    db = client[database_name]\n",
    "    collection = db[collection_name]\n",
    "\n",
    "    tweet_count = 0  # Counter for the number of tweets collected\n",
    "\n",
    "    while tweet_count < stop_condition:\n",
    "        try:\n",
    "            # Scrape tweets\n",
    "            scraper = sntwitter.TwitterSearchScraper(query)\n",
    "            for i, tweet in enumerate(scraper.get_items()):\n",
    "                tweet_data = {\n",
    "                    \"date\": tweet.date,\n",
    "                    \"username\": tweet.user.username,\n",
    "                    \"user_location\": tweet.user.location,\n",
    "                    \"tweet\": tweet.content,\n",
    "                    \"num_of_like\": tweet.likeCount,\n",
    "                    \"num_of_retweet\": tweet.retweetCount,\n",
    "                    \"num_of_followers\": tweet.user.followersCount,\n",
    "                    \"num_of_reply\": tweet.replyCount\n",
    "                }\n",
    "                collection.insert_one(tweet_data)\n",
    "                tweet_count += 1\n",
    "\n",
    "                # Check if it's time to save the data\n",
    "                if tweet_count % save_interval == 0:\n",
    "                    print(f\"Data saved. Total tweets: {tweet_count}\")\n",
    "\n",
    "        except Exception as e:\n",
    "            print(f\"Error occurred: {str(e)}. Retrying in 5 seconds...\")\n",
    "            time.sleep(5)  # Wait for 5 seconds before retrying\n",
    "\n",
    "    client.close()\n",
    "\n",
    "# Define your query\n",
    "query = \"(#weather OR 'weather') lang:en since:2022-05-01 until:2023-05-01\"\n",
    "\n",
    "# Call the function to scrape tweets and save to MongoDB\n",
    "scrape_tweets_and_save_to_mongodb(query)\n",
    "\n",
    "print(\"Data saved to MongoDB.\")"
   ]
  }
 ],
 "metadata": {
  "kernelspec": {
   "display_name": "Python 3 (ipykernel)",
   "language": "python",
   "name": "python3"
  },
  "language_info": {
   "codemirror_mode": {
    "name": "ipython",
    "version": 3
   },
   "file_extension": ".py",
   "mimetype": "text/x-python",
   "name": "python",
   "nbconvert_exporter": "python",
   "pygments_lexer": "ipython3",
   "version": "3.10.9"
  }
 },
 "nbformat": 4,
 "nbformat_minor": 5
}
