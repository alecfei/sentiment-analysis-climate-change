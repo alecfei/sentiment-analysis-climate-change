{
 "cells": [
  {
   "cell_type": "markdown",
   "id": "7d9caf72",
   "metadata": {},
   "source": [
    "- Install snscrape library to help collecting tweets"
   ]
  },
  {
   "cell_type": "code",
   "execution_count": 1,
   "id": "6b67f004",
   "metadata": {},
   "outputs": [],
   "source": [
    "#!pip3 install --upgrade git+https://github.com/JustAnotherArchivist/snscrape.git"
   ]
  },
  {
   "cell_type": "code",
   "execution_count": 2,
   "id": "5c287af6",
   "metadata": {},
   "outputs": [],
   "source": [
    "# import libraries needed\n",
    "import datetime \n",
    "import pandas as pd\n",
    "import snscrape.modules.twitter as snstwitter"
   ]
  },
  {
   "cell_type": "code",
   "execution_count": 6,
   "id": "a1b8d820",
   "metadata": {},
   "outputs": [
    {
     "name": "stderr",
     "output_type": "stream",
     "text": [
      "Empty user ref object in card on tweet 1051828628349177857\n",
      "User 2978345031 not found in user refs in card on tweet 1051828628349177857\n",
      "Stopping after 20 empty pages\n"
     ]
    }
   ],
   "source": [
    "query_2018 = \"(#Irishweather OR 'Irish weather') lang:en since:2018-01-01 until:2018-12-31\"\n",
    "tweets_2018 = []\n",
    "\n",
    "for i, tweet in enumerate(snstwitter.TwitterSearchScraper(query_2018).get_items()):\n",
    "    if i > 900000:\n",
    "        break\n",
    "    else:\n",
    "        tweets_2018.append([tweet.date, tweet.user.username, tweet.user.location, \n",
    "                           tweet.rawContent, tweet.likeCount, tweet.retweetCount, \n",
    "                           tweet.user.followersCount, tweet.replyCount]) \n",
    "weather_tweets_2018 = pd.DataFrame(tweets_2018, columns = [\"date\", \"username\", \"user_location\",\n",
    "                                                        \"tweet\", \"num_of_like\", \"num_of_retweet\",\n",
    "                                                        \"num_of_followers\", \"num_of_reply\"])\n",
    "\n",
    "weather_tweets_2018.to_csv(\"Irish weather tweets in 2018.csv\")"
   ]
  },
  {
   "cell_type": "code",
   "execution_count": 3,
   "id": "15267c94",
   "metadata": {},
   "outputs": [
    {
     "name": "stderr",
     "output_type": "stream",
     "text": [
      "Empty user ref object in card on tweet 1126376524054192128\n",
      "User 899733078641225728 not found in user refs in card on tweet 1126376524054192128\n",
      "Empty user ref object in card on tweet 1110239852837158912\n",
      "User 899733078641225728 not found in user refs in card on tweet 1110239852837158912\n",
      "Empty user ref object in card on tweet 1102701281116856320\n",
      "User 899733078641225728 not found in user refs in card on tweet 1102701281116856320\n",
      "Twitter responded with an error: DependencyError: Dependency: Unspecified\n",
      "Twitter responded with an error: DependencyError: Dependency: Unspecified\n",
      "Twitter responded with an error: DependencyError: Dependency: Unspecified\n",
      "Twitter responded with an error: DependencyError: Dependency: Unspecified\n",
      "Unavailable user in card on tweet 1090513479440760834\n",
      "Unavailable user in card on tweet 1090513479440760834\n",
      "User 350333512 not found in user refs in card on tweet 1090513479440760834\n",
      "User 350333512 not found in user refs in card on tweet 1090513479440760834\n",
      "Twitter responded with an error: DependencyError: Dependency: Unspecified\n",
      "Stopping after 20 empty pages\n"
     ]
    }
   ],
   "source": [
    "query_2019 = \"(#Irishweather OR 'Irish weather') lang:en since:2019-01-01 until:2019-12-31\"\n",
    "tweets_2019 = []\n",
    "\n",
    "for i, tweet in enumerate(snstwitter.TwitterSearchScraper(query_2019).get_items()):\n",
    "    if i > 900000:\n",
    "        break\n",
    "    else:\n",
    "        tweets_2019.append([tweet.date, tweet.user.username, tweet.user.location, \n",
    "                           tweet.rawContent, tweet.likeCount, tweet.retweetCount, \n",
    "                           tweet.user.followersCount, tweet.replyCount]) \n",
    "weather_tweets_2019 = pd.DataFrame(tweets_2019, columns = [\"date\", \"username\", \"user_location\",\n",
    "                                                        \"tweet\", \"num_of_like\", \"num_of_retweet\",\n",
    "                                                        \"num_of_followers\", \"num_of_reply\"])\n",
    "\n",
    "weather_tweets_2019.to_csv(\"Irish weather tweets in 2019.csv\")"
   ]
  },
  {
   "cell_type": "code",
   "execution_count": 3,
   "id": "e8cac084",
   "metadata": {},
   "outputs": [
    {
     "name": "stderr",
     "output_type": "stream",
     "text": [
      "Stopping after 20 empty pages\n"
     ]
    }
   ],
   "source": [
    "query_2020 = \"(#Irishweather OR 'Irish weather') lang:en since:2020-01-01 until:2020-12-31\"\n",
    "tweets_2020 = []\n",
    "\n",
    "for i, tweet in enumerate(snstwitter.TwitterSearchScraper(query_2020).get_items()):\n",
    "    if i > 900000:\n",
    "        break\n",
    "    else:\n",
    "        tweets_2020.append([tweet.date, tweet.user.username, tweet.user.location, \n",
    "                           tweet.rawContent, tweet.likeCount, tweet.retweetCount, \n",
    "                           tweet.user.followersCount, tweet.replyCount]) \n",
    "weather_tweets_2020 = pd.DataFrame(tweets_2020, columns = [\"date\", \"username\", \"user_location\",\n",
    "                                                        \"tweet\", \"num_of_like\", \"num_of_retweet\",\n",
    "                                                        \"num_of_followers\", \"num_of_reply\"])\n",
    "\n",
    "weather_tweets_2020.to_csv(\"Irish weather tweets in 2020.csv\")"
   ]
  },
  {
   "cell_type": "code",
   "execution_count": 6,
   "id": "45a72b66",
   "metadata": {},
   "outputs": [
    {
     "name": "stderr",
     "output_type": "stream",
     "text": [
      "Empty user ref object in card on tweet 1406515899763408899\n",
      "User 899733078641225728 not found in user refs in card on tweet 1406515899763408899\n",
      "Stopping after 20 empty pages\n"
     ]
    }
   ],
   "source": [
    "query_2021 = \"(#Irishweather OR 'Irish weather') lang:en since:2021-01-01 until:2021-12-31\"\n",
    "tweets_2021 = []\n",
    "\n",
    "for i, tweet in enumerate(snstwitter.TwitterSearchScraper(query_2021).get_items()):\n",
    "    if i > 900000:\n",
    "        break\n",
    "    else:\n",
    "        tweets_2021.append([tweet.date, tweet.user.username, tweet.user.location, \n",
    "                           tweet.rawContent, tweet.likeCount, tweet.retweetCount, \n",
    "                           tweet.user.followersCount, tweet.replyCount]) \n",
    "weather_tweets_2021 = pd.DataFrame(tweets_2021, columns = [\"date\", \"username\", \"user_location\",\n",
    "                                                        \"tweet\", \"num_of_like\", \"num_of_retweet\",\n",
    "                                                        \"num_of_followers\", \"num_of_reply\"])\n",
    "\n",
    "weather_tweets_2021.to_csv(\"Irish weather tweets in 2021.csv\")"
   ]
  },
  {
   "cell_type": "code",
   "execution_count": 7,
   "id": "1719b91f",
   "metadata": {},
   "outputs": [
    {
     "name": "stderr",
     "output_type": "stream",
     "text": [
      "Empty user ref object in card on tweet 1579813058519928834\n",
      "User 899733078641225728 not found in user refs in card on tweet 1579813058519928834\n",
      "Empty user ref object in card on tweet 1555621687848325123\n",
      "User 899733078641225728 not found in user refs in card on tweet 1555621687848325123\n",
      "Twitter responded with an error: DependencyError: Dependency: Unspecified\n",
      "Twitter responded with an error: DependencyError: Dependency: Unspecified\n",
      "Twitter responded with an error: DependencyError: Dependency: Unspecified\n",
      "Twitter responded with an error: DependencyError: Dependency: Unspecified\n",
      "Unavailable user in card on tweet 1505521471493337096\n",
      "Unavailable user in card on tweet 1505521471493337096\n",
      "User 160497158 not found in user refs in card on tweet 1505521471493337096\n",
      "User 160497158 not found in user refs in card on tweet 1505521471493337096\n",
      "Twitter responded with an error: DependencyError: Dependency: Unspecified\n",
      "Twitter responded with an error: DependencyError: Dependency: Unspecified\n",
      "Twitter responded with an error: DependencyError: Dependency: Unspecified\n",
      "Twitter responded with an error: DependencyError: Dependency: Unspecified\n",
      "Twitter responded with an error: DependencyError: Dependency: Unspecified\n",
      "Twitter responded with an error: DependencyError: Dependency: Unspecified\n",
      "Twitter responded with an error: DependencyError: Dependency: Unspecified\n",
      "Stopping after 20 empty pages\n"
     ]
    }
   ],
   "source": [
    "query_2022 = \"(#Irishweather OR 'Irish weather') lang:en since:2022-01-01 until:2022-12-31\"\n",
    "tweets_2022 = []\n",
    "\n",
    "for i, tweet in enumerate(snstwitter.TwitterSearchScraper(query_2022).get_items()):\n",
    "    if i > 900000:\n",
    "        break\n",
    "    else:\n",
    "        tweets_2022.append([tweet.date, tweet.user.username, tweet.user.location, \n",
    "                           tweet.rawContent, tweet.likeCount, tweet.retweetCount, \n",
    "                           tweet.user.followersCount, tweet.replyCount]) \n",
    "weather_tweets_2022 = pd.DataFrame(tweets_2022, columns = [\"date\", \"username\", \"user_location\",\n",
    "                                                        \"tweet\", \"num_of_like\", \"num_of_retweet\",\n",
    "                                                        \"num_of_followers\", \"num_of_reply\"])\n",
    "\n",
    "weather_tweets_2022.to_csv(\"Irish weather tweets in 2022.csv\")"
   ]
  },
  {
   "cell_type": "code",
   "execution_count": 8,
   "id": "d291b030",
   "metadata": {},
   "outputs": [
    {
     "name": "stderr",
     "output_type": "stream",
     "text": [
      "Twitter responded with an error: DependencyError: Dependency: Unspecified\n",
      "Twitter responded with an error: DependencyError: Dependency: Unspecified\n",
      "Twitter responded with an error: DependencyError: Dependency: Unspecified\n",
      "Twitter responded with an error: DependencyError: Dependency: Unspecified\n",
      "Twitter responded with an error: DependencyError: Dependency: Unspecified\n",
      "Stopping after 20 empty pages\n"
     ]
    }
   ],
   "source": [
    "query_2023 = \"(#Irishweather OR 'Irish weather') lang:en since:2023-01-01 until:2023-05-01\"\n",
    "tweets_2023 = []\n",
    "\n",
    "for i, tweet in enumerate(snstwitter.TwitterSearchScraper(query_2023).get_items()):\n",
    "    if i > 900000:\n",
    "        break\n",
    "    else:\n",
    "        tweets_2023.append([tweet.date, tweet.user.username, tweet.user.location, \n",
    "                           tweet.rawContent, tweet.likeCount, tweet.retweetCount, \n",
    "                           tweet.user.followersCount, tweet.replyCount]) \n",
    "weather_tweets_2023 = pd.DataFrame(tweets_2023, columns = [\"date\", \"username\", \"user_location\",\n",
    "                                                        \"tweet\", \"num_of_like\", \"num_of_retweet\",\n",
    "                                                        \"num_of_followers\", \"num_of_reply\"])\n",
    "\n",
    "weather_tweets_2023.to_csv(\"Irish weather tweets in 2023.csv\")"
   ]
  },
  {
   "cell_type": "code",
   "execution_count": null,
   "id": "a716370d",
   "metadata": {},
   "outputs": [],
   "source": []
  }
 ],
 "metadata": {
  "kernelspec": {
   "display_name": "Python 3 (ipykernel)",
   "language": "python",
   "name": "python3"
  },
  "language_info": {
   "codemirror_mode": {
    "name": "ipython",
    "version": 3
   },
   "file_extension": ".py",
   "mimetype": "text/x-python",
   "name": "python",
   "nbconvert_exporter": "python",
   "pygments_lexer": "ipython3",
   "version": "3.10.6"
  }
 },
 "nbformat": 4,
 "nbformat_minor": 5
}
